{
 "cells": [
  {
   "cell_type": "markdown",
   "id": "9c182725",
   "metadata": {
    "papermill": {
     "duration": 0.031196,
     "end_time": "2023-02-12T16:53:29.570546",
     "exception": false,
     "start_time": "2023-02-12T16:53:29.539350",
     "status": "completed"
    },
    "tags": []
   },
   "source": [
    "### Problem statement"
   ]
  },
  {
   "cell_type": "markdown",
   "id": "329fbed1",
   "metadata": {
    "papermill": {
     "duration": 0.023127,
     "end_time": "2023-02-12T16:53:29.618315",
     "exception": false,
     "start_time": "2023-02-12T16:53:29.595188",
     "status": "completed"
    },
    "tags": []
   },
   "source": [
    "In the telecommunication industry, customers tend to change operators if not provided with attractive schemes and offers. It is very important for any telecom operator to prevent the present customers from churning to other operators. As a data scientist, your task in this case study would be to build an ML model which can predict if the customer will churn or not in a particular month based on the past data.\n",
    "\n",
    "Out of potential churning customer, retaining those customer who generates high revenue is main business goal here."
   ]
  },
  {
   "cell_type": "markdown",
   "id": "0001a5f5",
   "metadata": {
    "papermill": {
     "duration": 0.022719,
     "end_time": "2023-02-12T16:53:29.664821",
     "exception": false,
     "start_time": "2023-02-12T16:53:29.642102",
     "status": "completed"
    },
    "tags": []
   },
   "source": [
    "#### Steps will be as follow:-\n",
    "\n",
    "1. Data understanding, preparation & pre-processing\n",
    "2. EDA\n",
    "3. Feature engineering and variable transformation\n",
    "4. Train/Test Split\n",
    "5. Model evaluation\n",
    "6. Model selection, model training, Prediction\n",
    "7. Model improvement"
   ]
  },
  {
   "cell_type": "markdown",
   "id": "211fdc63",
   "metadata": {
    "papermill": {
     "duration": 0.024177,
     "end_time": "2023-02-12T16:53:29.712576",
     "exception": false,
     "start_time": "2023-02-12T16:53:29.688399",
     "status": "completed"
    },
    "tags": []
   },
   "source": [
    "#### 1. Data collection"
   ]
  },
  {
   "cell_type": "code",
   "execution_count": 1,
   "id": "6256e523",
   "metadata": {
    "execution": {
     "iopub.execute_input": "2023-02-12T16:53:29.762142Z",
     "iopub.status.busy": "2023-02-12T16:53:29.761402Z",
     "iopub.status.idle": "2023-02-12T16:53:31.057790Z",
     "shell.execute_reply": "2023-02-12T16:53:31.056366Z"
    },
    "papermill": {
     "duration": 1.325426,
     "end_time": "2023-02-12T16:53:31.061308",
     "exception": false,
     "start_time": "2023-02-12T16:53:29.735882",
     "status": "completed"
    },
    "tags": []
   },
   "outputs": [],
   "source": [
    "# Importing libraries\n",
    "import pandas as pd\n",
    "import numpy as np\n",
    "\n",
    "import seaborn as sns\n",
    "import matplotlib.pyplot as plt \n",
    "%matplotlib inline\n",
    "\n",
    "import warnings\n",
    "warnings.filterwarnings('ignore')"
   ]
  },
  {
   "cell_type": "code",
   "execution_count": 2,
   "id": "d534f6c6",
   "metadata": {
    "execution": {
     "iopub.execute_input": "2023-02-12T16:53:31.111692Z",
     "iopub.status.busy": "2023-02-12T16:53:31.111225Z",
     "iopub.status.idle": "2023-02-12T16:53:31.764910Z",
     "shell.execute_reply": "2023-02-12T16:53:31.763409Z"
    },
    "papermill": {
     "duration": 0.682968,
     "end_time": "2023-02-12T16:53:31.768182",
     "exception": false,
     "start_time": "2023-02-12T16:53:31.085214",
     "status": "completed"
    },
    "tags": []
   },
   "outputs": [],
   "source": [
    "# Importing model related libs\n",
    "from imblearn.over_sampling import SMOTE\n",
    "from sklearn import preprocessing\n",
    "from sklearn.model_selection import train_test_split\n",
    "import itertools\n",
    "from sklearn.model_selection import GridSearchCV\n",
    "from sklearn.tree import DecisionTreeClassifier\n",
    "from sklearn.metrics import auc, roc_curve\n",
    "from sklearn.metrics import confusion_matrix\n",
    "from sklearn.model_selection import RandomizedSearchCV\n",
    "from sklearn.ensemble import RandomForestClassifier\n",
    "from sklearn import metrics\n",
    "\n",
    "#Import PCA\n",
    "from sklearn.decomposition import PCA "
   ]
  },
  {
   "cell_type": "code",
   "execution_count": 3,
   "id": "96aed340",
   "metadata": {
    "execution": {
     "iopub.execute_input": "2023-02-12T16:53:31.818267Z",
     "iopub.status.busy": "2023-02-12T16:53:31.817775Z",
     "iopub.status.idle": "2023-02-12T16:53:34.089377Z",
     "shell.execute_reply": "2023-02-12T16:53:34.088141Z"
    },
    "papermill": {
     "duration": 2.300439,
     "end_time": "2023-02-12T16:53:34.092561",
     "exception": false,
     "start_time": "2023-02-12T16:53:31.792122",
     "status": "completed"
    },
    "tags": []
   },
   "outputs": [],
   "source": [
    "# Reading dataset\n",
    "raw_df = pd.read_csv('/kaggle/input/telecom-churn-case-study-hackathon-c44/train.csv')"
   ]
  },
  {
   "cell_type": "markdown",
   "id": "c1821441",
   "metadata": {
    "papermill": {
     "duration": 0.02338,
     "end_time": "2023-02-12T16:53:34.140827",
     "exception": false,
     "start_time": "2023-02-12T16:53:34.117447",
     "status": "completed"
    },
    "tags": []
   },
   "source": [
    "#### 2. Data understanding, preparation & pre-processing"
   ]
  },
  {
   "cell_type": "code",
   "execution_count": 4,
   "id": "70fca6a1",
   "metadata": {
    "execution": {
     "iopub.execute_input": "2023-02-12T16:53:34.193966Z",
     "iopub.status.busy": "2023-02-12T16:53:34.193386Z",
     "iopub.status.idle": "2023-02-12T16:53:34.238084Z",
     "shell.execute_reply": "2023-02-12T16:53:34.236456Z"
    },
    "papermill": {
     "duration": 0.074715,
     "end_time": "2023-02-12T16:53:34.241025",
     "exception": false,
     "start_time": "2023-02-12T16:53:34.166310",
     "status": "completed"
    },
    "tags": []
   },
   "outputs": [
    {
     "data": {
      "text/html": [
       "<div>\n",
       "<style scoped>\n",
       "    .dataframe tbody tr th:only-of-type {\n",
       "        vertical-align: middle;\n",
       "    }\n",
       "\n",
       "    .dataframe tbody tr th {\n",
       "        vertical-align: top;\n",
       "    }\n",
       "\n",
       "    .dataframe thead th {\n",
       "        text-align: right;\n",
       "    }\n",
       "</style>\n",
       "<table border=\"1\" class=\"dataframe\">\n",
       "  <thead>\n",
       "    <tr style=\"text-align: right;\">\n",
       "      <th></th>\n",
       "      <th>id</th>\n",
       "      <th>circle_id</th>\n",
       "      <th>loc_og_t2o_mou</th>\n",
       "      <th>std_og_t2o_mou</th>\n",
       "      <th>loc_ic_t2o_mou</th>\n",
       "      <th>last_date_of_month_6</th>\n",
       "      <th>last_date_of_month_7</th>\n",
       "      <th>last_date_of_month_8</th>\n",
       "      <th>arpu_6</th>\n",
       "      <th>arpu_7</th>\n",
       "      <th>...</th>\n",
       "      <th>sachet_3g_7</th>\n",
       "      <th>sachet_3g_8</th>\n",
       "      <th>fb_user_6</th>\n",
       "      <th>fb_user_7</th>\n",
       "      <th>fb_user_8</th>\n",
       "      <th>aon</th>\n",
       "      <th>aug_vbc_3g</th>\n",
       "      <th>jul_vbc_3g</th>\n",
       "      <th>jun_vbc_3g</th>\n",
       "      <th>churn_probability</th>\n",
       "    </tr>\n",
       "  </thead>\n",
       "  <tbody>\n",
       "    <tr>\n",
       "      <th>0</th>\n",
       "      <td>0</td>\n",
       "      <td>109</td>\n",
       "      <td>0.0</td>\n",
       "      <td>0.0</td>\n",
       "      <td>0.0</td>\n",
       "      <td>6/30/2014</td>\n",
       "      <td>7/31/2014</td>\n",
       "      <td>8/31/2014</td>\n",
       "      <td>31.277</td>\n",
       "      <td>87.009</td>\n",
       "      <td>...</td>\n",
       "      <td>0</td>\n",
       "      <td>0</td>\n",
       "      <td>NaN</td>\n",
       "      <td>NaN</td>\n",
       "      <td>NaN</td>\n",
       "      <td>1958</td>\n",
       "      <td>0.0</td>\n",
       "      <td>0.0</td>\n",
       "      <td>0.0</td>\n",
       "      <td>0</td>\n",
       "    </tr>\n",
       "    <tr>\n",
       "      <th>1</th>\n",
       "      <td>1</td>\n",
       "      <td>109</td>\n",
       "      <td>0.0</td>\n",
       "      <td>0.0</td>\n",
       "      <td>0.0</td>\n",
       "      <td>6/30/2014</td>\n",
       "      <td>7/31/2014</td>\n",
       "      <td>8/31/2014</td>\n",
       "      <td>0.000</td>\n",
       "      <td>122.787</td>\n",
       "      <td>...</td>\n",
       "      <td>0</td>\n",
       "      <td>0</td>\n",
       "      <td>NaN</td>\n",
       "      <td>1.0</td>\n",
       "      <td>NaN</td>\n",
       "      <td>710</td>\n",
       "      <td>0.0</td>\n",
       "      <td>0.0</td>\n",
       "      <td>0.0</td>\n",
       "      <td>0</td>\n",
       "    </tr>\n",
       "    <tr>\n",
       "      <th>2</th>\n",
       "      <td>2</td>\n",
       "      <td>109</td>\n",
       "      <td>0.0</td>\n",
       "      <td>0.0</td>\n",
       "      <td>0.0</td>\n",
       "      <td>6/30/2014</td>\n",
       "      <td>7/31/2014</td>\n",
       "      <td>8/31/2014</td>\n",
       "      <td>60.806</td>\n",
       "      <td>103.176</td>\n",
       "      <td>...</td>\n",
       "      <td>0</td>\n",
       "      <td>0</td>\n",
       "      <td>NaN</td>\n",
       "      <td>NaN</td>\n",
       "      <td>NaN</td>\n",
       "      <td>882</td>\n",
       "      <td>0.0</td>\n",
       "      <td>0.0</td>\n",
       "      <td>0.0</td>\n",
       "      <td>0</td>\n",
       "    </tr>\n",
       "    <tr>\n",
       "      <th>3</th>\n",
       "      <td>3</td>\n",
       "      <td>109</td>\n",
       "      <td>0.0</td>\n",
       "      <td>0.0</td>\n",
       "      <td>0.0</td>\n",
       "      <td>6/30/2014</td>\n",
       "      <td>7/31/2014</td>\n",
       "      <td>8/31/2014</td>\n",
       "      <td>156.362</td>\n",
       "      <td>205.260</td>\n",
       "      <td>...</td>\n",
       "      <td>0</td>\n",
       "      <td>0</td>\n",
       "      <td>NaN</td>\n",
       "      <td>NaN</td>\n",
       "      <td>NaN</td>\n",
       "      <td>982</td>\n",
       "      <td>0.0</td>\n",
       "      <td>0.0</td>\n",
       "      <td>0.0</td>\n",
       "      <td>0</td>\n",
       "    </tr>\n",
       "    <tr>\n",
       "      <th>4</th>\n",
       "      <td>4</td>\n",
       "      <td>109</td>\n",
       "      <td>0.0</td>\n",
       "      <td>0.0</td>\n",
       "      <td>0.0</td>\n",
       "      <td>6/30/2014</td>\n",
       "      <td>7/31/2014</td>\n",
       "      <td>8/31/2014</td>\n",
       "      <td>240.708</td>\n",
       "      <td>128.191</td>\n",
       "      <td>...</td>\n",
       "      <td>1</td>\n",
       "      <td>0</td>\n",
       "      <td>1.0</td>\n",
       "      <td>1.0</td>\n",
       "      <td>1.0</td>\n",
       "      <td>647</td>\n",
       "      <td>0.0</td>\n",
       "      <td>0.0</td>\n",
       "      <td>0.0</td>\n",
       "      <td>0</td>\n",
       "    </tr>\n",
       "  </tbody>\n",
       "</table>\n",
       "<p>5 rows × 172 columns</p>\n",
       "</div>"
      ],
      "text/plain": [
       "   id  circle_id  loc_og_t2o_mou  std_og_t2o_mou  loc_ic_t2o_mou  \\\n",
       "0   0        109             0.0             0.0             0.0   \n",
       "1   1        109             0.0             0.0             0.0   \n",
       "2   2        109             0.0             0.0             0.0   \n",
       "3   3        109             0.0             0.0             0.0   \n",
       "4   4        109             0.0             0.0             0.0   \n",
       "\n",
       "  last_date_of_month_6 last_date_of_month_7 last_date_of_month_8   arpu_6  \\\n",
       "0            6/30/2014            7/31/2014            8/31/2014   31.277   \n",
       "1            6/30/2014            7/31/2014            8/31/2014    0.000   \n",
       "2            6/30/2014            7/31/2014            8/31/2014   60.806   \n",
       "3            6/30/2014            7/31/2014            8/31/2014  156.362   \n",
       "4            6/30/2014            7/31/2014            8/31/2014  240.708   \n",
       "\n",
       "    arpu_7  ...  sachet_3g_7  sachet_3g_8  fb_user_6  fb_user_7  fb_user_8  \\\n",
       "0   87.009  ...            0            0        NaN        NaN        NaN   \n",
       "1  122.787  ...            0            0        NaN        1.0        NaN   \n",
       "2  103.176  ...            0            0        NaN        NaN        NaN   \n",
       "3  205.260  ...            0            0        NaN        NaN        NaN   \n",
       "4  128.191  ...            1            0        1.0        1.0        1.0   \n",
       "\n",
       "    aon  aug_vbc_3g  jul_vbc_3g  jun_vbc_3g  churn_probability  \n",
       "0  1958         0.0         0.0         0.0                  0  \n",
       "1   710         0.0         0.0         0.0                  0  \n",
       "2   882         0.0         0.0         0.0                  0  \n",
       "3   982         0.0         0.0         0.0                  0  \n",
       "4   647         0.0         0.0         0.0                  0  \n",
       "\n",
       "[5 rows x 172 columns]"
      ]
     },
     "execution_count": 4,
     "metadata": {},
     "output_type": "execute_result"
    }
   ],
   "source": [
    "raw_df.head()"
   ]
  },
  {
   "cell_type": "markdown",
   "id": "10dd56cf",
   "metadata": {
    "papermill": {
     "duration": 0.02465,
     "end_time": "2023-02-12T16:53:34.289859",
     "exception": false,
     "start_time": "2023-02-12T16:53:34.265209",
     "status": "completed"
    },
    "tags": []
   },
   "source": [
    "##### Let's understand the data structure, columns and data types."
   ]
  },
  {
   "cell_type": "code",
   "execution_count": 5,
   "id": "1c8535e3",
   "metadata": {
    "execution": {
     "iopub.execute_input": "2023-02-12T16:53:34.340896Z",
     "iopub.status.busy": "2023-02-12T16:53:34.339646Z",
     "iopub.status.idle": "2023-02-12T16:53:34.347861Z",
     "shell.execute_reply": "2023-02-12T16:53:34.346745Z"
    },
    "papermill": {
     "duration": 0.036652,
     "end_time": "2023-02-12T16:53:34.350567",
     "exception": false,
     "start_time": "2023-02-12T16:53:34.313915",
     "status": "completed"
    },
    "tags": []
   },
   "outputs": [
    {
     "data": {
      "text/plain": [
       "(69999, 172)"
      ]
     },
     "execution_count": 5,
     "metadata": {},
     "output_type": "execute_result"
    }
   ],
   "source": [
    "raw_df.shape"
   ]
  },
  {
   "cell_type": "code",
   "execution_count": 6,
   "id": "a6373c7c",
   "metadata": {
    "execution": {
     "iopub.execute_input": "2023-02-12T16:53:34.403522Z",
     "iopub.status.busy": "2023-02-12T16:53:34.402544Z",
     "iopub.status.idle": "2023-02-12T16:53:34.411890Z",
     "shell.execute_reply": "2023-02-12T16:53:34.410601Z"
    },
    "papermill": {
     "duration": 0.038706,
     "end_time": "2023-02-12T16:53:34.414713",
     "exception": false,
     "start_time": "2023-02-12T16:53:34.376007",
     "status": "completed"
    },
    "tags": []
   },
   "outputs": [
    {
     "data": {
      "text/plain": [
       "array(['id', 'circle_id', 'loc_og_t2o_mou', 'std_og_t2o_mou',\n",
       "       'loc_ic_t2o_mou', 'last_date_of_month_6', 'last_date_of_month_7',\n",
       "       'last_date_of_month_8', 'arpu_6', 'arpu_7', 'arpu_8',\n",
       "       'onnet_mou_6', 'onnet_mou_7', 'onnet_mou_8', 'offnet_mou_6',\n",
       "       'offnet_mou_7', 'offnet_mou_8', 'roam_ic_mou_6', 'roam_ic_mou_7',\n",
       "       'roam_ic_mou_8', 'roam_og_mou_6', 'roam_og_mou_7', 'roam_og_mou_8',\n",
       "       'loc_og_t2t_mou_6', 'loc_og_t2t_mou_7', 'loc_og_t2t_mou_8',\n",
       "       'loc_og_t2m_mou_6', 'loc_og_t2m_mou_7', 'loc_og_t2m_mou_8',\n",
       "       'loc_og_t2f_mou_6', 'loc_og_t2f_mou_7', 'loc_og_t2f_mou_8',\n",
       "       'loc_og_t2c_mou_6', 'loc_og_t2c_mou_7', 'loc_og_t2c_mou_8',\n",
       "       'loc_og_mou_6', 'loc_og_mou_7', 'loc_og_mou_8', 'std_og_t2t_mou_6',\n",
       "       'std_og_t2t_mou_7', 'std_og_t2t_mou_8', 'std_og_t2m_mou_6',\n",
       "       'std_og_t2m_mou_7', 'std_og_t2m_mou_8', 'std_og_t2f_mou_6',\n",
       "       'std_og_t2f_mou_7', 'std_og_t2f_mou_8', 'std_og_t2c_mou_6',\n",
       "       'std_og_t2c_mou_7', 'std_og_t2c_mou_8', 'std_og_mou_6',\n",
       "       'std_og_mou_7', 'std_og_mou_8', 'isd_og_mou_6', 'isd_og_mou_7',\n",
       "       'isd_og_mou_8', 'spl_og_mou_6', 'spl_og_mou_7', 'spl_og_mou_8',\n",
       "       'og_others_6', 'og_others_7', 'og_others_8', 'total_og_mou_6',\n",
       "       'total_og_mou_7', 'total_og_mou_8', 'loc_ic_t2t_mou_6',\n",
       "       'loc_ic_t2t_mou_7', 'loc_ic_t2t_mou_8', 'loc_ic_t2m_mou_6',\n",
       "       'loc_ic_t2m_mou_7', 'loc_ic_t2m_mou_8', 'loc_ic_t2f_mou_6',\n",
       "       'loc_ic_t2f_mou_7', 'loc_ic_t2f_mou_8', 'loc_ic_mou_6',\n",
       "       'loc_ic_mou_7', 'loc_ic_mou_8', 'std_ic_t2t_mou_6',\n",
       "       'std_ic_t2t_mou_7', 'std_ic_t2t_mou_8', 'std_ic_t2m_mou_6',\n",
       "       'std_ic_t2m_mou_7', 'std_ic_t2m_mou_8', 'std_ic_t2f_mou_6',\n",
       "       'std_ic_t2f_mou_7', 'std_ic_t2f_mou_8', 'std_ic_t2o_mou_6',\n",
       "       'std_ic_t2o_mou_7', 'std_ic_t2o_mou_8', 'std_ic_mou_6',\n",
       "       'std_ic_mou_7', 'std_ic_mou_8', 'total_ic_mou_6', 'total_ic_mou_7',\n",
       "       'total_ic_mou_8', 'spl_ic_mou_6', 'spl_ic_mou_7', 'spl_ic_mou_8',\n",
       "       'isd_ic_mou_6', 'isd_ic_mou_7', 'isd_ic_mou_8', 'ic_others_6',\n",
       "       'ic_others_7', 'ic_others_8', 'total_rech_num_6',\n",
       "       'total_rech_num_7', 'total_rech_num_8', 'total_rech_amt_6',\n",
       "       'total_rech_amt_7', 'total_rech_amt_8', 'max_rech_amt_6',\n",
       "       'max_rech_amt_7', 'max_rech_amt_8', 'date_of_last_rech_6',\n",
       "       'date_of_last_rech_7', 'date_of_last_rech_8', 'last_day_rch_amt_6',\n",
       "       'last_day_rch_amt_7', 'last_day_rch_amt_8',\n",
       "       'date_of_last_rech_data_6', 'date_of_last_rech_data_7',\n",
       "       'date_of_last_rech_data_8', 'total_rech_data_6',\n",
       "       'total_rech_data_7', 'total_rech_data_8', 'max_rech_data_6',\n",
       "       'max_rech_data_7', 'max_rech_data_8', 'count_rech_2g_6',\n",
       "       'count_rech_2g_7', 'count_rech_2g_8', 'count_rech_3g_6',\n",
       "       'count_rech_3g_7', 'count_rech_3g_8', 'av_rech_amt_data_6',\n",
       "       'av_rech_amt_data_7', 'av_rech_amt_data_8', 'vol_2g_mb_6',\n",
       "       'vol_2g_mb_7', 'vol_2g_mb_8', 'vol_3g_mb_6', 'vol_3g_mb_7',\n",
       "       'vol_3g_mb_8', 'arpu_3g_6', 'arpu_3g_7', 'arpu_3g_8', 'arpu_2g_6',\n",
       "       'arpu_2g_7', 'arpu_2g_8', 'night_pck_user_6', 'night_pck_user_7',\n",
       "       'night_pck_user_8', 'monthly_2g_6', 'monthly_2g_7', 'monthly_2g_8',\n",
       "       'sachet_2g_6', 'sachet_2g_7', 'sachet_2g_8', 'monthly_3g_6',\n",
       "       'monthly_3g_7', 'monthly_3g_8', 'sachet_3g_6', 'sachet_3g_7',\n",
       "       'sachet_3g_8', 'fb_user_6', 'fb_user_7', 'fb_user_8', 'aon',\n",
       "       'aug_vbc_3g', 'jul_vbc_3g', 'jun_vbc_3g', 'churn_probability'],\n",
       "      dtype=object)"
      ]
     },
     "execution_count": 6,
     "metadata": {},
     "output_type": "execute_result"
    }
   ],
   "source": [
    "raw_df.columns.values"
   ]
  },
  {
   "cell_type": "code",
   "execution_count": 7,
   "id": "c80bd34b",
   "metadata": {
    "execution": {
     "iopub.execute_input": "2023-02-12T16:53:34.467009Z",
     "iopub.status.busy": "2023-02-12T16:53:34.466405Z",
     "iopub.status.idle": "2023-02-12T16:53:34.477824Z",
     "shell.execute_reply": "2023-02-12T16:53:34.475765Z"
    },
    "papermill": {
     "duration": 0.041135,
     "end_time": "2023-02-12T16:53:34.480591",
     "exception": false,
     "start_time": "2023-02-12T16:53:34.439456",
     "status": "completed"
    },
    "tags": []
   },
   "outputs": [
    {
     "data": {
      "text/plain": [
       "id                     int64\n",
       "circle_id              int64\n",
       "loc_og_t2o_mou       float64\n",
       "std_og_t2o_mou       float64\n",
       "loc_ic_t2o_mou       float64\n",
       "                      ...   \n",
       "aon                    int64\n",
       "aug_vbc_3g           float64\n",
       "jul_vbc_3g           float64\n",
       "jun_vbc_3g           float64\n",
       "churn_probability      int64\n",
       "Length: 172, dtype: object"
      ]
     },
     "execution_count": 7,
     "metadata": {},
     "output_type": "execute_result"
    }
   ],
   "source": [
    "raw_df.dtypes"
   ]
  },
  {
   "cell_type": "code",
   "execution_count": 8,
   "id": "c5cf2d6b",
   "metadata": {
    "execution": {
     "iopub.execute_input": "2023-02-12T16:53:34.531927Z",
     "iopub.status.busy": "2023-02-12T16:53:34.531340Z",
     "iopub.status.idle": "2023-02-12T16:53:34.569588Z",
     "shell.execute_reply": "2023-02-12T16:53:34.566873Z"
    },
    "papermill": {
     "duration": 0.068292,
     "end_time": "2023-02-12T16:53:34.573250",
     "exception": false,
     "start_time": "2023-02-12T16:53:34.504958",
     "status": "completed"
    },
    "tags": []
   },
   "outputs": [
    {
     "name": "stdout",
     "output_type": "stream",
     "text": [
      "<class 'pandas.core.frame.DataFrame'>\n",
      "RangeIndex: 69999 entries, 0 to 69998\n",
      "Columns: 172 entries, id to churn_probability\n",
      "dtypes: float64(135), int64(28), object(9)\n",
      "memory usage: 91.9+ MB\n"
     ]
    }
   ],
   "source": [
    "raw_df.info()"
   ]
  },
  {
   "cell_type": "code",
   "execution_count": 9,
   "id": "100f62f3",
   "metadata": {
    "execution": {
     "iopub.execute_input": "2023-02-12T16:53:34.627136Z",
     "iopub.status.busy": "2023-02-12T16:53:34.626672Z",
     "iopub.status.idle": "2023-02-12T16:53:34.688427Z",
     "shell.execute_reply": "2023-02-12T16:53:34.686837Z"
    },
    "papermill": {
     "duration": 0.091267,
     "end_time": "2023-02-12T16:53:34.691261",
     "exception": false,
     "start_time": "2023-02-12T16:53:34.599994",
     "status": "completed"
    },
    "tags": []
   },
   "outputs": [
    {
     "data": {
      "text/plain": [
       "arpu_3g_6                   52431\n",
       "count_rech_2g_6             52431\n",
       "night_pck_user_6            52431\n",
       "arpu_2g_6                   52431\n",
       "date_of_last_rech_data_6    52431\n",
       "                            ...  \n",
       "last_day_rch_amt_8              0\n",
       "vol_2g_mb_6                     0\n",
       "vol_2g_mb_7                     0\n",
       "vol_2g_mb_8                     0\n",
       "churn_probability               0\n",
       "Length: 172, dtype: int64"
      ]
     },
     "execution_count": 9,
     "metadata": {},
     "output_type": "execute_result"
    }
   ],
   "source": [
    "raw_df.isnull().sum().sort_values(ascending=False)"
   ]
  },
  {
   "cell_type": "code",
   "execution_count": 10,
   "id": "77acdf1f",
   "metadata": {
    "execution": {
     "iopub.execute_input": "2023-02-12T16:53:34.743518Z",
     "iopub.status.busy": "2023-02-12T16:53:34.742991Z",
     "iopub.status.idle": "2023-02-12T16:53:34.806044Z",
     "shell.execute_reply": "2023-02-12T16:53:34.804695Z"
    },
    "papermill": {
     "duration": 0.093953,
     "end_time": "2023-02-12T16:53:34.809777",
     "exception": false,
     "start_time": "2023-02-12T16:53:34.715824",
     "status": "completed"
    },
    "tags": []
   },
   "outputs": [
    {
     "data": {
      "text/plain": [
       "30"
      ]
     },
     "execution_count": 10,
     "metadata": {},
     "output_type": "execute_result"
    }
   ],
   "source": [
    "# Handling null/missing values (in percent)\n",
    "df_missing_cols = (round(((raw_df.isnull().sum()/len(raw_df.index))*100),2).to_frame('null')).sort_values('null', ascending=False)\n",
    "\n",
    "#List all those columns which have signficant null entry (random set more than 60%)\n",
    "col_list_missing_60 = list(df_missing_cols.index[df_missing_cols['null'] > 60])\n",
    "len(col_list_missing_60)"
   ]
  },
  {
   "cell_type": "markdown",
   "id": "6b6d1795",
   "metadata": {
    "papermill": {
     "duration": 0.026918,
     "end_time": "2023-02-12T16:53:34.862153",
     "exception": false,
     "start_time": "2023-02-12T16:53:34.835235",
     "status": "completed"
    },
    "tags": []
   },
   "source": [
    "### Data Cleaning"
   ]
  },
  {
   "cell_type": "markdown",
   "id": "794566c3",
   "metadata": {
    "papermill": {
     "duration": 0.02542,
     "end_time": "2023-02-12T16:53:34.915172",
     "exception": false,
     "start_time": "2023-02-12T16:53:34.889752",
     "status": "completed"
    },
    "tags": []
   },
   "source": [
    "##### Droping columns which can be noise in this analysis"
   ]
  },
  {
   "cell_type": "code",
   "execution_count": 11,
   "id": "8798e669",
   "metadata": {
    "execution": {
     "iopub.execute_input": "2023-02-12T16:53:34.968570Z",
     "iopub.status.busy": "2023-02-12T16:53:34.968064Z",
     "iopub.status.idle": "2023-02-12T16:53:35.129025Z",
     "shell.execute_reply": "2023-02-12T16:53:35.127397Z"
    },
    "papermill": {
     "duration": 0.190806,
     "end_time": "2023-02-12T16:53:35.132103",
     "exception": false,
     "start_time": "2023-02-12T16:53:34.941297",
     "status": "completed"
    },
    "tags": []
   },
   "outputs": [
    {
     "data": {
      "text/html": [
       "<div>\n",
       "<style scoped>\n",
       "    .dataframe tbody tr th:only-of-type {\n",
       "        vertical-align: middle;\n",
       "    }\n",
       "\n",
       "    .dataframe tbody tr th {\n",
       "        vertical-align: top;\n",
       "    }\n",
       "\n",
       "    .dataframe thead th {\n",
       "        text-align: right;\n",
       "    }\n",
       "</style>\n",
       "<table border=\"1\" class=\"dataframe\">\n",
       "  <thead>\n",
       "    <tr style=\"text-align: right;\">\n",
       "      <th></th>\n",
       "      <th>id</th>\n",
       "      <th>circle_id</th>\n",
       "      <th>loc_og_t2o_mou</th>\n",
       "      <th>std_og_t2o_mou</th>\n",
       "      <th>loc_ic_t2o_mou</th>\n",
       "      <th>last_date_of_month_6</th>\n",
       "      <th>last_date_of_month_7</th>\n",
       "      <th>last_date_of_month_8</th>\n",
       "      <th>arpu_6</th>\n",
       "      <th>arpu_7</th>\n",
       "      <th>...</th>\n",
       "      <th>monthly_3g_7</th>\n",
       "      <th>monthly_3g_8</th>\n",
       "      <th>sachet_3g_6</th>\n",
       "      <th>sachet_3g_7</th>\n",
       "      <th>sachet_3g_8</th>\n",
       "      <th>aon</th>\n",
       "      <th>aug_vbc_3g</th>\n",
       "      <th>jul_vbc_3g</th>\n",
       "      <th>jun_vbc_3g</th>\n",
       "      <th>churn_probability</th>\n",
       "    </tr>\n",
       "  </thead>\n",
       "  <tbody>\n",
       "    <tr>\n",
       "      <th>0</th>\n",
       "      <td>0</td>\n",
       "      <td>109</td>\n",
       "      <td>0.0</td>\n",
       "      <td>0.0</td>\n",
       "      <td>0.0</td>\n",
       "      <td>6/30/2014</td>\n",
       "      <td>7/31/2014</td>\n",
       "      <td>8/31/2014</td>\n",
       "      <td>31.277</td>\n",
       "      <td>87.009</td>\n",
       "      <td>...</td>\n",
       "      <td>0</td>\n",
       "      <td>0</td>\n",
       "      <td>0</td>\n",
       "      <td>0</td>\n",
       "      <td>0</td>\n",
       "      <td>1958</td>\n",
       "      <td>0.0</td>\n",
       "      <td>0.0</td>\n",
       "      <td>0.0</td>\n",
       "      <td>0</td>\n",
       "    </tr>\n",
       "    <tr>\n",
       "      <th>1</th>\n",
       "      <td>1</td>\n",
       "      <td>109</td>\n",
       "      <td>0.0</td>\n",
       "      <td>0.0</td>\n",
       "      <td>0.0</td>\n",
       "      <td>6/30/2014</td>\n",
       "      <td>7/31/2014</td>\n",
       "      <td>8/31/2014</td>\n",
       "      <td>0.000</td>\n",
       "      <td>122.787</td>\n",
       "      <td>...</td>\n",
       "      <td>1</td>\n",
       "      <td>0</td>\n",
       "      <td>0</td>\n",
       "      <td>0</td>\n",
       "      <td>0</td>\n",
       "      <td>710</td>\n",
       "      <td>0.0</td>\n",
       "      <td>0.0</td>\n",
       "      <td>0.0</td>\n",
       "      <td>0</td>\n",
       "    </tr>\n",
       "    <tr>\n",
       "      <th>2</th>\n",
       "      <td>2</td>\n",
       "      <td>109</td>\n",
       "      <td>0.0</td>\n",
       "      <td>0.0</td>\n",
       "      <td>0.0</td>\n",
       "      <td>6/30/2014</td>\n",
       "      <td>7/31/2014</td>\n",
       "      <td>8/31/2014</td>\n",
       "      <td>60.806</td>\n",
       "      <td>103.176</td>\n",
       "      <td>...</td>\n",
       "      <td>0</td>\n",
       "      <td>0</td>\n",
       "      <td>0</td>\n",
       "      <td>0</td>\n",
       "      <td>0</td>\n",
       "      <td>882</td>\n",
       "      <td>0.0</td>\n",
       "      <td>0.0</td>\n",
       "      <td>0.0</td>\n",
       "      <td>0</td>\n",
       "    </tr>\n",
       "    <tr>\n",
       "      <th>3</th>\n",
       "      <td>3</td>\n",
       "      <td>109</td>\n",
       "      <td>0.0</td>\n",
       "      <td>0.0</td>\n",
       "      <td>0.0</td>\n",
       "      <td>6/30/2014</td>\n",
       "      <td>7/31/2014</td>\n",
       "      <td>8/31/2014</td>\n",
       "      <td>156.362</td>\n",
       "      <td>205.260</td>\n",
       "      <td>...</td>\n",
       "      <td>0</td>\n",
       "      <td>0</td>\n",
       "      <td>0</td>\n",
       "      <td>0</td>\n",
       "      <td>0</td>\n",
       "      <td>982</td>\n",
       "      <td>0.0</td>\n",
       "      <td>0.0</td>\n",
       "      <td>0.0</td>\n",
       "      <td>0</td>\n",
       "    </tr>\n",
       "    <tr>\n",
       "      <th>4</th>\n",
       "      <td>4</td>\n",
       "      <td>109</td>\n",
       "      <td>0.0</td>\n",
       "      <td>0.0</td>\n",
       "      <td>0.0</td>\n",
       "      <td>6/30/2014</td>\n",
       "      <td>7/31/2014</td>\n",
       "      <td>8/31/2014</td>\n",
       "      <td>240.708</td>\n",
       "      <td>128.191</td>\n",
       "      <td>...</td>\n",
       "      <td>0</td>\n",
       "      <td>0</td>\n",
       "      <td>0</td>\n",
       "      <td>1</td>\n",
       "      <td>0</td>\n",
       "      <td>647</td>\n",
       "      <td>0.0</td>\n",
       "      <td>0.0</td>\n",
       "      <td>0.0</td>\n",
       "      <td>0</td>\n",
       "    </tr>\n",
       "  </tbody>\n",
       "</table>\n",
       "<p>5 rows × 142 columns</p>\n",
       "</div>"
      ],
      "text/plain": [
       "   id  circle_id  loc_og_t2o_mou  std_og_t2o_mou  loc_ic_t2o_mou  \\\n",
       "0   0        109             0.0             0.0             0.0   \n",
       "1   1        109             0.0             0.0             0.0   \n",
       "2   2        109             0.0             0.0             0.0   \n",
       "3   3        109             0.0             0.0             0.0   \n",
       "4   4        109             0.0             0.0             0.0   \n",
       "\n",
       "  last_date_of_month_6 last_date_of_month_7 last_date_of_month_8   arpu_6  \\\n",
       "0            6/30/2014            7/31/2014            8/31/2014   31.277   \n",
       "1            6/30/2014            7/31/2014            8/31/2014    0.000   \n",
       "2            6/30/2014            7/31/2014            8/31/2014   60.806   \n",
       "3            6/30/2014            7/31/2014            8/31/2014  156.362   \n",
       "4            6/30/2014            7/31/2014            8/31/2014  240.708   \n",
       "\n",
       "    arpu_7  ...  monthly_3g_7  monthly_3g_8  sachet_3g_6  sachet_3g_7  \\\n",
       "0   87.009  ...             0             0            0            0   \n",
       "1  122.787  ...             1             0            0            0   \n",
       "2  103.176  ...             0             0            0            0   \n",
       "3  205.260  ...             0             0            0            0   \n",
       "4  128.191  ...             0             0            0            1   \n",
       "\n",
       "   sachet_3g_8   aon  aug_vbc_3g  jul_vbc_3g  jun_vbc_3g  churn_probability  \n",
       "0            0  1958         0.0         0.0         0.0                  0  \n",
       "1            0   710         0.0         0.0         0.0                  0  \n",
       "2            0   882         0.0         0.0         0.0                  0  \n",
       "3            0   982         0.0         0.0         0.0                  0  \n",
       "4            0   647         0.0         0.0         0.0                  0  \n",
       "\n",
       "[5 rows x 142 columns]"
      ]
     },
     "execution_count": 11,
     "metadata": {},
     "output_type": "execute_result"
    }
   ],
   "source": [
    "# dropping all columns which are more values with empty\n",
    "clean_df = raw_df.drop(col_list_missing_60, axis=1)\n",
    "#Removing missing values \n",
    "clean_df.dropna(inplace = True)\n",
    "clean_df.head()"
   ]
  },
  {
   "cell_type": "code",
   "execution_count": 12,
   "id": "8cbde1c2",
   "metadata": {
    "execution": {
     "iopub.execute_input": "2023-02-12T16:53:35.186203Z",
     "iopub.status.busy": "2023-02-12T16:53:35.185701Z",
     "iopub.status.idle": "2023-02-12T16:53:35.230622Z",
     "shell.execute_reply": "2023-02-12T16:53:35.229256Z"
    },
    "papermill": {
     "duration": 0.075545,
     "end_time": "2023-02-12T16:53:35.233507",
     "exception": false,
     "start_time": "2023-02-12T16:53:35.157962",
     "status": "completed"
    },
    "tags": []
   },
   "outputs": [
    {
     "data": {
      "text/plain": [
       "(142, 1)"
      ]
     },
     "execution_count": 12,
     "metadata": {},
     "output_type": "execute_result"
    }
   ],
   "source": [
    "# check again null entry on clean_df\n",
    "df_missing_cols = (round(((clean_df.isnull().sum()/len(clean_df.index))*100),2).to_frame('null')).sort_values('null', ascending=False)\n",
    "df_missing_cols.shape"
   ]
  },
  {
   "cell_type": "code",
   "execution_count": 13,
   "id": "8b3f8c9d",
   "metadata": {
    "execution": {
     "iopub.execute_input": "2023-02-12T16:53:35.290511Z",
     "iopub.status.busy": "2023-02-12T16:53:35.289997Z",
     "iopub.status.idle": "2023-02-12T16:53:35.319594Z",
     "shell.execute_reply": "2023-02-12T16:53:35.318181Z"
    },
    "papermill": {
     "duration": 0.062891,
     "end_time": "2023-02-12T16:53:35.322600",
     "exception": false,
     "start_time": "2023-02-12T16:53:35.259709",
     "status": "completed"
    },
    "tags": []
   },
   "outputs": [
    {
     "data": {
      "text/html": [
       "<div>\n",
       "<style scoped>\n",
       "    .dataframe tbody tr th:only-of-type {\n",
       "        vertical-align: middle;\n",
       "    }\n",
       "\n",
       "    .dataframe tbody tr th {\n",
       "        vertical-align: top;\n",
       "    }\n",
       "\n",
       "    .dataframe thead th {\n",
       "        text-align: right;\n",
       "    }\n",
       "</style>\n",
       "<table border=\"1\" class=\"dataframe\">\n",
       "  <thead>\n",
       "    <tr style=\"text-align: right;\">\n",
       "      <th></th>\n",
       "      <th>id</th>\n",
       "      <th>circle_id</th>\n",
       "      <th>loc_og_t2o_mou</th>\n",
       "      <th>std_og_t2o_mou</th>\n",
       "      <th>loc_ic_t2o_mou</th>\n",
       "      <th>last_date_of_month_6</th>\n",
       "      <th>last_date_of_month_7</th>\n",
       "      <th>last_date_of_month_8</th>\n",
       "      <th>arpu_6</th>\n",
       "      <th>arpu_7</th>\n",
       "      <th>...</th>\n",
       "      <th>monthly_3g_7</th>\n",
       "      <th>monthly_3g_8</th>\n",
       "      <th>sachet_3g_6</th>\n",
       "      <th>sachet_3g_7</th>\n",
       "      <th>sachet_3g_8</th>\n",
       "      <th>aon</th>\n",
       "      <th>aug_vbc_3g</th>\n",
       "      <th>jul_vbc_3g</th>\n",
       "      <th>jun_vbc_3g</th>\n",
       "      <th>churn_probability</th>\n",
       "    </tr>\n",
       "  </thead>\n",
       "  <tbody>\n",
       "    <tr>\n",
       "      <th>0</th>\n",
       "      <td>0</td>\n",
       "      <td>109</td>\n",
       "      <td>0.0</td>\n",
       "      <td>0.0</td>\n",
       "      <td>0.0</td>\n",
       "      <td>6/30/2014</td>\n",
       "      <td>7/31/2014</td>\n",
       "      <td>8/31/2014</td>\n",
       "      <td>31.277</td>\n",
       "      <td>87.009</td>\n",
       "      <td>...</td>\n",
       "      <td>0</td>\n",
       "      <td>0</td>\n",
       "      <td>0</td>\n",
       "      <td>0</td>\n",
       "      <td>0</td>\n",
       "      <td>1958</td>\n",
       "      <td>0.0</td>\n",
       "      <td>0.0</td>\n",
       "      <td>0.0</td>\n",
       "      <td>0</td>\n",
       "    </tr>\n",
       "    <tr>\n",
       "      <th>1</th>\n",
       "      <td>1</td>\n",
       "      <td>109</td>\n",
       "      <td>0.0</td>\n",
       "      <td>0.0</td>\n",
       "      <td>0.0</td>\n",
       "      <td>6/30/2014</td>\n",
       "      <td>7/31/2014</td>\n",
       "      <td>8/31/2014</td>\n",
       "      <td>0.000</td>\n",
       "      <td>122.787</td>\n",
       "      <td>...</td>\n",
       "      <td>1</td>\n",
       "      <td>0</td>\n",
       "      <td>0</td>\n",
       "      <td>0</td>\n",
       "      <td>0</td>\n",
       "      <td>710</td>\n",
       "      <td>0.0</td>\n",
       "      <td>0.0</td>\n",
       "      <td>0.0</td>\n",
       "      <td>0</td>\n",
       "    </tr>\n",
       "    <tr>\n",
       "      <th>2</th>\n",
       "      <td>2</td>\n",
       "      <td>109</td>\n",
       "      <td>0.0</td>\n",
       "      <td>0.0</td>\n",
       "      <td>0.0</td>\n",
       "      <td>6/30/2014</td>\n",
       "      <td>7/31/2014</td>\n",
       "      <td>8/31/2014</td>\n",
       "      <td>60.806</td>\n",
       "      <td>103.176</td>\n",
       "      <td>...</td>\n",
       "      <td>0</td>\n",
       "      <td>0</td>\n",
       "      <td>0</td>\n",
       "      <td>0</td>\n",
       "      <td>0</td>\n",
       "      <td>882</td>\n",
       "      <td>0.0</td>\n",
       "      <td>0.0</td>\n",
       "      <td>0.0</td>\n",
       "      <td>0</td>\n",
       "    </tr>\n",
       "    <tr>\n",
       "      <th>3</th>\n",
       "      <td>3</td>\n",
       "      <td>109</td>\n",
       "      <td>0.0</td>\n",
       "      <td>0.0</td>\n",
       "      <td>0.0</td>\n",
       "      <td>6/30/2014</td>\n",
       "      <td>7/31/2014</td>\n",
       "      <td>8/31/2014</td>\n",
       "      <td>156.362</td>\n",
       "      <td>205.260</td>\n",
       "      <td>...</td>\n",
       "      <td>0</td>\n",
       "      <td>0</td>\n",
       "      <td>0</td>\n",
       "      <td>0</td>\n",
       "      <td>0</td>\n",
       "      <td>982</td>\n",
       "      <td>0.0</td>\n",
       "      <td>0.0</td>\n",
       "      <td>0.0</td>\n",
       "      <td>0</td>\n",
       "    </tr>\n",
       "    <tr>\n",
       "      <th>4</th>\n",
       "      <td>4</td>\n",
       "      <td>109</td>\n",
       "      <td>0.0</td>\n",
       "      <td>0.0</td>\n",
       "      <td>0.0</td>\n",
       "      <td>6/30/2014</td>\n",
       "      <td>7/31/2014</td>\n",
       "      <td>8/31/2014</td>\n",
       "      <td>240.708</td>\n",
       "      <td>128.191</td>\n",
       "      <td>...</td>\n",
       "      <td>0</td>\n",
       "      <td>0</td>\n",
       "      <td>0</td>\n",
       "      <td>1</td>\n",
       "      <td>0</td>\n",
       "      <td>647</td>\n",
       "      <td>0.0</td>\n",
       "      <td>0.0</td>\n",
       "      <td>0.0</td>\n",
       "      <td>0</td>\n",
       "    </tr>\n",
       "  </tbody>\n",
       "</table>\n",
       "<p>5 rows × 142 columns</p>\n",
       "</div>"
      ],
      "text/plain": [
       "   id  circle_id  loc_og_t2o_mou  std_og_t2o_mou  loc_ic_t2o_mou  \\\n",
       "0   0        109             0.0             0.0             0.0   \n",
       "1   1        109             0.0             0.0             0.0   \n",
       "2   2        109             0.0             0.0             0.0   \n",
       "3   3        109             0.0             0.0             0.0   \n",
       "4   4        109             0.0             0.0             0.0   \n",
       "\n",
       "  last_date_of_month_6 last_date_of_month_7 last_date_of_month_8   arpu_6  \\\n",
       "0            6/30/2014            7/31/2014            8/31/2014   31.277   \n",
       "1            6/30/2014            7/31/2014            8/31/2014    0.000   \n",
       "2            6/30/2014            7/31/2014            8/31/2014   60.806   \n",
       "3            6/30/2014            7/31/2014            8/31/2014  156.362   \n",
       "4            6/30/2014            7/31/2014            8/31/2014  240.708   \n",
       "\n",
       "    arpu_7  ...  monthly_3g_7  monthly_3g_8  sachet_3g_6  sachet_3g_7  \\\n",
       "0   87.009  ...             0             0            0            0   \n",
       "1  122.787  ...             1             0            0            0   \n",
       "2  103.176  ...             0             0            0            0   \n",
       "3  205.260  ...             0             0            0            0   \n",
       "4  128.191  ...             0             0            0            1   \n",
       "\n",
       "   sachet_3g_8   aon  aug_vbc_3g  jul_vbc_3g  jun_vbc_3g  churn_probability  \n",
       "0            0  1958         0.0         0.0         0.0                  0  \n",
       "1            0   710         0.0         0.0         0.0                  0  \n",
       "2            0   882         0.0         0.0         0.0                  0  \n",
       "3            0   982         0.0         0.0         0.0                  0  \n",
       "4            0   647         0.0         0.0         0.0                  0  \n",
       "\n",
       "[5 rows x 142 columns]"
      ]
     },
     "execution_count": 13,
     "metadata": {},
     "output_type": "execute_result"
    }
   ],
   "source": [
    "clean_df.head()"
   ]
  },
  {
   "cell_type": "code",
   "execution_count": 14,
   "id": "457f26c0",
   "metadata": {
    "execution": {
     "iopub.execute_input": "2023-02-12T16:53:35.375732Z",
     "iopub.status.busy": "2023-02-12T16:53:35.375242Z",
     "iopub.status.idle": "2023-02-12T16:53:35.566301Z",
     "shell.execute_reply": "2023-02-12T16:53:35.564980Z"
    },
    "papermill": {
     "duration": 0.220917,
     "end_time": "2023-02-12T16:53:35.569103",
     "exception": false,
     "start_time": "2023-02-12T16:53:35.348186",
     "status": "completed"
    },
    "tags": []
   },
   "outputs": [
    {
     "data": {
      "text/plain": [
       "id                   61895\n",
       "circle_id                1\n",
       "loc_og_t2o_mou           1\n",
       "std_og_t2o_mou           1\n",
       "loc_ic_t2o_mou           1\n",
       "                     ...  \n",
       "aon                   3447\n",
       "aug_vbc_3g           10005\n",
       "jul_vbc_3g            9523\n",
       "jun_vbc_3g            8809\n",
       "churn_probability        2\n",
       "Length: 142, dtype: int64"
      ]
     },
     "execution_count": 14,
     "metadata": {},
     "output_type": "execute_result"
    }
   ],
   "source": [
    "## Let's understand feature uniqueness\n",
    "clean_df.nunique()"
   ]
  },
  {
   "cell_type": "code",
   "execution_count": 15,
   "id": "4384d6b7",
   "metadata": {
    "execution": {
     "iopub.execute_input": "2023-02-12T16:53:35.622564Z",
     "iopub.status.busy": "2023-02-12T16:53:35.622084Z",
     "iopub.status.idle": "2023-02-12T16:53:35.815222Z",
     "shell.execute_reply": "2023-02-12T16:53:35.814275Z"
    },
    "papermill": {
     "duration": 0.223973,
     "end_time": "2023-02-12T16:53:35.818973",
     "exception": false,
     "start_time": "2023-02-12T16:53:35.595000",
     "status": "completed"
    },
    "tags": []
   },
   "outputs": [
    {
     "name": "stdout",
     "output_type": "stream",
     "text": [
      "['circle_id', 'loc_og_t2o_mou', 'std_og_t2o_mou', 'loc_ic_t2o_mou', 'last_date_of_month_6', 'last_date_of_month_7', 'last_date_of_month_8', 'std_og_t2c_mou_6', 'std_og_t2c_mou_7', 'std_og_t2c_mou_8', 'std_ic_t2o_mou_6', 'std_ic_t2o_mou_7', 'std_ic_t2o_mou_8']\n"
     ]
    }
   ],
   "source": [
    "# Columns with same value should be dropped , since these columns will have no impact\n",
    "df_unique_with_one_val = [i for i in clean_df.columns if clean_df[i].nunique()==1]\n",
    "print(df_unique_with_one_val)"
   ]
  },
  {
   "cell_type": "code",
   "execution_count": 16,
   "id": "321b5598",
   "metadata": {
    "execution": {
     "iopub.execute_input": "2023-02-12T16:53:35.874963Z",
     "iopub.status.busy": "2023-02-12T16:53:35.874137Z",
     "iopub.status.idle": "2023-02-12T16:53:35.903196Z",
     "shell.execute_reply": "2023-02-12T16:53:35.901712Z"
    },
    "papermill": {
     "duration": 0.060651,
     "end_time": "2023-02-12T16:53:35.906741",
     "exception": false,
     "start_time": "2023-02-12T16:53:35.846090",
     "status": "completed"
    },
    "tags": []
   },
   "outputs": [],
   "source": [
    "# Dropping columns with same value should be dropped, since these columns will have no impact\n",
    "clean_df = clean_df.drop(df_unique_with_one_val, axis=1)"
   ]
  },
  {
   "cell_type": "code",
   "execution_count": 17,
   "id": "a7409297",
   "metadata": {
    "execution": {
     "iopub.execute_input": "2023-02-12T16:53:35.961670Z",
     "iopub.status.busy": "2023-02-12T16:53:35.961175Z",
     "iopub.status.idle": "2023-02-12T16:53:35.969314Z",
     "shell.execute_reply": "2023-02-12T16:53:35.967972Z"
    },
    "papermill": {
     "duration": 0.039183,
     "end_time": "2023-02-12T16:53:35.972253",
     "exception": false,
     "start_time": "2023-02-12T16:53:35.933070",
     "status": "completed"
    },
    "tags": []
   },
   "outputs": [
    {
     "data": {
      "text/plain": [
       "array(['id', 'arpu_6', 'arpu_7', 'arpu_8', 'onnet_mou_6', 'onnet_mou_7',\n",
       "       'onnet_mou_8', 'offnet_mou_6', 'offnet_mou_7', 'offnet_mou_8',\n",
       "       'roam_ic_mou_6', 'roam_ic_mou_7', 'roam_ic_mou_8', 'roam_og_mou_6',\n",
       "       'roam_og_mou_7', 'roam_og_mou_8', 'loc_og_t2t_mou_6',\n",
       "       'loc_og_t2t_mou_7', 'loc_og_t2t_mou_8', 'loc_og_t2m_mou_6',\n",
       "       'loc_og_t2m_mou_7', 'loc_og_t2m_mou_8', 'loc_og_t2f_mou_6',\n",
       "       'loc_og_t2f_mou_7', 'loc_og_t2f_mou_8', 'loc_og_t2c_mou_6',\n",
       "       'loc_og_t2c_mou_7', 'loc_og_t2c_mou_8', 'loc_og_mou_6',\n",
       "       'loc_og_mou_7', 'loc_og_mou_8', 'std_og_t2t_mou_6',\n",
       "       'std_og_t2t_mou_7', 'std_og_t2t_mou_8', 'std_og_t2m_mou_6',\n",
       "       'std_og_t2m_mou_7', 'std_og_t2m_mou_8', 'std_og_t2f_mou_6',\n",
       "       'std_og_t2f_mou_7', 'std_og_t2f_mou_8', 'std_og_mou_6',\n",
       "       'std_og_mou_7', 'std_og_mou_8', 'isd_og_mou_6', 'isd_og_mou_7',\n",
       "       'isd_og_mou_8', 'spl_og_mou_6', 'spl_og_mou_7', 'spl_og_mou_8',\n",
       "       'og_others_6', 'og_others_7', 'og_others_8', 'total_og_mou_6',\n",
       "       'total_og_mou_7', 'total_og_mou_8', 'loc_ic_t2t_mou_6',\n",
       "       'loc_ic_t2t_mou_7', 'loc_ic_t2t_mou_8', 'loc_ic_t2m_mou_6',\n",
       "       'loc_ic_t2m_mou_7', 'loc_ic_t2m_mou_8', 'loc_ic_t2f_mou_6',\n",
       "       'loc_ic_t2f_mou_7', 'loc_ic_t2f_mou_8', 'loc_ic_mou_6',\n",
       "       'loc_ic_mou_7', 'loc_ic_mou_8', 'std_ic_t2t_mou_6',\n",
       "       'std_ic_t2t_mou_7', 'std_ic_t2t_mou_8', 'std_ic_t2m_mou_6',\n",
       "       'std_ic_t2m_mou_7', 'std_ic_t2m_mou_8', 'std_ic_t2f_mou_6',\n",
       "       'std_ic_t2f_mou_7', 'std_ic_t2f_mou_8', 'std_ic_mou_6',\n",
       "       'std_ic_mou_7', 'std_ic_mou_8', 'total_ic_mou_6', 'total_ic_mou_7',\n",
       "       'total_ic_mou_8', 'spl_ic_mou_6', 'spl_ic_mou_7', 'spl_ic_mou_8',\n",
       "       'isd_ic_mou_6', 'isd_ic_mou_7', 'isd_ic_mou_8', 'ic_others_6',\n",
       "       'ic_others_7', 'ic_others_8', 'total_rech_num_6',\n",
       "       'total_rech_num_7', 'total_rech_num_8', 'total_rech_amt_6',\n",
       "       'total_rech_amt_7', 'total_rech_amt_8', 'max_rech_amt_6',\n",
       "       'max_rech_amt_7', 'max_rech_amt_8', 'date_of_last_rech_6',\n",
       "       'date_of_last_rech_7', 'date_of_last_rech_8', 'last_day_rch_amt_6',\n",
       "       'last_day_rch_amt_7', 'last_day_rch_amt_8', 'vol_2g_mb_6',\n",
       "       'vol_2g_mb_7', 'vol_2g_mb_8', 'vol_3g_mb_6', 'vol_3g_mb_7',\n",
       "       'vol_3g_mb_8', 'monthly_2g_6', 'monthly_2g_7', 'monthly_2g_8',\n",
       "       'sachet_2g_6', 'sachet_2g_7', 'sachet_2g_8', 'monthly_3g_6',\n",
       "       'monthly_3g_7', 'monthly_3g_8', 'sachet_3g_6', 'sachet_3g_7',\n",
       "       'sachet_3g_8', 'aon', 'aug_vbc_3g', 'jul_vbc_3g', 'jun_vbc_3g',\n",
       "       'churn_probability'], dtype=object)"
      ]
     },
     "execution_count": 17,
     "metadata": {},
     "output_type": "execute_result"
    }
   ],
   "source": [
    "# Let's understand each columns to put some assumption and categorising variables\n",
    "clean_df.columns.values"
   ]
  },
  {
   "cell_type": "markdown",
   "id": "0dd0b54f",
   "metadata": {
    "papermill": {
     "duration": 0.025485,
     "end_time": "2023-02-12T16:53:36.025071",
     "exception": false,
     "start_time": "2023-02-12T16:53:35.999586",
     "status": "completed"
    },
    "tags": []
   },
   "source": [
    "As stated, we need to identify and target customers who are high revenue generating out of all churning customers.\n",
    "\n",
    "From the given dataset, Understanding behavior of customer in the month June, July and Aug."
   ]
  },
  {
   "cell_type": "code",
   "execution_count": 18,
   "id": "1b2df8fd",
   "metadata": {
    "execution": {
     "iopub.execute_input": "2023-02-12T16:53:36.079512Z",
     "iopub.status.busy": "2023-02-12T16:53:36.078971Z",
     "iopub.status.idle": "2023-02-12T16:53:36.087932Z",
     "shell.execute_reply": "2023-02-12T16:53:36.086588Z"
    },
    "papermill": {
     "duration": 0.040675,
     "end_time": "2023-02-12T16:53:36.091207",
     "exception": false,
     "start_time": "2023-02-12T16:53:36.050532",
     "status": "completed"
    },
    "tags": []
   },
   "outputs": [],
   "source": [
    "# Filter premium customer (high revenue generating customer)\n",
    "clean_df['avg_rech_amt_6_7'] = (clean_df['total_rech_amt_6'] + clean_df['total_rech_amt_7'])/2"
   ]
  },
  {
   "cell_type": "code",
   "execution_count": 19,
   "id": "0526ae90",
   "metadata": {
    "execution": {
     "iopub.execute_input": "2023-02-12T16:53:36.146617Z",
     "iopub.status.busy": "2023-02-12T16:53:36.145583Z",
     "iopub.status.idle": "2023-02-12T16:53:36.165873Z",
     "shell.execute_reply": "2023-02-12T16:53:36.164500Z"
    },
    "papermill": {
     "duration": 0.051612,
     "end_time": "2023-02-12T16:53:36.168682",
     "exception": false,
     "start_time": "2023-02-12T16:53:36.117070",
     "status": "completed"
    },
    "tags": []
   },
   "outputs": [
    {
     "data": {
      "text/plain": [
       "count    61895.000000\n",
       "mean       342.567687\n",
       "std        385.476672\n",
       "min          0.000000\n",
       "25%        125.000000\n",
       "50%        245.000000\n",
       "75%        440.000000\n",
       "max      37762.500000\n",
       "Name: avg_rech_amt_6_7, dtype: float64"
      ]
     },
     "execution_count": 19,
     "metadata": {},
     "output_type": "execute_result"
    }
   ],
   "source": [
    "df_des =clean_df['avg_rech_amt_6_7'].describe()\n",
    "df_des"
   ]
  },
  {
   "cell_type": "code",
   "execution_count": 20,
   "id": "2e1cb35c",
   "metadata": {
    "execution": {
     "iopub.execute_input": "2023-02-12T16:53:36.223113Z",
     "iopub.status.busy": "2023-02-12T16:53:36.222264Z",
     "iopub.status.idle": "2023-02-12T16:53:36.236004Z",
     "shell.execute_reply": "2023-02-12T16:53:36.234572Z"
    },
    "papermill": {
     "duration": 0.044164,
     "end_time": "2023-02-12T16:53:36.238729",
     "exception": false,
     "start_time": "2023-02-12T16:53:36.194565",
     "status": "completed"
    },
    "tags": []
   },
   "outputs": [
    {
     "data": {
      "text/plain": [
       "0.40      192.0\n",
       "0.50      245.0\n",
       "0.60      307.0\n",
       "0.70      388.0\n",
       "0.99     1614.5\n",
       "1.00    37762.5\n",
       "Name: avg_rech_amt_6_7, dtype: float64"
      ]
     },
     "execution_count": 20,
     "metadata": {},
     "output_type": "execute_result"
    }
   ],
   "source": [
    "# Let's analyse quantile for the same\n",
    "clean_df['avg_rech_amt_6_7'].quantile([0.4,0.5,0.6,0.7,0.99,1])"
   ]
  },
  {
   "cell_type": "code",
   "execution_count": 21,
   "id": "9554b7a6",
   "metadata": {
    "execution": {
     "iopub.execute_input": "2023-02-12T16:53:36.294843Z",
     "iopub.status.busy": "2023-02-12T16:53:36.294102Z",
     "iopub.status.idle": "2023-02-12T16:53:36.373565Z",
     "shell.execute_reply": "2023-02-12T16:53:36.372003Z"
    },
    "papermill": {
     "duration": 0.110639,
     "end_time": "2023-02-12T16:53:36.376620",
     "exception": false,
     "start_time": "2023-02-12T16:53:36.265981",
     "status": "completed"
    },
    "tags": []
   },
   "outputs": [
    {
     "data": {
      "text/plain": [
       "(31028, 130)"
      ]
     },
     "execution_count": 21,
     "metadata": {},
     "output_type": "execute_result"
    }
   ],
   "source": [
    "# Filter customer who has recharged more than AR\n",
    "clean_df = clean_df[clean_df['avg_rech_amt_6_7'] >= clean_df['avg_rech_amt_6_7'].quantile(0.5)]\n",
    "clean_df.shape"
   ]
  },
  {
   "cell_type": "code",
   "execution_count": 22,
   "id": "d0b7ab1b",
   "metadata": {
    "execution": {
     "iopub.execute_input": "2023-02-12T16:53:36.431946Z",
     "iopub.status.busy": "2023-02-12T16:53:36.431376Z",
     "iopub.status.idle": "2023-02-12T16:53:36.538024Z",
     "shell.execute_reply": "2023-02-12T16:53:36.536859Z"
    },
    "papermill": {
     "duration": 0.137442,
     "end_time": "2023-02-12T16:53:36.541206",
     "exception": false,
     "start_time": "2023-02-12T16:53:36.403764",
     "status": "completed"
    },
    "tags": []
   },
   "outputs": [
    {
     "data": {
      "text/plain": [
       "(31028, 130)"
      ]
     },
     "execution_count": 22,
     "metadata": {},
     "output_type": "execute_result"
    }
   ],
   "source": [
    "# Check for null/missing values\n",
    "df_missing_rows = clean_df[(clean_df.isnull())]\n",
    "df_missing_rows.shape"
   ]
  },
  {
   "cell_type": "code",
   "execution_count": 23,
   "id": "add0ea5d",
   "metadata": {
    "execution": {
     "iopub.execute_input": "2023-02-12T16:53:36.600285Z",
     "iopub.status.busy": "2023-02-12T16:53:36.599151Z",
     "iopub.status.idle": "2023-02-12T16:53:36.640293Z",
     "shell.execute_reply": "2023-02-12T16:53:36.638860Z"
    },
    "papermill": {
     "duration": 0.07455,
     "end_time": "2023-02-12T16:53:36.643483",
     "exception": false,
     "start_time": "2023-02-12T16:53:36.568933",
     "status": "completed"
    },
    "tags": []
   },
   "outputs": [
    {
     "data": {
      "text/plain": [
       "(31028, 130)"
      ]
     },
     "execution_count": 23,
     "metadata": {},
     "output_type": "execute_result"
    }
   ],
   "source": [
    "# fullproof for other dataset, we should drop all rows which have 50% or more rows are null\n",
    "clean_df_missing_rows_50 = clean_df[(clean_df.isnull().sum(axis=1)) > (len(clean_df.columns)//2)]\n",
    "# Deleting the rows having more than 50% missing values\n",
    "clean_df = clean_df.drop(clean_df_missing_rows_50.index)\n",
    "clean_df.shape"
   ]
  },
  {
   "cell_type": "code",
   "execution_count": 24,
   "id": "26fa63f8",
   "metadata": {
    "execution": {
     "iopub.execute_input": "2023-02-12T16:53:36.701247Z",
     "iopub.status.busy": "2023-02-12T16:53:36.699834Z",
     "iopub.status.idle": "2023-02-12T16:53:36.730256Z",
     "shell.execute_reply": "2023-02-12T16:53:36.728730Z"
    },
    "papermill": {
     "duration": 0.062788,
     "end_time": "2023-02-12T16:53:36.733260",
     "exception": false,
     "start_time": "2023-02-12T16:53:36.670472",
     "status": "completed"
    },
    "tags": []
   },
   "outputs": [
    {
     "data": {
      "text/html": [
       "<div>\n",
       "<style scoped>\n",
       "    .dataframe tbody tr th:only-of-type {\n",
       "        vertical-align: middle;\n",
       "    }\n",
       "\n",
       "    .dataframe tbody tr th {\n",
       "        vertical-align: top;\n",
       "    }\n",
       "\n",
       "    .dataframe thead th {\n",
       "        text-align: right;\n",
       "    }\n",
       "</style>\n",
       "<table border=\"1\" class=\"dataframe\">\n",
       "  <thead>\n",
       "    <tr style=\"text-align: right;\">\n",
       "      <th></th>\n",
       "      <th>null</th>\n",
       "    </tr>\n",
       "  </thead>\n",
       "  <tbody>\n",
       "    <tr>\n",
       "      <th>id</th>\n",
       "      <td>0.0</td>\n",
       "    </tr>\n",
       "    <tr>\n",
       "      <th>max_rech_amt_6</th>\n",
       "      <td>0.0</td>\n",
       "    </tr>\n",
       "    <tr>\n",
       "      <th>total_rech_amt_7</th>\n",
       "      <td>0.0</td>\n",
       "    </tr>\n",
       "    <tr>\n",
       "      <th>total_rech_amt_6</th>\n",
       "      <td>0.0</td>\n",
       "    </tr>\n",
       "    <tr>\n",
       "      <th>total_rech_num_8</th>\n",
       "      <td>0.0</td>\n",
       "    </tr>\n",
       "    <tr>\n",
       "      <th>...</th>\n",
       "      <td>...</td>\n",
       "    </tr>\n",
       "    <tr>\n",
       "      <th>std_og_t2f_mou_7</th>\n",
       "      <td>0.0</td>\n",
       "    </tr>\n",
       "    <tr>\n",
       "      <th>std_og_t2f_mou_6</th>\n",
       "      <td>0.0</td>\n",
       "    </tr>\n",
       "    <tr>\n",
       "      <th>std_og_t2m_mou_8</th>\n",
       "      <td>0.0</td>\n",
       "    </tr>\n",
       "    <tr>\n",
       "      <th>std_og_t2m_mou_7</th>\n",
       "      <td>0.0</td>\n",
       "    </tr>\n",
       "    <tr>\n",
       "      <th>avg_rech_amt_6_7</th>\n",
       "      <td>0.0</td>\n",
       "    </tr>\n",
       "  </tbody>\n",
       "</table>\n",
       "<p>130 rows × 1 columns</p>\n",
       "</div>"
      ],
      "text/plain": [
       "                  null\n",
       "id                 0.0\n",
       "max_rech_amt_6     0.0\n",
       "total_rech_amt_7   0.0\n",
       "total_rech_amt_6   0.0\n",
       "total_rech_num_8   0.0\n",
       "...                ...\n",
       "std_og_t2f_mou_7   0.0\n",
       "std_og_t2f_mou_6   0.0\n",
       "std_og_t2m_mou_8   0.0\n",
       "std_og_t2m_mou_7   0.0\n",
       "avg_rech_amt_6_7   0.0\n",
       "\n",
       "[130 rows x 1 columns]"
      ]
     },
     "execution_count": 24,
     "metadata": {},
     "output_type": "execute_result"
    }
   ],
   "source": [
    "# Checking the missing values in columns again\n",
    "df_missing_cols = (round(((clean_df.isnull().sum()/len(clean_df.index))*100),2).to_frame('null')).sort_values('null', ascending=False)\n",
    "df_missing_cols"
   ]
  },
  {
   "cell_type": "code",
   "execution_count": 25,
   "id": "459e5510",
   "metadata": {
    "execution": {
     "iopub.execute_input": "2023-02-12T16:53:36.790942Z",
     "iopub.status.busy": "2023-02-12T16:53:36.790270Z",
     "iopub.status.idle": "2023-02-12T16:53:36.799482Z",
     "shell.execute_reply": "2023-02-12T16:53:36.798131Z"
    },
    "papermill": {
     "duration": 0.042214,
     "end_time": "2023-02-12T16:53:36.802266",
     "exception": false,
     "start_time": "2023-02-12T16:53:36.760052",
     "status": "completed"
    },
    "tags": []
   },
   "outputs": [
    {
     "data": {
      "text/plain": [
       "array(['id', 'arpu_6', 'arpu_7', 'arpu_8', 'onnet_mou_6', 'onnet_mou_7',\n",
       "       'onnet_mou_8', 'offnet_mou_6', 'offnet_mou_7', 'offnet_mou_8',\n",
       "       'roam_ic_mou_6', 'roam_ic_mou_7', 'roam_ic_mou_8', 'roam_og_mou_6',\n",
       "       'roam_og_mou_7', 'roam_og_mou_8', 'loc_og_t2t_mou_6',\n",
       "       'loc_og_t2t_mou_7', 'loc_og_t2t_mou_8', 'loc_og_t2m_mou_6',\n",
       "       'loc_og_t2m_mou_7', 'loc_og_t2m_mou_8', 'loc_og_t2f_mou_6',\n",
       "       'loc_og_t2f_mou_7', 'loc_og_t2f_mou_8', 'loc_og_t2c_mou_6',\n",
       "       'loc_og_t2c_mou_7', 'loc_og_t2c_mou_8', 'loc_og_mou_6',\n",
       "       'loc_og_mou_7', 'loc_og_mou_8', 'std_og_t2t_mou_6',\n",
       "       'std_og_t2t_mou_7', 'std_og_t2t_mou_8', 'std_og_t2m_mou_6',\n",
       "       'std_og_t2m_mou_7', 'std_og_t2m_mou_8', 'std_og_t2f_mou_6',\n",
       "       'std_og_t2f_mou_7', 'std_og_t2f_mou_8', 'std_og_mou_6',\n",
       "       'std_og_mou_7', 'std_og_mou_8', 'isd_og_mou_6', 'isd_og_mou_7',\n",
       "       'isd_og_mou_8', 'spl_og_mou_6', 'spl_og_mou_7', 'spl_og_mou_8',\n",
       "       'og_others_6', 'og_others_7', 'og_others_8', 'total_og_mou_6',\n",
       "       'total_og_mou_7', 'total_og_mou_8', 'loc_ic_t2t_mou_6',\n",
       "       'loc_ic_t2t_mou_7', 'loc_ic_t2t_mou_8', 'loc_ic_t2m_mou_6',\n",
       "       'loc_ic_t2m_mou_7', 'loc_ic_t2m_mou_8', 'loc_ic_t2f_mou_6',\n",
       "       'loc_ic_t2f_mou_7', 'loc_ic_t2f_mou_8', 'loc_ic_mou_6',\n",
       "       'loc_ic_mou_7', 'loc_ic_mou_8', 'std_ic_t2t_mou_6',\n",
       "       'std_ic_t2t_mou_7', 'std_ic_t2t_mou_8', 'std_ic_t2m_mou_6',\n",
       "       'std_ic_t2m_mou_7', 'std_ic_t2m_mou_8', 'std_ic_t2f_mou_6',\n",
       "       'std_ic_t2f_mou_7', 'std_ic_t2f_mou_8', 'std_ic_mou_6',\n",
       "       'std_ic_mou_7', 'std_ic_mou_8', 'total_ic_mou_6', 'total_ic_mou_7',\n",
       "       'total_ic_mou_8', 'spl_ic_mou_6', 'spl_ic_mou_7', 'spl_ic_mou_8',\n",
       "       'isd_ic_mou_6', 'isd_ic_mou_7', 'isd_ic_mou_8', 'ic_others_6',\n",
       "       'ic_others_7', 'ic_others_8', 'total_rech_num_6',\n",
       "       'total_rech_num_7', 'total_rech_num_8', 'total_rech_amt_6',\n",
       "       'total_rech_amt_7', 'total_rech_amt_8', 'max_rech_amt_6',\n",
       "       'max_rech_amt_7', 'max_rech_amt_8', 'date_of_last_rech_6',\n",
       "       'date_of_last_rech_7', 'date_of_last_rech_8', 'last_day_rch_amt_6',\n",
       "       'last_day_rch_amt_7', 'last_day_rch_amt_8', 'vol_2g_mb_6',\n",
       "       'vol_2g_mb_7', 'vol_2g_mb_8', 'vol_3g_mb_6', 'vol_3g_mb_7',\n",
       "       'vol_3g_mb_8', 'monthly_2g_6', 'monthly_2g_7', 'monthly_2g_8',\n",
       "       'sachet_2g_6', 'sachet_2g_7', 'sachet_2g_8', 'monthly_3g_6',\n",
       "       'monthly_3g_7', 'monthly_3g_8', 'sachet_3g_6', 'sachet_3g_7',\n",
       "       'sachet_3g_8', 'aon', 'aug_vbc_3g', 'jul_vbc_3g', 'jun_vbc_3g',\n",
       "       'churn_probability', 'avg_rech_amt_6_7'], dtype=object)"
      ]
     },
     "execution_count": 25,
     "metadata": {},
     "output_type": "execute_result"
    }
   ],
   "source": [
    "clean_df.columns.values"
   ]
  },
  {
   "cell_type": "code",
   "execution_count": 26,
   "id": "cc85ac4c",
   "metadata": {
    "execution": {
     "iopub.execute_input": "2023-02-12T16:53:36.859997Z",
     "iopub.status.busy": "2023-02-12T16:53:36.859164Z",
     "iopub.status.idle": "2023-02-12T16:53:36.869325Z",
     "shell.execute_reply": "2023-02-12T16:53:36.867811Z"
    },
    "papermill": {
     "duration": 0.043271,
     "end_time": "2023-02-12T16:53:36.872606",
     "exception": false,
     "start_time": "2023-02-12T16:53:36.829335",
     "status": "completed"
    },
    "tags": []
   },
   "outputs": [],
   "source": [
    "# Churning customer records\n",
    "\n",
    "clean_df['churn_probability'] = np.where((clean_df['total_ic_mou_8']==0) & (clean_df['total_og_mou_8']==0) & (clean_df['vol_2g_mb_8']==0) & (clean_df['vol_3g_mb_8']==0), 1, 0)"
   ]
  },
  {
   "cell_type": "markdown",
   "id": "dd325146",
   "metadata": {
    "papermill": {
     "duration": 0.027007,
     "end_time": "2023-02-12T16:53:36.927940",
     "exception": false,
     "start_time": "2023-02-12T16:53:36.900933",
     "status": "completed"
    },
    "tags": []
   },
   "source": [
    "#### Outlier treatment"
   ]
  },
  {
   "cell_type": "code",
   "execution_count": 27,
   "id": "dd3ca580",
   "metadata": {
    "execution": {
     "iopub.execute_input": "2023-02-12T16:53:36.985659Z",
     "iopub.status.busy": "2023-02-12T16:53:36.985173Z",
     "iopub.status.idle": "2023-02-12T16:53:37.001592Z",
     "shell.execute_reply": "2023-02-12T16:53:37.000778Z"
    },
    "papermill": {
     "duration": 0.047725,
     "end_time": "2023-02-12T16:53:37.003760",
     "exception": false,
     "start_time": "2023-02-12T16:53:36.956035",
     "status": "completed"
    },
    "tags": []
   },
   "outputs": [
    {
     "data": {
      "text/plain": [
       "['id',\n",
       " 'arpu_6',\n",
       " 'arpu_7',\n",
       " 'arpu_8',\n",
       " 'onnet_mou_6',\n",
       " 'onnet_mou_7',\n",
       " 'onnet_mou_8',\n",
       " 'offnet_mou_6',\n",
       " 'offnet_mou_7',\n",
       " 'offnet_mou_8',\n",
       " 'roam_ic_mou_6',\n",
       " 'roam_ic_mou_7',\n",
       " 'roam_ic_mou_8',\n",
       " 'roam_og_mou_6',\n",
       " 'roam_og_mou_7',\n",
       " 'roam_og_mou_8',\n",
       " 'loc_og_t2t_mou_6',\n",
       " 'loc_og_t2t_mou_7',\n",
       " 'loc_og_t2t_mou_8',\n",
       " 'loc_og_t2m_mou_6',\n",
       " 'loc_og_t2m_mou_7',\n",
       " 'loc_og_t2m_mou_8',\n",
       " 'loc_og_t2f_mou_6',\n",
       " 'loc_og_t2f_mou_7',\n",
       " 'loc_og_t2f_mou_8',\n",
       " 'loc_og_t2c_mou_6',\n",
       " 'loc_og_t2c_mou_7',\n",
       " 'loc_og_t2c_mou_8',\n",
       " 'loc_og_mou_6',\n",
       " 'loc_og_mou_7',\n",
       " 'loc_og_mou_8',\n",
       " 'std_og_t2t_mou_6',\n",
       " 'std_og_t2t_mou_7',\n",
       " 'std_og_t2t_mou_8',\n",
       " 'std_og_t2m_mou_6',\n",
       " 'std_og_t2m_mou_7',\n",
       " 'std_og_t2m_mou_8',\n",
       " 'std_og_t2f_mou_6',\n",
       " 'std_og_t2f_mou_7',\n",
       " 'std_og_t2f_mou_8',\n",
       " 'std_og_mou_6',\n",
       " 'std_og_mou_7',\n",
       " 'std_og_mou_8',\n",
       " 'isd_og_mou_6',\n",
       " 'isd_og_mou_7',\n",
       " 'isd_og_mou_8',\n",
       " 'spl_og_mou_6',\n",
       " 'spl_og_mou_7',\n",
       " 'spl_og_mou_8',\n",
       " 'og_others_6',\n",
       " 'og_others_7',\n",
       " 'og_others_8',\n",
       " 'total_og_mou_6',\n",
       " 'total_og_mou_7',\n",
       " 'total_og_mou_8',\n",
       " 'loc_ic_t2t_mou_6',\n",
       " 'loc_ic_t2t_mou_7',\n",
       " 'loc_ic_t2t_mou_8',\n",
       " 'loc_ic_t2m_mou_6',\n",
       " 'loc_ic_t2m_mou_7',\n",
       " 'loc_ic_t2m_mou_8',\n",
       " 'loc_ic_t2f_mou_6',\n",
       " 'loc_ic_t2f_mou_7',\n",
       " 'loc_ic_t2f_mou_8',\n",
       " 'loc_ic_mou_6',\n",
       " 'loc_ic_mou_7',\n",
       " 'loc_ic_mou_8',\n",
       " 'std_ic_t2t_mou_6',\n",
       " 'std_ic_t2t_mou_7',\n",
       " 'std_ic_t2t_mou_8',\n",
       " 'std_ic_t2m_mou_6',\n",
       " 'std_ic_t2m_mou_7',\n",
       " 'std_ic_t2m_mou_8',\n",
       " 'std_ic_t2f_mou_6',\n",
       " 'std_ic_t2f_mou_7',\n",
       " 'std_ic_t2f_mou_8',\n",
       " 'std_ic_mou_6',\n",
       " 'std_ic_mou_7',\n",
       " 'std_ic_mou_8',\n",
       " 'total_ic_mou_6',\n",
       " 'total_ic_mou_7',\n",
       " 'total_ic_mou_8',\n",
       " 'spl_ic_mou_6',\n",
       " 'spl_ic_mou_7',\n",
       " 'spl_ic_mou_8',\n",
       " 'isd_ic_mou_6',\n",
       " 'isd_ic_mou_7',\n",
       " 'isd_ic_mou_8',\n",
       " 'ic_others_6',\n",
       " 'ic_others_7',\n",
       " 'ic_others_8',\n",
       " 'total_rech_num_6',\n",
       " 'total_rech_num_7',\n",
       " 'total_rech_num_8',\n",
       " 'total_rech_amt_6',\n",
       " 'total_rech_amt_7',\n",
       " 'total_rech_amt_8',\n",
       " 'max_rech_amt_6',\n",
       " 'max_rech_amt_7',\n",
       " 'max_rech_amt_8',\n",
       " 'last_day_rch_amt_6',\n",
       " 'last_day_rch_amt_7',\n",
       " 'last_day_rch_amt_8',\n",
       " 'vol_2g_mb_6',\n",
       " 'vol_2g_mb_7',\n",
       " 'vol_2g_mb_8',\n",
       " 'vol_3g_mb_6',\n",
       " 'vol_3g_mb_7',\n",
       " 'vol_3g_mb_8',\n",
       " 'monthly_2g_6',\n",
       " 'monthly_2g_7',\n",
       " 'monthly_2g_8',\n",
       " 'sachet_2g_6',\n",
       " 'sachet_2g_7',\n",
       " 'sachet_2g_8',\n",
       " 'monthly_3g_6',\n",
       " 'monthly_3g_7',\n",
       " 'monthly_3g_8',\n",
       " 'sachet_3g_6',\n",
       " 'sachet_3g_7',\n",
       " 'sachet_3g_8',\n",
       " 'aon',\n",
       " 'aug_vbc_3g',\n",
       " 'jul_vbc_3g',\n",
       " 'jun_vbc_3g',\n",
       " 'churn_probability',\n",
       " 'avg_rech_amt_6_7']"
      ]
     },
     "execution_count": 27,
     "metadata": {},
     "output_type": "execute_result"
    }
   ],
   "source": [
    "numeric_features= [i for i in clean_df.columns if 'object' not in clean_df[i].dtype.name]\n",
    "numeric_features"
   ]
  },
  {
   "cell_type": "code",
   "execution_count": 28,
   "id": "8a040200",
   "metadata": {
    "execution": {
     "iopub.execute_input": "2023-02-12T16:53:37.060724Z",
     "iopub.status.busy": "2023-02-12T16:53:37.059850Z",
     "iopub.status.idle": "2023-02-12T16:53:37.066214Z",
     "shell.execute_reply": "2023-02-12T16:53:37.065342Z"
    },
    "papermill": {
     "duration": 0.037368,
     "end_time": "2023-02-12T16:53:37.068412",
     "exception": false,
     "start_time": "2023-02-12T16:53:37.031044",
     "status": "completed"
    },
    "tags": []
   },
   "outputs": [
    {
     "data": {
      "text/plain": [
       "(31028, 130)"
      ]
     },
     "execution_count": 28,
     "metadata": {},
     "output_type": "execute_result"
    }
   ],
   "source": [
    "clean_df.shape"
   ]
  },
  {
   "cell_type": "code",
   "execution_count": 29,
   "id": "e9369fba",
   "metadata": {
    "execution": {
     "iopub.execute_input": "2023-02-12T16:53:37.127528Z",
     "iopub.status.busy": "2023-02-12T16:53:37.126754Z",
     "iopub.status.idle": "2023-02-12T16:53:39.370192Z",
     "shell.execute_reply": "2023-02-12T16:53:39.368541Z"
    },
    "papermill": {
     "duration": 2.276349,
     "end_time": "2023-02-12T16:53:39.373333",
     "exception": false,
     "start_time": "2023-02-12T16:53:37.096984",
     "status": "completed"
    },
    "tags": []
   },
   "outputs": [
    {
     "data": {
      "text/plain": [
       "(25777, 130)"
      ]
     },
     "execution_count": 29,
     "metadata": {},
     "output_type": "execute_result"
    }
   ],
   "source": [
    "# Removing outliers below 10th and above 90th percentile\n",
    "for col in numeric_features: \n",
    "    q1 = clean_df[col].quantile(0.05)\n",
    "    q3 = clean_df[col].quantile(0.99)\n",
    "    iqr = q3-q1\n",
    "    range_low  = q1-1*iqr\n",
    "    range_high = q3+1*iqr\n",
    "    # Assigning the filtered dataset into data\n",
    "    new_clean_df = clean_df.loc[(clean_df[col] > range_low) & (clean_df[col] < range_high)]\n",
    "    if len(new_clean_df)>0 :\n",
    "        clean_df = new_clean_df\n",
    "\n",
    "clean_df.shape"
   ]
  },
  {
   "cell_type": "code",
   "execution_count": 30,
   "id": "5c219ba2",
   "metadata": {
    "execution": {
     "iopub.execute_input": "2023-02-12T16:53:39.434388Z",
     "iopub.status.busy": "2023-02-12T16:53:39.433879Z",
     "iopub.status.idle": "2023-02-12T16:53:39.441947Z",
     "shell.execute_reply": "2023-02-12T16:53:39.440723Z"
    },
    "papermill": {
     "duration": 0.041398,
     "end_time": "2023-02-12T16:53:39.444760",
     "exception": false,
     "start_time": "2023-02-12T16:53:39.403362",
     "status": "completed"
    },
    "tags": []
   },
   "outputs": [
    {
     "data": {
      "text/plain": [
       "['total_og_mou_6',\n",
       " 'total_og_mou_7',\n",
       " 'total_og_mou_8',\n",
       " 'total_ic_mou_6',\n",
       " 'total_ic_mou_7',\n",
       " 'total_ic_mou_8',\n",
       " 'total_rech_num_6',\n",
       " 'total_rech_num_7',\n",
       " 'total_rech_num_8',\n",
       " 'total_rech_amt_6',\n",
       " 'total_rech_amt_7',\n",
       " 'total_rech_amt_8']"
      ]
     },
     "execution_count": 30,
     "metadata": {},
     "output_type": "execute_result"
    }
   ],
   "source": [
    "# List the columns of total mou, rech_num and rech_amt\n",
    "[total for total in clean_df.columns.to_list() if 'total' in total]"
   ]
  },
  {
   "cell_type": "markdown",
   "id": "b6996e45",
   "metadata": {
    "papermill": {
     "duration": 0.027089,
     "end_time": "2023-02-12T16:53:39.499242",
     "exception": false,
     "start_time": "2023-02-12T16:53:39.472153",
     "status": "completed"
    },
    "tags": []
   },
   "source": [
    "Determine customer behavior over the month (June, July and Aug)"
   ]
  },
  {
   "cell_type": "code",
   "execution_count": 31,
   "id": "5220d720",
   "metadata": {
    "execution": {
     "iopub.execute_input": "2023-02-12T16:53:39.557517Z",
     "iopub.status.busy": "2023-02-12T16:53:39.556797Z",
     "iopub.status.idle": "2023-02-12T16:53:39.563458Z",
     "shell.execute_reply": "2023-02-12T16:53:39.562558Z"
    },
    "papermill": {
     "duration": 0.039998,
     "end_time": "2023-02-12T16:53:39.566255",
     "exception": false,
     "start_time": "2023-02-12T16:53:39.526257",
     "status": "completed"
    },
    "tags": []
   },
   "outputs": [],
   "source": [
    "# Total mou at good phase incoming and outgoing\n",
    "clean_df['total_mou_good'] = (clean_df['total_og_mou_6'] + clean_df['total_ic_mou_6'])"
   ]
  },
  {
   "cell_type": "code",
   "execution_count": 32,
   "id": "39c14beb",
   "metadata": {
    "execution": {
     "iopub.execute_input": "2023-02-12T16:53:39.623004Z",
     "iopub.status.busy": "2023-02-12T16:53:39.622528Z",
     "iopub.status.idle": "2023-02-12T16:53:39.631040Z",
     "shell.execute_reply": "2023-02-12T16:53:39.629980Z"
    },
    "papermill": {
     "duration": 0.040022,
     "end_time": "2023-02-12T16:53:39.633555",
     "exception": false,
     "start_time": "2023-02-12T16:53:39.593533",
     "status": "completed"
    },
    "tags": []
   },
   "outputs": [],
   "source": [
    "# Avg. mou at action phase\n",
    "# Taking average because there are two months(7 and 8) in action phase\n",
    "clean_df['avg_mou_aug'] = (clean_df['total_og_mou_7'] + clean_df['total_og_mou_8'] + clean_df['total_ic_mou_7'] + clean_df['total_ic_mou_8'])/2"
   ]
  },
  {
   "cell_type": "code",
   "execution_count": 33,
   "id": "229da46b",
   "metadata": {
    "execution": {
     "iopub.execute_input": "2023-02-12T16:53:39.693755Z",
     "iopub.status.busy": "2023-02-12T16:53:39.692948Z",
     "iopub.status.idle": "2023-02-12T16:53:39.699249Z",
     "shell.execute_reply": "2023-02-12T16:53:39.698160Z"
    },
    "papermill": {
     "duration": 0.038546,
     "end_time": "2023-02-12T16:53:39.701936",
     "exception": false,
     "start_time": "2023-02-12T16:53:39.663390",
     "status": "completed"
    },
    "tags": []
   },
   "outputs": [],
   "source": [
    "# Difference avg_mou_good and avg_mouaug\n",
    "clean_df['diff_mou'] = clean_df['avg_mou_aug'] - clean_df['total_mou_good']"
   ]
  },
  {
   "cell_type": "code",
   "execution_count": 34,
   "id": "2a1a461f",
   "metadata": {
    "execution": {
     "iopub.execute_input": "2023-02-12T16:53:39.761059Z",
     "iopub.status.busy": "2023-02-12T16:53:39.760438Z",
     "iopub.status.idle": "2023-02-12T16:53:39.794680Z",
     "shell.execute_reply": "2023-02-12T16:53:39.793763Z"
    },
    "papermill": {
     "duration": 0.066047,
     "end_time": "2023-02-12T16:53:39.797063",
     "exception": false,
     "start_time": "2023-02-12T16:53:39.731016",
     "status": "completed"
    },
    "tags": []
   },
   "outputs": [
    {
     "data": {
      "text/html": [
       "<div>\n",
       "<style scoped>\n",
       "    .dataframe tbody tr th:only-of-type {\n",
       "        vertical-align: middle;\n",
       "    }\n",
       "\n",
       "    .dataframe tbody tr th {\n",
       "        vertical-align: top;\n",
       "    }\n",
       "\n",
       "    .dataframe thead th {\n",
       "        text-align: right;\n",
       "    }\n",
       "</style>\n",
       "<table border=\"1\" class=\"dataframe\">\n",
       "  <thead>\n",
       "    <tr style=\"text-align: right;\">\n",
       "      <th></th>\n",
       "      <th>id</th>\n",
       "      <th>arpu_6</th>\n",
       "      <th>arpu_7</th>\n",
       "      <th>arpu_8</th>\n",
       "      <th>onnet_mou_6</th>\n",
       "      <th>onnet_mou_7</th>\n",
       "      <th>onnet_mou_8</th>\n",
       "      <th>offnet_mou_6</th>\n",
       "      <th>offnet_mou_7</th>\n",
       "      <th>offnet_mou_8</th>\n",
       "      <th>...</th>\n",
       "      <th>aon</th>\n",
       "      <th>aug_vbc_3g</th>\n",
       "      <th>jul_vbc_3g</th>\n",
       "      <th>jun_vbc_3g</th>\n",
       "      <th>churn_probability</th>\n",
       "      <th>avg_rech_amt_6_7</th>\n",
       "      <th>total_mou_good</th>\n",
       "      <th>avg_mou_aug</th>\n",
       "      <th>diff_mou</th>\n",
       "      <th>decrease_mou_aug</th>\n",
       "    </tr>\n",
       "  </thead>\n",
       "  <tbody>\n",
       "    <tr>\n",
       "      <th>11</th>\n",
       "      <td>11</td>\n",
       "      <td>292.724</td>\n",
       "      <td>228.753</td>\n",
       "      <td>418.233</td>\n",
       "      <td>135.54</td>\n",
       "      <td>63.61</td>\n",
       "      <td>177.36</td>\n",
       "      <td>46.39</td>\n",
       "      <td>65.48</td>\n",
       "      <td>92.81</td>\n",
       "      <td>...</td>\n",
       "      <td>648</td>\n",
       "      <td>0.0</td>\n",
       "      <td>0.0</td>\n",
       "      <td>0.0</td>\n",
       "      <td>0</td>\n",
       "      <td>315.0</td>\n",
       "      <td>315.87</td>\n",
       "      <td>418.140</td>\n",
       "      <td>102.270</td>\n",
       "      <td>0</td>\n",
       "    </tr>\n",
       "    <tr>\n",
       "      <th>12</th>\n",
       "      <td>12</td>\n",
       "      <td>439.919</td>\n",
       "      <td>397.946</td>\n",
       "      <td>392.024</td>\n",
       "      <td>244.46</td>\n",
       "      <td>108.31</td>\n",
       "      <td>42.98</td>\n",
       "      <td>571.98</td>\n",
       "      <td>727.91</td>\n",
       "      <td>644.43</td>\n",
       "      <td>...</td>\n",
       "      <td>322</td>\n",
       "      <td>0.0</td>\n",
       "      <td>0.0</td>\n",
       "      <td>0.0</td>\n",
       "      <td>0</td>\n",
       "      <td>469.5</td>\n",
       "      <td>850.93</td>\n",
       "      <td>792.985</td>\n",
       "      <td>-57.945</td>\n",
       "      <td>1</td>\n",
       "    </tr>\n",
       "    <tr>\n",
       "      <th>14</th>\n",
       "      <td>14</td>\n",
       "      <td>340.266</td>\n",
       "      <td>205.397</td>\n",
       "      <td>191.780</td>\n",
       "      <td>123.76</td>\n",
       "      <td>116.34</td>\n",
       "      <td>75.93</td>\n",
       "      <td>98.51</td>\n",
       "      <td>94.11</td>\n",
       "      <td>150.61</td>\n",
       "      <td>...</td>\n",
       "      <td>1049</td>\n",
       "      <td>0.0</td>\n",
       "      <td>0.0</td>\n",
       "      <td>0.0</td>\n",
       "      <td>0</td>\n",
       "      <td>350.0</td>\n",
       "      <td>643.39</td>\n",
       "      <td>572.090</td>\n",
       "      <td>-71.300</td>\n",
       "      <td>1</td>\n",
       "    </tr>\n",
       "    <tr>\n",
       "      <th>15</th>\n",
       "      <td>15</td>\n",
       "      <td>580.549</td>\n",
       "      <td>377.294</td>\n",
       "      <td>338.286</td>\n",
       "      <td>10.43</td>\n",
       "      <td>24.99</td>\n",
       "      <td>194.43</td>\n",
       "      <td>317.11</td>\n",
       "      <td>341.79</td>\n",
       "      <td>197.09</td>\n",
       "      <td>...</td>\n",
       "      <td>602</td>\n",
       "      <td>0.0</td>\n",
       "      <td>0.0</td>\n",
       "      <td>0.0</td>\n",
       "      <td>0</td>\n",
       "      <td>527.0</td>\n",
       "      <td>560.82</td>\n",
       "      <td>1082.825</td>\n",
       "      <td>522.005</td>\n",
       "      <td>0</td>\n",
       "    </tr>\n",
       "    <tr>\n",
       "      <th>22</th>\n",
       "      <td>22</td>\n",
       "      <td>277.458</td>\n",
       "      <td>283.346</td>\n",
       "      <td>231.755</td>\n",
       "      <td>179.54</td>\n",
       "      <td>287.98</td>\n",
       "      <td>155.16</td>\n",
       "      <td>335.41</td>\n",
       "      <td>255.18</td>\n",
       "      <td>281.06</td>\n",
       "      <td>...</td>\n",
       "      <td>2837</td>\n",
       "      <td>0.0</td>\n",
       "      <td>0.0</td>\n",
       "      <td>0.0</td>\n",
       "      <td>0</td>\n",
       "      <td>366.0</td>\n",
       "      <td>736.52</td>\n",
       "      <td>1045.175</td>\n",
       "      <td>308.655</td>\n",
       "      <td>0</td>\n",
       "    </tr>\n",
       "  </tbody>\n",
       "</table>\n",
       "<p>5 rows × 134 columns</p>\n",
       "</div>"
      ],
      "text/plain": [
       "    id   arpu_6   arpu_7   arpu_8  onnet_mou_6  onnet_mou_7  onnet_mou_8  \\\n",
       "11  11  292.724  228.753  418.233       135.54        63.61       177.36   \n",
       "12  12  439.919  397.946  392.024       244.46       108.31        42.98   \n",
       "14  14  340.266  205.397  191.780       123.76       116.34        75.93   \n",
       "15  15  580.549  377.294  338.286        10.43        24.99       194.43   \n",
       "22  22  277.458  283.346  231.755       179.54       287.98       155.16   \n",
       "\n",
       "    offnet_mou_6  offnet_mou_7  offnet_mou_8  ...   aon  aug_vbc_3g  \\\n",
       "11         46.39         65.48         92.81  ...   648         0.0   \n",
       "12        571.98        727.91        644.43  ...   322         0.0   \n",
       "14         98.51         94.11        150.61  ...  1049         0.0   \n",
       "15        317.11        341.79        197.09  ...   602         0.0   \n",
       "22        335.41        255.18        281.06  ...  2837         0.0   \n",
       "\n",
       "    jul_vbc_3g  jun_vbc_3g  churn_probability  avg_rech_amt_6_7  \\\n",
       "11         0.0         0.0                  0             315.0   \n",
       "12         0.0         0.0                  0             469.5   \n",
       "14         0.0         0.0                  0             350.0   \n",
       "15         0.0         0.0                  0             527.0   \n",
       "22         0.0         0.0                  0             366.0   \n",
       "\n",
       "    total_mou_good  avg_mou_aug  diff_mou  decrease_mou_aug  \n",
       "11          315.87      418.140   102.270                 0  \n",
       "12          850.93      792.985   -57.945                 1  \n",
       "14          643.39      572.090   -71.300                 1  \n",
       "15          560.82     1082.825   522.005                 0  \n",
       "22          736.52     1045.175   308.655                 0  \n",
       "\n",
       "[5 rows x 134 columns]"
      ]
     },
     "execution_count": 34,
     "metadata": {},
     "output_type": "execute_result"
    }
   ],
   "source": [
    "# Checking whether the mou has decreased in action phase\n",
    "clean_df['decrease_mou_aug'] = np.where((clean_df['diff_mou'] < 0), 1, 0)\n",
    "clean_df.head()"
   ]
  },
  {
   "cell_type": "markdown",
   "id": "01ead96b",
   "metadata": {
    "papermill": {
     "duration": 0.027555,
     "end_time": "2023-02-12T16:53:39.852623",
     "exception": false,
     "start_time": "2023-02-12T16:53:39.825068",
     "status": "completed"
    },
    "tags": []
   },
   "source": [
    "Determine customer behavior based on recharge frequency if decreses/increases"
   ]
  },
  {
   "cell_type": "code",
   "execution_count": 35,
   "id": "b7c7c7ee",
   "metadata": {
    "execution": {
     "iopub.execute_input": "2023-02-12T16:53:39.914201Z",
     "iopub.status.busy": "2023-02-12T16:53:39.913254Z",
     "iopub.status.idle": "2023-02-12T16:53:39.922464Z",
     "shell.execute_reply": "2023-02-12T16:53:39.921093Z"
    },
    "papermill": {
     "duration": 0.044484,
     "end_time": "2023-02-12T16:53:39.925805",
     "exception": false,
     "start_time": "2023-02-12T16:53:39.881321",
     "status": "completed"
    },
    "tags": []
   },
   "outputs": [],
   "source": [
    "# Avg rech number at aug and take difference of total_rech_num_6 and avg_rech_aug\n",
    "clean_df['avg_rech_num_aug'] = (clean_df['total_rech_num_7'] + clean_df['total_rech_num_8'])/2\n",
    "clean_df['diff_rech_num'] = clean_df['avg_rech_num_aug'] - clean_df['total_rech_num_6']"
   ]
  },
  {
   "cell_type": "code",
   "execution_count": 36,
   "id": "dbf095b6",
   "metadata": {
    "execution": {
     "iopub.execute_input": "2023-02-12T16:53:39.986687Z",
     "iopub.status.busy": "2023-02-12T16:53:39.986143Z",
     "iopub.status.idle": "2023-02-12T16:53:40.019501Z",
     "shell.execute_reply": "2023-02-12T16:53:40.018280Z"
    },
    "papermill": {
     "duration": 0.067122,
     "end_time": "2023-02-12T16:53:40.022217",
     "exception": false,
     "start_time": "2023-02-12T16:53:39.955095",
     "status": "completed"
    },
    "tags": []
   },
   "outputs": [
    {
     "data": {
      "text/html": [
       "<div>\n",
       "<style scoped>\n",
       "    .dataframe tbody tr th:only-of-type {\n",
       "        vertical-align: middle;\n",
       "    }\n",
       "\n",
       "    .dataframe tbody tr th {\n",
       "        vertical-align: top;\n",
       "    }\n",
       "\n",
       "    .dataframe thead th {\n",
       "        text-align: right;\n",
       "    }\n",
       "</style>\n",
       "<table border=\"1\" class=\"dataframe\">\n",
       "  <thead>\n",
       "    <tr style=\"text-align: right;\">\n",
       "      <th></th>\n",
       "      <th>id</th>\n",
       "      <th>arpu_6</th>\n",
       "      <th>arpu_7</th>\n",
       "      <th>arpu_8</th>\n",
       "      <th>onnet_mou_6</th>\n",
       "      <th>onnet_mou_7</th>\n",
       "      <th>onnet_mou_8</th>\n",
       "      <th>offnet_mou_6</th>\n",
       "      <th>offnet_mou_7</th>\n",
       "      <th>offnet_mou_8</th>\n",
       "      <th>...</th>\n",
       "      <th>jun_vbc_3g</th>\n",
       "      <th>churn_probability</th>\n",
       "      <th>avg_rech_amt_6_7</th>\n",
       "      <th>total_mou_good</th>\n",
       "      <th>avg_mou_aug</th>\n",
       "      <th>diff_mou</th>\n",
       "      <th>decrease_mou_aug</th>\n",
       "      <th>avg_rech_num_aug</th>\n",
       "      <th>diff_rech_num</th>\n",
       "      <th>decrease_rech_num_aug</th>\n",
       "    </tr>\n",
       "  </thead>\n",
       "  <tbody>\n",
       "    <tr>\n",
       "      <th>11</th>\n",
       "      <td>11</td>\n",
       "      <td>292.724</td>\n",
       "      <td>228.753</td>\n",
       "      <td>418.233</td>\n",
       "      <td>135.54</td>\n",
       "      <td>63.61</td>\n",
       "      <td>177.36</td>\n",
       "      <td>46.39</td>\n",
       "      <td>65.48</td>\n",
       "      <td>92.81</td>\n",
       "      <td>...</td>\n",
       "      <td>0.0</td>\n",
       "      <td>0</td>\n",
       "      <td>315.0</td>\n",
       "      <td>315.87</td>\n",
       "      <td>418.140</td>\n",
       "      <td>102.270</td>\n",
       "      <td>0</td>\n",
       "      <td>7.0</td>\n",
       "      <td>-3.0</td>\n",
       "      <td>1</td>\n",
       "    </tr>\n",
       "    <tr>\n",
       "      <th>12</th>\n",
       "      <td>12</td>\n",
       "      <td>439.919</td>\n",
       "      <td>397.946</td>\n",
       "      <td>392.024</td>\n",
       "      <td>244.46</td>\n",
       "      <td>108.31</td>\n",
       "      <td>42.98</td>\n",
       "      <td>571.98</td>\n",
       "      <td>727.91</td>\n",
       "      <td>644.43</td>\n",
       "      <td>...</td>\n",
       "      <td>0.0</td>\n",
       "      <td>0</td>\n",
       "      <td>469.5</td>\n",
       "      <td>850.93</td>\n",
       "      <td>792.985</td>\n",
       "      <td>-57.945</td>\n",
       "      <td>1</td>\n",
       "      <td>15.0</td>\n",
       "      <td>0.0</td>\n",
       "      <td>0</td>\n",
       "    </tr>\n",
       "    <tr>\n",
       "      <th>14</th>\n",
       "      <td>14</td>\n",
       "      <td>340.266</td>\n",
       "      <td>205.397</td>\n",
       "      <td>191.780</td>\n",
       "      <td>123.76</td>\n",
       "      <td>116.34</td>\n",
       "      <td>75.93</td>\n",
       "      <td>98.51</td>\n",
       "      <td>94.11</td>\n",
       "      <td>150.61</td>\n",
       "      <td>...</td>\n",
       "      <td>0.0</td>\n",
       "      <td>0</td>\n",
       "      <td>350.0</td>\n",
       "      <td>643.39</td>\n",
       "      <td>572.090</td>\n",
       "      <td>-71.300</td>\n",
       "      <td>1</td>\n",
       "      <td>2.5</td>\n",
       "      <td>-4.5</td>\n",
       "      <td>1</td>\n",
       "    </tr>\n",
       "    <tr>\n",
       "      <th>15</th>\n",
       "      <td>15</td>\n",
       "      <td>580.549</td>\n",
       "      <td>377.294</td>\n",
       "      <td>338.286</td>\n",
       "      <td>10.43</td>\n",
       "      <td>24.99</td>\n",
       "      <td>194.43</td>\n",
       "      <td>317.11</td>\n",
       "      <td>341.79</td>\n",
       "      <td>197.09</td>\n",
       "      <td>...</td>\n",
       "      <td>0.0</td>\n",
       "      <td>0</td>\n",
       "      <td>527.0</td>\n",
       "      <td>560.82</td>\n",
       "      <td>1082.825</td>\n",
       "      <td>522.005</td>\n",
       "      <td>0</td>\n",
       "      <td>3.5</td>\n",
       "      <td>-1.5</td>\n",
       "      <td>1</td>\n",
       "    </tr>\n",
       "    <tr>\n",
       "      <th>22</th>\n",
       "      <td>22</td>\n",
       "      <td>277.458</td>\n",
       "      <td>283.346</td>\n",
       "      <td>231.755</td>\n",
       "      <td>179.54</td>\n",
       "      <td>287.98</td>\n",
       "      <td>155.16</td>\n",
       "      <td>335.41</td>\n",
       "      <td>255.18</td>\n",
       "      <td>281.06</td>\n",
       "      <td>...</td>\n",
       "      <td>0.0</td>\n",
       "      <td>0</td>\n",
       "      <td>366.0</td>\n",
       "      <td>736.52</td>\n",
       "      <td>1045.175</td>\n",
       "      <td>308.655</td>\n",
       "      <td>0</td>\n",
       "      <td>4.0</td>\n",
       "      <td>-2.0</td>\n",
       "      <td>1</td>\n",
       "    </tr>\n",
       "  </tbody>\n",
       "</table>\n",
       "<p>5 rows × 137 columns</p>\n",
       "</div>"
      ],
      "text/plain": [
       "    id   arpu_6   arpu_7   arpu_8  onnet_mou_6  onnet_mou_7  onnet_mou_8  \\\n",
       "11  11  292.724  228.753  418.233       135.54        63.61       177.36   \n",
       "12  12  439.919  397.946  392.024       244.46       108.31        42.98   \n",
       "14  14  340.266  205.397  191.780       123.76       116.34        75.93   \n",
       "15  15  580.549  377.294  338.286        10.43        24.99       194.43   \n",
       "22  22  277.458  283.346  231.755       179.54       287.98       155.16   \n",
       "\n",
       "    offnet_mou_6  offnet_mou_7  offnet_mou_8  ...  jun_vbc_3g  \\\n",
       "11         46.39         65.48         92.81  ...         0.0   \n",
       "12        571.98        727.91        644.43  ...         0.0   \n",
       "14         98.51         94.11        150.61  ...         0.0   \n",
       "15        317.11        341.79        197.09  ...         0.0   \n",
       "22        335.41        255.18        281.06  ...         0.0   \n",
       "\n",
       "    churn_probability  avg_rech_amt_6_7  total_mou_good  avg_mou_aug  \\\n",
       "11                  0             315.0          315.87      418.140   \n",
       "12                  0             469.5          850.93      792.985   \n",
       "14                  0             350.0          643.39      572.090   \n",
       "15                  0             527.0          560.82     1082.825   \n",
       "22                  0             366.0          736.52     1045.175   \n",
       "\n",
       "    diff_mou  decrease_mou_aug  avg_rech_num_aug  diff_rech_num  \\\n",
       "11   102.270                 0               7.0           -3.0   \n",
       "12   -57.945                 1              15.0            0.0   \n",
       "14   -71.300                 1               2.5           -4.5   \n",
       "15   522.005                 0               3.5           -1.5   \n",
       "22   308.655                 0               4.0           -2.0   \n",
       "\n",
       "    decrease_rech_num_aug  \n",
       "11                      1  \n",
       "12                      0  \n",
       "14                      1  \n",
       "15                      1  \n",
       "22                      1  \n",
       "\n",
       "[5 rows x 137 columns]"
      ]
     },
     "execution_count": 36,
     "metadata": {},
     "output_type": "execute_result"
    }
   ],
   "source": [
    "# Checking if rech_num has decreased in action phase\n",
    "clean_df['decrease_rech_num_aug'] = np.where((clean_df['diff_rech_num'] < 0), 1, 0)\n",
    "clean_df.head()"
   ]
  },
  {
   "cell_type": "code",
   "execution_count": 37,
   "id": "c58d1c79",
   "metadata": {
    "execution": {
     "iopub.execute_input": "2023-02-12T16:53:40.082343Z",
     "iopub.status.busy": "2023-02-12T16:53:40.081862Z",
     "iopub.status.idle": "2023-02-12T16:53:40.117434Z",
     "shell.execute_reply": "2023-02-12T16:53:40.115975Z"
    },
    "papermill": {
     "duration": 0.069272,
     "end_time": "2023-02-12T16:53:40.120188",
     "exception": false,
     "start_time": "2023-02-12T16:53:40.050916",
     "status": "completed"
    },
    "tags": []
   },
   "outputs": [
    {
     "data": {
      "text/html": [
       "<div>\n",
       "<style scoped>\n",
       "    .dataframe tbody tr th:only-of-type {\n",
       "        vertical-align: middle;\n",
       "    }\n",
       "\n",
       "    .dataframe tbody tr th {\n",
       "        vertical-align: top;\n",
       "    }\n",
       "\n",
       "    .dataframe thead th {\n",
       "        text-align: right;\n",
       "    }\n",
       "</style>\n",
       "<table border=\"1\" class=\"dataframe\">\n",
       "  <thead>\n",
       "    <tr style=\"text-align: right;\">\n",
       "      <th></th>\n",
       "      <th>id</th>\n",
       "      <th>arpu_6</th>\n",
       "      <th>arpu_7</th>\n",
       "      <th>arpu_8</th>\n",
       "      <th>onnet_mou_6</th>\n",
       "      <th>onnet_mou_7</th>\n",
       "      <th>onnet_mou_8</th>\n",
       "      <th>offnet_mou_6</th>\n",
       "      <th>offnet_mou_7</th>\n",
       "      <th>offnet_mou_8</th>\n",
       "      <th>...</th>\n",
       "      <th>total_mou_good</th>\n",
       "      <th>avg_mou_aug</th>\n",
       "      <th>diff_mou</th>\n",
       "      <th>decrease_mou_aug</th>\n",
       "      <th>avg_rech_num_aug</th>\n",
       "      <th>diff_rech_num</th>\n",
       "      <th>decrease_rech_num_aug</th>\n",
       "      <th>avg_rech_amt_aug</th>\n",
       "      <th>diff_rech_amt</th>\n",
       "      <th>decrease_rech_amt_aug</th>\n",
       "    </tr>\n",
       "  </thead>\n",
       "  <tbody>\n",
       "    <tr>\n",
       "      <th>11</th>\n",
       "      <td>11</td>\n",
       "      <td>292.724</td>\n",
       "      <td>228.753</td>\n",
       "      <td>418.233</td>\n",
       "      <td>135.54</td>\n",
       "      <td>63.61</td>\n",
       "      <td>177.36</td>\n",
       "      <td>46.39</td>\n",
       "      <td>65.48</td>\n",
       "      <td>92.81</td>\n",
       "      <td>...</td>\n",
       "      <td>315.87</td>\n",
       "      <td>418.140</td>\n",
       "      <td>102.270</td>\n",
       "      <td>0</td>\n",
       "      <td>7.0</td>\n",
       "      <td>-3.0</td>\n",
       "      <td>1</td>\n",
       "      <td>340.0</td>\n",
       "      <td>-70.0</td>\n",
       "      <td>1</td>\n",
       "    </tr>\n",
       "    <tr>\n",
       "      <th>12</th>\n",
       "      <td>12</td>\n",
       "      <td>439.919</td>\n",
       "      <td>397.946</td>\n",
       "      <td>392.024</td>\n",
       "      <td>244.46</td>\n",
       "      <td>108.31</td>\n",
       "      <td>42.98</td>\n",
       "      <td>571.98</td>\n",
       "      <td>727.91</td>\n",
       "      <td>644.43</td>\n",
       "      <td>...</td>\n",
       "      <td>850.93</td>\n",
       "      <td>792.985</td>\n",
       "      <td>-57.945</td>\n",
       "      <td>1</td>\n",
       "      <td>15.0</td>\n",
       "      <td>0.0</td>\n",
       "      <td>0</td>\n",
       "      <td>391.5</td>\n",
       "      <td>-129.5</td>\n",
       "      <td>1</td>\n",
       "    </tr>\n",
       "    <tr>\n",
       "      <th>14</th>\n",
       "      <td>14</td>\n",
       "      <td>340.266</td>\n",
       "      <td>205.397</td>\n",
       "      <td>191.780</td>\n",
       "      <td>123.76</td>\n",
       "      <td>116.34</td>\n",
       "      <td>75.93</td>\n",
       "      <td>98.51</td>\n",
       "      <td>94.11</td>\n",
       "      <td>150.61</td>\n",
       "      <td>...</td>\n",
       "      <td>643.39</td>\n",
       "      <td>572.090</td>\n",
       "      <td>-71.300</td>\n",
       "      <td>1</td>\n",
       "      <td>2.5</td>\n",
       "      <td>-4.5</td>\n",
       "      <td>1</td>\n",
       "      <td>235.0</td>\n",
       "      <td>-295.0</td>\n",
       "      <td>1</td>\n",
       "    </tr>\n",
       "    <tr>\n",
       "      <th>15</th>\n",
       "      <td>15</td>\n",
       "      <td>580.549</td>\n",
       "      <td>377.294</td>\n",
       "      <td>338.286</td>\n",
       "      <td>10.43</td>\n",
       "      <td>24.99</td>\n",
       "      <td>194.43</td>\n",
       "      <td>317.11</td>\n",
       "      <td>341.79</td>\n",
       "      <td>197.09</td>\n",
       "      <td>...</td>\n",
       "      <td>560.82</td>\n",
       "      <td>1082.825</td>\n",
       "      <td>522.005</td>\n",
       "      <td>0</td>\n",
       "      <td>3.5</td>\n",
       "      <td>-1.5</td>\n",
       "      <td>1</td>\n",
       "      <td>526.0</td>\n",
       "      <td>-128.0</td>\n",
       "      <td>1</td>\n",
       "    </tr>\n",
       "    <tr>\n",
       "      <th>22</th>\n",
       "      <td>22</td>\n",
       "      <td>277.458</td>\n",
       "      <td>283.346</td>\n",
       "      <td>231.755</td>\n",
       "      <td>179.54</td>\n",
       "      <td>287.98</td>\n",
       "      <td>155.16</td>\n",
       "      <td>335.41</td>\n",
       "      <td>255.18</td>\n",
       "      <td>281.06</td>\n",
       "      <td>...</td>\n",
       "      <td>736.52</td>\n",
       "      <td>1045.175</td>\n",
       "      <td>308.655</td>\n",
       "      <td>0</td>\n",
       "      <td>4.0</td>\n",
       "      <td>-2.0</td>\n",
       "      <td>1</td>\n",
       "      <td>349.0</td>\n",
       "      <td>-12.0</td>\n",
       "      <td>1</td>\n",
       "    </tr>\n",
       "  </tbody>\n",
       "</table>\n",
       "<p>5 rows × 140 columns</p>\n",
       "</div>"
      ],
      "text/plain": [
       "    id   arpu_6   arpu_7   arpu_8  onnet_mou_6  onnet_mou_7  onnet_mou_8  \\\n",
       "11  11  292.724  228.753  418.233       135.54        63.61       177.36   \n",
       "12  12  439.919  397.946  392.024       244.46       108.31        42.98   \n",
       "14  14  340.266  205.397  191.780       123.76       116.34        75.93   \n",
       "15  15  580.549  377.294  338.286        10.43        24.99       194.43   \n",
       "22  22  277.458  283.346  231.755       179.54       287.98       155.16   \n",
       "\n",
       "    offnet_mou_6  offnet_mou_7  offnet_mou_8  ...  total_mou_good  \\\n",
       "11         46.39         65.48         92.81  ...          315.87   \n",
       "12        571.98        727.91        644.43  ...          850.93   \n",
       "14         98.51         94.11        150.61  ...          643.39   \n",
       "15        317.11        341.79        197.09  ...          560.82   \n",
       "22        335.41        255.18        281.06  ...          736.52   \n",
       "\n",
       "    avg_mou_aug  diff_mou  decrease_mou_aug  avg_rech_num_aug  diff_rech_num  \\\n",
       "11      418.140   102.270                 0               7.0           -3.0   \n",
       "12      792.985   -57.945                 1              15.0            0.0   \n",
       "14      572.090   -71.300                 1               2.5           -4.5   \n",
       "15     1082.825   522.005                 0               3.5           -1.5   \n",
       "22     1045.175   308.655                 0               4.0           -2.0   \n",
       "\n",
       "    decrease_rech_num_aug  avg_rech_amt_aug  diff_rech_amt  \\\n",
       "11                      1             340.0          -70.0   \n",
       "12                      0             391.5         -129.5   \n",
       "14                      1             235.0         -295.0   \n",
       "15                      1             526.0         -128.0   \n",
       "22                      1             349.0          -12.0   \n",
       "\n",
       "    decrease_rech_amt_aug  \n",
       "11                      1  \n",
       "12                      1  \n",
       "14                      1  \n",
       "15                      1  \n",
       "22                      1  \n",
       "\n",
       "[5 rows x 140 columns]"
      ]
     },
     "execution_count": 37,
     "metadata": {},
     "output_type": "execute_result"
    }
   ],
   "source": [
    "# Avg rech_amt in action phase and take difference of action phase rech amt and good phase rech amt\n",
    "clean_df['avg_rech_amt_aug'] = (clean_df['total_rech_amt_7'] + clean_df['total_rech_amt_8'])/2\n",
    "clean_df['diff_rech_amt'] = clean_df['avg_rech_amt_aug'] - clean_df['total_rech_amt_6']\n",
    "# Checking if rech_amt has decreased in action phase\n",
    "clean_df['decrease_rech_amt_aug'] = np.where((clean_df['diff_rech_amt'] < 0), 1, 0) \n",
    "clean_df.head()"
   ]
  },
  {
   "cell_type": "code",
   "execution_count": 38,
   "id": "5c9c132e",
   "metadata": {
    "execution": {
     "iopub.execute_input": "2023-02-12T16:53:40.179820Z",
     "iopub.status.busy": "2023-02-12T16:53:40.179339Z",
     "iopub.status.idle": "2023-02-12T16:53:40.215611Z",
     "shell.execute_reply": "2023-02-12T16:53:40.214360Z"
    },
    "papermill": {
     "duration": 0.069715,
     "end_time": "2023-02-12T16:53:40.218708",
     "exception": false,
     "start_time": "2023-02-12T16:53:40.148993",
     "status": "completed"
    },
    "tags": []
   },
   "outputs": [
    {
     "data": {
      "text/html": [
       "<div>\n",
       "<style scoped>\n",
       "    .dataframe tbody tr th:only-of-type {\n",
       "        vertical-align: middle;\n",
       "    }\n",
       "\n",
       "    .dataframe tbody tr th {\n",
       "        vertical-align: top;\n",
       "    }\n",
       "\n",
       "    .dataframe thead th {\n",
       "        text-align: right;\n",
       "    }\n",
       "</style>\n",
       "<table border=\"1\" class=\"dataframe\">\n",
       "  <thead>\n",
       "    <tr style=\"text-align: right;\">\n",
       "      <th></th>\n",
       "      <th>id</th>\n",
       "      <th>arpu_6</th>\n",
       "      <th>arpu_7</th>\n",
       "      <th>arpu_8</th>\n",
       "      <th>onnet_mou_6</th>\n",
       "      <th>onnet_mou_7</th>\n",
       "      <th>onnet_mou_8</th>\n",
       "      <th>offnet_mou_6</th>\n",
       "      <th>offnet_mou_7</th>\n",
       "      <th>offnet_mou_8</th>\n",
       "      <th>...</th>\n",
       "      <th>decrease_mou_aug</th>\n",
       "      <th>avg_rech_num_aug</th>\n",
       "      <th>diff_rech_num</th>\n",
       "      <th>decrease_rech_num_aug</th>\n",
       "      <th>avg_rech_amt_aug</th>\n",
       "      <th>diff_rech_amt</th>\n",
       "      <th>decrease_rech_amt_aug</th>\n",
       "      <th>avg_vbc_3g_aug</th>\n",
       "      <th>diff_vbc</th>\n",
       "      <th>decrease_vbc_aug</th>\n",
       "    </tr>\n",
       "  </thead>\n",
       "  <tbody>\n",
       "    <tr>\n",
       "      <th>11</th>\n",
       "      <td>11</td>\n",
       "      <td>292.724</td>\n",
       "      <td>228.753</td>\n",
       "      <td>418.233</td>\n",
       "      <td>135.54</td>\n",
       "      <td>63.61</td>\n",
       "      <td>177.36</td>\n",
       "      <td>46.39</td>\n",
       "      <td>65.48</td>\n",
       "      <td>92.81</td>\n",
       "      <td>...</td>\n",
       "      <td>0</td>\n",
       "      <td>7.0</td>\n",
       "      <td>-3.0</td>\n",
       "      <td>1</td>\n",
       "      <td>340.0</td>\n",
       "      <td>-70.0</td>\n",
       "      <td>1</td>\n",
       "      <td>0.0</td>\n",
       "      <td>0.0</td>\n",
       "      <td>0</td>\n",
       "    </tr>\n",
       "    <tr>\n",
       "      <th>12</th>\n",
       "      <td>12</td>\n",
       "      <td>439.919</td>\n",
       "      <td>397.946</td>\n",
       "      <td>392.024</td>\n",
       "      <td>244.46</td>\n",
       "      <td>108.31</td>\n",
       "      <td>42.98</td>\n",
       "      <td>571.98</td>\n",
       "      <td>727.91</td>\n",
       "      <td>644.43</td>\n",
       "      <td>...</td>\n",
       "      <td>1</td>\n",
       "      <td>15.0</td>\n",
       "      <td>0.0</td>\n",
       "      <td>0</td>\n",
       "      <td>391.5</td>\n",
       "      <td>-129.5</td>\n",
       "      <td>1</td>\n",
       "      <td>0.0</td>\n",
       "      <td>0.0</td>\n",
       "      <td>0</td>\n",
       "    </tr>\n",
       "    <tr>\n",
       "      <th>14</th>\n",
       "      <td>14</td>\n",
       "      <td>340.266</td>\n",
       "      <td>205.397</td>\n",
       "      <td>191.780</td>\n",
       "      <td>123.76</td>\n",
       "      <td>116.34</td>\n",
       "      <td>75.93</td>\n",
       "      <td>98.51</td>\n",
       "      <td>94.11</td>\n",
       "      <td>150.61</td>\n",
       "      <td>...</td>\n",
       "      <td>1</td>\n",
       "      <td>2.5</td>\n",
       "      <td>-4.5</td>\n",
       "      <td>1</td>\n",
       "      <td>235.0</td>\n",
       "      <td>-295.0</td>\n",
       "      <td>1</td>\n",
       "      <td>0.0</td>\n",
       "      <td>0.0</td>\n",
       "      <td>0</td>\n",
       "    </tr>\n",
       "    <tr>\n",
       "      <th>15</th>\n",
       "      <td>15</td>\n",
       "      <td>580.549</td>\n",
       "      <td>377.294</td>\n",
       "      <td>338.286</td>\n",
       "      <td>10.43</td>\n",
       "      <td>24.99</td>\n",
       "      <td>194.43</td>\n",
       "      <td>317.11</td>\n",
       "      <td>341.79</td>\n",
       "      <td>197.09</td>\n",
       "      <td>...</td>\n",
       "      <td>0</td>\n",
       "      <td>3.5</td>\n",
       "      <td>-1.5</td>\n",
       "      <td>1</td>\n",
       "      <td>526.0</td>\n",
       "      <td>-128.0</td>\n",
       "      <td>1</td>\n",
       "      <td>0.0</td>\n",
       "      <td>0.0</td>\n",
       "      <td>0</td>\n",
       "    </tr>\n",
       "    <tr>\n",
       "      <th>22</th>\n",
       "      <td>22</td>\n",
       "      <td>277.458</td>\n",
       "      <td>283.346</td>\n",
       "      <td>231.755</td>\n",
       "      <td>179.54</td>\n",
       "      <td>287.98</td>\n",
       "      <td>155.16</td>\n",
       "      <td>335.41</td>\n",
       "      <td>255.18</td>\n",
       "      <td>281.06</td>\n",
       "      <td>...</td>\n",
       "      <td>0</td>\n",
       "      <td>4.0</td>\n",
       "      <td>-2.0</td>\n",
       "      <td>1</td>\n",
       "      <td>349.0</td>\n",
       "      <td>-12.0</td>\n",
       "      <td>1</td>\n",
       "      <td>0.0</td>\n",
       "      <td>0.0</td>\n",
       "      <td>0</td>\n",
       "    </tr>\n",
       "  </tbody>\n",
       "</table>\n",
       "<p>5 rows × 143 columns</p>\n",
       "</div>"
      ],
      "text/plain": [
       "    id   arpu_6   arpu_7   arpu_8  onnet_mou_6  onnet_mou_7  onnet_mou_8  \\\n",
       "11  11  292.724  228.753  418.233       135.54        63.61       177.36   \n",
       "12  12  439.919  397.946  392.024       244.46       108.31        42.98   \n",
       "14  14  340.266  205.397  191.780       123.76       116.34        75.93   \n",
       "15  15  580.549  377.294  338.286        10.43        24.99       194.43   \n",
       "22  22  277.458  283.346  231.755       179.54       287.98       155.16   \n",
       "\n",
       "    offnet_mou_6  offnet_mou_7  offnet_mou_8  ...  decrease_mou_aug  \\\n",
       "11         46.39         65.48         92.81  ...                 0   \n",
       "12        571.98        727.91        644.43  ...                 1   \n",
       "14         98.51         94.11        150.61  ...                 1   \n",
       "15        317.11        341.79        197.09  ...                 0   \n",
       "22        335.41        255.18        281.06  ...                 0   \n",
       "\n",
       "    avg_rech_num_aug  diff_rech_num  decrease_rech_num_aug  avg_rech_amt_aug  \\\n",
       "11               7.0           -3.0                      1             340.0   \n",
       "12              15.0            0.0                      0             391.5   \n",
       "14               2.5           -4.5                      1             235.0   \n",
       "15               3.5           -1.5                      1             526.0   \n",
       "22               4.0           -2.0                      1             349.0   \n",
       "\n",
       "    diff_rech_amt  decrease_rech_amt_aug  avg_vbc_3g_aug  diff_vbc  \\\n",
       "11          -70.0                      1             0.0       0.0   \n",
       "12         -129.5                      1             0.0       0.0   \n",
       "14         -295.0                      1             0.0       0.0   \n",
       "15         -128.0                      1             0.0       0.0   \n",
       "22          -12.0                      1             0.0       0.0   \n",
       "\n",
       "    decrease_vbc_aug  \n",
       "11                 0  \n",
       "12                 0  \n",
       "14                 0  \n",
       "15                 0  \n",
       "22                 0  \n",
       "\n",
       "[5 rows x 143 columns]"
      ]
     },
     "execution_count": 38,
     "metadata": {},
     "output_type": "execute_result"
    }
   ],
   "source": [
    "# VBC in action phase and take difference of good and action phase VBC\n",
    "clean_df['avg_vbc_3g_aug'] = (clean_df['jul_vbc_3g'] + clean_df['aug_vbc_3g'])/2\n",
    "clean_df['diff_vbc'] = clean_df['avg_vbc_3g_aug'] - clean_df['jun_vbc_3g']\n",
    "# Checking whether the VBC has decreased on the action month\n",
    "clean_df['decrease_vbc_aug'] = np.where(clean_df['diff_vbc'] < 0 , 1, 0)\n",
    "clean_df.head()"
   ]
  },
  {
   "cell_type": "code",
   "execution_count": 39,
   "id": "f2ec2088",
   "metadata": {
    "execution": {
     "iopub.execute_input": "2023-02-12T16:53:40.280104Z",
     "iopub.status.busy": "2023-02-12T16:53:40.279600Z",
     "iopub.status.idle": "2023-02-12T16:53:40.291908Z",
     "shell.execute_reply": "2023-02-12T16:53:40.290593Z"
    },
    "papermill": {
     "duration": 0.046326,
     "end_time": "2023-02-12T16:53:40.294887",
     "exception": false,
     "start_time": "2023-02-12T16:53:40.248561",
     "status": "completed"
    },
    "tags": []
   },
   "outputs": [],
   "source": [
    "# Deriving a new column if average per customer decrease\n",
    "clean_df[\"avg_rev_aug\"] = (clean_df['arpu_7'] + clean_df['arpu_8'])/2\n",
    "# Difference of good and action phase ARPU\n",
    "clean_df['diff_avg_rev_aug'] = clean_df['avg_rev_aug'] - clean_df['arpu_6']\n",
    "# Checking whether the arpu has decreased on the action month\n",
    "clean_df['decrease_avg_aug_per_user'] = np.where(clean_df['diff_avg_rev_aug'] < 0, 1, 0)"
   ]
  },
  {
   "cell_type": "markdown",
   "id": "c0ee4863",
   "metadata": {
    "papermill": {
     "duration": 0.030878,
     "end_time": "2023-02-12T16:53:40.355381",
     "exception": false,
     "start_time": "2023-02-12T16:53:40.324503",
     "status": "completed"
    },
    "tags": []
   },
   "source": [
    "### EDA And Feature Engineering\n"
   ]
  },
  {
   "cell_type": "markdown",
   "id": "8c4bf84c",
   "metadata": {
    "papermill": {
     "duration": 0.02953,
     "end_time": "2023-02-12T16:53:40.415871",
     "exception": false,
     "start_time": "2023-02-12T16:53:40.386341",
     "status": "completed"
    },
    "tags": []
   },
   "source": [
    "#### Univariate analysis"
   ]
  },
  {
   "cell_type": "code",
   "execution_count": 40,
   "id": "5dd3debf",
   "metadata": {
    "execution": {
     "iopub.execute_input": "2023-02-12T16:53:40.480783Z",
     "iopub.status.busy": "2023-02-12T16:53:40.480265Z",
     "iopub.status.idle": "2023-02-12T16:53:40.487881Z",
     "shell.execute_reply": "2023-02-12T16:53:40.486361Z"
    },
    "papermill": {
     "duration": 0.045818,
     "end_time": "2023-02-12T16:53:40.491060",
     "exception": false,
     "start_time": "2023-02-12T16:53:40.445242",
     "status": "completed"
    },
    "tags": []
   },
   "outputs": [],
   "source": [
    "# Converting churn_probability column to int in order to do aggfunc in the pivot table\n",
    "clean_df['churn_probability'] = clean_df['churn_probability'].astype('int64')"
   ]
  },
  {
   "cell_type": "code",
   "execution_count": 41,
   "id": "acce266b",
   "metadata": {
    "execution": {
     "iopub.execute_input": "2023-02-12T16:53:40.553098Z",
     "iopub.status.busy": "2023-02-12T16:53:40.552576Z",
     "iopub.status.idle": "2023-02-12T16:53:40.837049Z",
     "shell.execute_reply": "2023-02-12T16:53:40.835711Z"
    },
    "papermill": {
     "duration": 0.319872,
     "end_time": "2023-02-12T16:53:40.840257",
     "exception": false,
     "start_time": "2023-02-12T16:53:40.520385",
     "status": "completed"
    },
    "tags": []
   },
   "outputs": [
    {
     "data": {
      "image/png": "[encoded data removed]",
      "text/plain": [
       "<Figure size 432x288 with 1 Axes>"
      ]
     },
     "metadata": {
      "needs_background": "light"
     },
     "output_type": "display_data"
    }
   ],
   "source": [
    "clean_df.pivot_table(values='churn_probability', index='decrease_mou_aug', aggfunc='mean').plot.bar()\n",
    "plt.ylabel('churn rate')\n",
    "plt.show()"
   ]
  },
  {
   "cell_type": "code",
   "execution_count": 42,
   "id": "a1f8a91d",
   "metadata": {
    "execution": {
     "iopub.execute_input": "2023-02-12T16:53:40.903369Z",
     "iopub.status.busy": "2023-02-12T16:53:40.902541Z",
     "iopub.status.idle": "2023-02-12T16:53:41.113486Z",
     "shell.execute_reply": "2023-02-12T16:53:41.112491Z"
    },
    "papermill": {
     "duration": 0.245317,
     "end_time": "2023-02-12T16:53:41.116124",
     "exception": false,
     "start_time": "2023-02-12T16:53:40.870807",
     "status": "completed"
    },
    "tags": []
   },
   "outputs": [
    {
     "data": {
      "image/png": "[encoded data removed]",
      "text/plain": [
       "<Figure size 432x288 with 1 Axes>"
      ]
     },
     "metadata": {
      "needs_background": "light"
     },
     "output_type": "display_data"
    }
   ],
   "source": [
    "clean_df.pivot_table(values='churn_probability', index='decrease_rech_num_aug', aggfunc='mean').plot.bar()\n",
    "plt.ylabel('churn rate')\n",
    "plt.show()"
   ]
  },
  {
   "cell_type": "code",
   "execution_count": 43,
   "id": "57a1b176",
   "metadata": {
    "execution": {
     "iopub.execute_input": "2023-02-12T16:53:41.180037Z",
     "iopub.status.busy": "2023-02-12T16:53:41.179150Z",
     "iopub.status.idle": "2023-02-12T16:53:41.412486Z",
     "shell.execute_reply": "2023-02-12T16:53:41.411235Z"
    },
    "papermill": {
     "duration": 0.268737,
     "end_time": "2023-02-12T16:53:41.415307",
     "exception": false,
     "start_time": "2023-02-12T16:53:41.146570",
     "status": "completed"
    },
    "tags": []
   },
   "outputs": [
    {
     "data": {
      "image/png": "[encoded data removed]",
      "text/plain": [
       "<Figure size 432x288 with 1 Axes>"
      ]
     },
     "metadata": {
      "needs_background": "light"
     },
     "output_type": "display_data"
    }
   ],
   "source": [
    "clean_df.pivot_table(values='churn_probability', index='decrease_vbc_aug', aggfunc='mean').plot.bar()\n",
    "plt.ylabel('churn rate')\n",
    "plt.show()"
   ]
  },
  {
   "cell_type": "markdown",
   "id": "d76a5040",
   "metadata": {
    "papermill": {
     "duration": 0.030546,
     "end_time": "2023-02-12T16:53:41.475881",
     "exception": false,
     "start_time": "2023-02-12T16:53:41.445335",
     "status": "completed"
    },
    "tags": []
   },
   "source": [
    "***Conclusion***\n",
    "1. Where we see minutes of usage decreases compare to previous months for those customers where churn rate is high\n",
    "2. We also the frequency of recharge is decreses with high churn rate\n",
    "3. churn rate is more, whose volume based cost in June and july is increased. Which can be interpreted as these customers don't do the monthly recharge more when they are in the Aug (which we can be consider as Action Phase)."
   ]
  },
  {
   "cell_type": "markdown",
   "id": "9a0ac905",
   "metadata": {
    "papermill": {
     "duration": 0.029556,
     "end_time": "2023-02-12T16:53:41.536298",
     "exception": false,
     "start_time": "2023-02-12T16:53:41.506742",
     "status": "completed"
    },
    "tags": []
   },
   "source": [
    "Compare customer's average revenue base churn"
   ]
  },
  {
   "cell_type": "code",
   "execution_count": 44,
   "id": "e42ed465",
   "metadata": {
    "execution": {
     "iopub.execute_input": "2023-02-12T16:53:41.601519Z",
     "iopub.status.busy": "2023-02-12T16:53:41.599954Z",
     "iopub.status.idle": "2023-02-12T16:53:41.628028Z",
     "shell.execute_reply": "2023-02-12T16:53:41.626731Z"
    },
    "papermill": {
     "duration": 0.062856,
     "end_time": "2023-02-12T16:53:41.630837",
     "exception": false,
     "start_time": "2023-02-12T16:53:41.567981",
     "status": "completed"
    },
    "tags": []
   },
   "outputs": [
    {
     "name": "stdout",
     "output_type": "stream",
     "text": [
      "(840, 146)\n",
      "(24937, 146)\n"
     ]
    }
   ],
   "source": [
    "# Churn\n",
    "churn_df = clean_df[clean_df['churn_probability'] == 1]\n",
    "# Not churn\n",
    "non_churn_df = clean_df[clean_df['churn_probability'] == 0]\n",
    "\n",
    "print(churn_df.shape)\n",
    "print(non_churn_df.shape)"
   ]
  },
  {
   "cell_type": "code",
   "execution_count": 45,
   "id": "25cf29f2",
   "metadata": {
    "execution": {
     "iopub.execute_input": "2023-02-12T16:53:41.697153Z",
     "iopub.status.busy": "2023-02-12T16:53:41.696692Z",
     "iopub.status.idle": "2023-02-12T16:53:41.705465Z",
     "shell.execute_reply": "2023-02-12T16:53:41.704003Z"
    },
    "papermill": {
     "duration": 0.045028,
     "end_time": "2023-02-12T16:53:41.708093",
     "exception": false,
     "start_time": "2023-02-12T16:53:41.663065",
     "status": "completed"
    },
    "tags": []
   },
   "outputs": [
    {
     "data": {
      "text/plain": [
       "array(['id', 'arpu_6', 'arpu_7', 'arpu_8', 'onnet_mou_6', 'onnet_mou_7',\n",
       "       'onnet_mou_8', 'offnet_mou_6', 'offnet_mou_7', 'offnet_mou_8',\n",
       "       'roam_ic_mou_6', 'roam_ic_mou_7', 'roam_ic_mou_8', 'roam_og_mou_6',\n",
       "       'roam_og_mou_7', 'roam_og_mou_8', 'loc_og_t2t_mou_6',\n",
       "       'loc_og_t2t_mou_7', 'loc_og_t2t_mou_8', 'loc_og_t2m_mou_6',\n",
       "       'loc_og_t2m_mou_7', 'loc_og_t2m_mou_8', 'loc_og_t2f_mou_6',\n",
       "       'loc_og_t2f_mou_7', 'loc_og_t2f_mou_8', 'loc_og_t2c_mou_6',\n",
       "       'loc_og_t2c_mou_7', 'loc_og_t2c_mou_8', 'loc_og_mou_6',\n",
       "       'loc_og_mou_7', 'loc_og_mou_8', 'std_og_t2t_mou_6',\n",
       "       'std_og_t2t_mou_7', 'std_og_t2t_mou_8', 'std_og_t2m_mou_6',\n",
       "       'std_og_t2m_mou_7', 'std_og_t2m_mou_8', 'std_og_t2f_mou_6',\n",
       "       'std_og_t2f_mou_7', 'std_og_t2f_mou_8', 'std_og_mou_6',\n",
       "       'std_og_mou_7', 'std_og_mou_8', 'isd_og_mou_6', 'isd_og_mou_7',\n",
       "       'isd_og_mou_8', 'spl_og_mou_6', 'spl_og_mou_7', 'spl_og_mou_8',\n",
       "       'og_others_6', 'og_others_7', 'og_others_8', 'total_og_mou_6',\n",
       "       'total_og_mou_7', 'total_og_mou_8', 'loc_ic_t2t_mou_6',\n",
       "       'loc_ic_t2t_mou_7', 'loc_ic_t2t_mou_8', 'loc_ic_t2m_mou_6',\n",
       "       'loc_ic_t2m_mou_7', 'loc_ic_t2m_mou_8', 'loc_ic_t2f_mou_6',\n",
       "       'loc_ic_t2f_mou_7', 'loc_ic_t2f_mou_8', 'loc_ic_mou_6',\n",
       "       'loc_ic_mou_7', 'loc_ic_mou_8', 'std_ic_t2t_mou_6',\n",
       "       'std_ic_t2t_mou_7', 'std_ic_t2t_mou_8', 'std_ic_t2m_mou_6',\n",
       "       'std_ic_t2m_mou_7', 'std_ic_t2m_mou_8', 'std_ic_t2f_mou_6',\n",
       "       'std_ic_t2f_mou_7', 'std_ic_t2f_mou_8', 'std_ic_mou_6',\n",
       "       'std_ic_mou_7', 'std_ic_mou_8', 'total_ic_mou_6', 'total_ic_mou_7',\n",
       "       'total_ic_mou_8', 'spl_ic_mou_6', 'spl_ic_mou_7', 'spl_ic_mou_8',\n",
       "       'isd_ic_mou_6', 'isd_ic_mou_7', 'isd_ic_mou_8', 'ic_others_6',\n",
       "       'ic_others_7', 'ic_others_8', 'total_rech_num_6',\n",
       "       'total_rech_num_7', 'total_rech_num_8', 'total_rech_amt_6',\n",
       "       'total_rech_amt_7', 'total_rech_amt_8', 'max_rech_amt_6',\n",
       "       'max_rech_amt_7', 'max_rech_amt_8', 'date_of_last_rech_6',\n",
       "       'date_of_last_rech_7', 'date_of_last_rech_8', 'last_day_rch_amt_6',\n",
       "       'last_day_rch_amt_7', 'last_day_rch_amt_8', 'vol_2g_mb_6',\n",
       "       'vol_2g_mb_7', 'vol_2g_mb_8', 'vol_3g_mb_6', 'vol_3g_mb_7',\n",
       "       'vol_3g_mb_8', 'monthly_2g_6', 'monthly_2g_7', 'monthly_2g_8',\n",
       "       'sachet_2g_6', 'sachet_2g_7', 'sachet_2g_8', 'monthly_3g_6',\n",
       "       'monthly_3g_7', 'monthly_3g_8', 'sachet_3g_6', 'sachet_3g_7',\n",
       "       'sachet_3g_8', 'aon', 'aug_vbc_3g', 'jul_vbc_3g', 'jun_vbc_3g',\n",
       "       'churn_probability', 'avg_rech_amt_6_7', 'total_mou_good',\n",
       "       'avg_mou_aug', 'diff_mou', 'decrease_mou_aug', 'avg_rech_num_aug',\n",
       "       'diff_rech_num', 'decrease_rech_num_aug', 'avg_rech_amt_aug',\n",
       "       'diff_rech_amt', 'decrease_rech_amt_aug', 'avg_vbc_3g_aug',\n",
       "       'diff_vbc', 'decrease_vbc_aug', 'avg_rev_aug', 'diff_avg_rev_aug',\n",
       "       'decrease_avg_aug_per_user'], dtype=object)"
      ]
     },
     "execution_count": 45,
     "metadata": {},
     "output_type": "execute_result"
    }
   ],
   "source": [
    "clean_df.columns.values"
   ]
  },
  {
   "cell_type": "code",
   "execution_count": 46,
   "id": "30364d1e",
   "metadata": {
    "execution": {
     "iopub.execute_input": "2023-02-12T16:53:41.772823Z",
     "iopub.status.busy": "2023-02-12T16:53:41.772293Z",
     "iopub.status.idle": "2023-02-12T16:53:41.981496Z",
     "shell.execute_reply": "2023-02-12T16:53:41.980163Z"
    },
    "papermill": {
     "duration": 0.245632,
     "end_time": "2023-02-12T16:53:41.984557",
     "exception": false,
     "start_time": "2023-02-12T16:53:41.738925",
     "status": "completed"
    },
    "tags": []
   },
   "outputs": [
    {
     "data": {
      "image/png": "[encoded data removed]",
      "text/plain": [
       "<Figure size 432x288 with 1 Axes>"
      ]
     },
     "metadata": {
      "needs_background": "light"
     },
     "output_type": "display_data"
    }
   ],
   "source": [
    "# Lets check the box plots for 8th month revenue to see if it can distinguish\n",
    "sns.boxplot(data=clean_df, x='churn_probability',y='arpu_8')\n",
    "plt.show()"
   ]
  },
  {
   "cell_type": "markdown",
   "id": "6cb07182",
   "metadata": {
    "papermill": {
     "duration": 0.030733,
     "end_time": "2023-02-12T16:53:42.047268",
     "exception": false,
     "start_time": "2023-02-12T16:53:42.016535",
     "status": "completed"
    },
    "tags": []
   },
   "source": [
    "Churned customers have low revenue in aug and mean churned customers is almost zero."
   ]
  },
  {
   "cell_type": "code",
   "execution_count": 47,
   "id": "e73eeea5",
   "metadata": {
    "execution": {
     "iopub.execute_input": "2023-02-12T16:53:42.114148Z",
     "iopub.status.busy": "2023-02-12T16:53:42.112942Z",
     "iopub.status.idle": "2023-02-12T16:53:42.315836Z",
     "shell.execute_reply": "2023-02-12T16:53:42.314930Z"
    },
    "papermill": {
     "duration": 0.239052,
     "end_time": "2023-02-12T16:53:42.318413",
     "exception": false,
     "start_time": "2023-02-12T16:53:42.079361",
     "status": "completed"
    },
    "tags": []
   },
   "outputs": [
    {
     "data": {
      "image/png": "[encoded data removed]",
      "text/plain": [
       "<Figure size 432x288 with 1 Axes>"
      ]
     },
     "metadata": {
      "needs_background": "light"
     },
     "output_type": "display_data"
    }
   ],
   "source": [
    "# Lets check the box plots for july month revenue to see if it can distinguish\n",
    "sns.boxplot(data=clean_df,x='churn_probability',y='arpu_7')\n",
    "plt.show()"
   ]
  },
  {
   "cell_type": "markdown",
   "id": "5b566545",
   "metadata": {
    "papermill": {
     "duration": 0.033252,
     "end_time": "2023-02-12T16:53:42.383746",
     "exception": false,
     "start_time": "2023-02-12T16:53:42.350494",
     "status": "completed"
    },
    "tags": []
   },
   "source": [
    "Here mean of churn and non-churn customers are slightly close to each other"
   ]
  },
  {
   "cell_type": "code",
   "execution_count": 48,
   "id": "e0fc6ff6",
   "metadata": {
    "execution": {
     "iopub.execute_input": "2023-02-12T16:53:42.450759Z",
     "iopub.status.busy": "2023-02-12T16:53:42.449885Z",
     "iopub.status.idle": "2023-02-12T16:53:42.654994Z",
     "shell.execute_reply": "2023-02-12T16:53:42.653745Z"
    },
    "papermill": {
     "duration": 0.242572,
     "end_time": "2023-02-12T16:53:42.657965",
     "exception": false,
     "start_time": "2023-02-12T16:53:42.415393",
     "status": "completed"
    },
    "tags": []
   },
   "outputs": [
    {
     "data": {
      "image/png": "[encoded data removed]",
      "text/plain": [
       "<Figure size 432x288 with 1 Axes>"
      ]
     },
     "metadata": {
      "needs_background": "light"
     },
     "output_type": "display_data"
    }
   ],
   "source": [
    "# Lets check the box plots for june month revenue to see if it can distinguish\n",
    "sns.boxplot(data=clean_df,x='churn_probability',y='arpu_6')\n",
    "plt.show()"
   ]
  },
  {
   "cell_type": "markdown",
   "id": "e6f470e1",
   "metadata": {
    "papermill": {
     "duration": 0.03227,
     "end_time": "2023-02-12T16:53:42.721954",
     "exception": false,
     "start_time": "2023-02-12T16:53:42.689684",
     "status": "completed"
    },
    "tags": []
   },
   "source": [
    "June month is not helpful in distinguishing the churn and non-churn customer"
   ]
  },
  {
   "cell_type": "code",
   "execution_count": 49,
   "id": "486870a1",
   "metadata": {
    "execution": {
     "iopub.execute_input": "2023-02-12T16:53:42.788553Z",
     "iopub.status.busy": "2023-02-12T16:53:42.787983Z",
     "iopub.status.idle": "2023-02-12T16:53:43.187911Z",
     "shell.execute_reply": "2023-02-12T16:53:43.186455Z"
    },
    "papermill": {
     "duration": 0.43702,
     "end_time": "2023-02-12T16:53:43.191467",
     "exception": false,
     "start_time": "2023-02-12T16:53:42.754447",
     "status": "completed"
    },
    "tags": []
   },
   "outputs": [
    {
     "data": {
      "text/plain": [
       "[Text(0.5, 0, 'Aug MOU')]"
      ]
     },
     "execution_count": 49,
     "metadata": {},
     "output_type": "execute_result"
    },
    {
     "data": {
      "image/png": "[encoded data removed]",
      "text/plain": [
       "<Figure size 432x288 with 1 Axes>"
      ]
     },
     "metadata": {
      "needs_background": "light"
     },
     "output_type": "display_data"
    }
   ],
   "source": [
    "# Lets plot the distribution plot to see in depth\n",
    "# Relate denisity total minutes of use\n",
    "ax = sns.distplot(churn_df['total_mou_good'],label='churn',hist=False)\n",
    "ax = sns.distplot(non_churn_df['total_mou_good'],label='non churn',hist=False)\n",
    "ax.set(xlabel='Aug MOU')"
   ]
  },
  {
   "cell_type": "code",
   "execution_count": 50,
   "id": "e0da1874",
   "metadata": {
    "execution": {
     "iopub.execute_input": "2023-02-12T16:53:43.259222Z",
     "iopub.status.busy": "2023-02-12T16:53:43.258753Z",
     "iopub.status.idle": "2023-02-12T16:53:43.609126Z",
     "shell.execute_reply": "2023-02-12T16:53:43.607538Z"
    },
    "papermill": {
     "duration": 0.387773,
     "end_time": "2023-02-12T16:53:43.612419",
     "exception": false,
     "start_time": "2023-02-12T16:53:43.224646",
     "status": "completed"
    },
    "tags": []
   },
   "outputs": [
    {
     "data": {
      "text/plain": [
       "[Text(0.5, 0, 'Aug average revenue per user')]"
      ]
     },
     "execution_count": 50,
     "metadata": {},
     "output_type": "execute_result"
    },
    {
     "data": {
      "image/png": "[encoded data removed]",
      "text/plain": [
       "<Figure size 432x288 with 1 Axes>"
      ]
     },
     "metadata": {
      "needs_background": "light"
     },
     "output_type": "display_data"
    }
   ],
   "source": [
    "# Lets plot the distribution plot to see in depth \n",
    "x = sns.distplot(churn_df['avg_rev_aug'],label='churn',hist=False)\n",
    "x = sns.distplot(non_churn_df['avg_rev_aug'],label='not churn',hist=False)\n",
    "x.set(xlabel='Aug average revenue per user')"
   ]
  },
  {
   "cell_type": "markdown",
   "id": "0095fc23",
   "metadata": {
    "papermill": {
     "duration": 0.033716,
     "end_time": "2023-02-12T16:53:43.679128",
     "exception": false,
     "start_time": "2023-02-12T16:53:43.645412",
     "status": "completed"
    },
    "tags": []
   },
   "source": [
    "Churned customers is mostly densed on the 0 to 300. The higher average revenue per user customers are less likely to be churned."
   ]
  },
  {
   "cell_type": "markdown",
   "id": "80d3b8e3",
   "metadata": {
    "papermill": {
     "duration": 0.032349,
     "end_time": "2023-02-12T16:53:43.744848",
     "exception": false,
     "start_time": "2023-02-12T16:53:43.712499",
     "status": "completed"
    },
    "tags": []
   },
   "source": [
    "### Bivariate analysis"
   ]
  },
  {
   "cell_type": "code",
   "execution_count": 51,
   "id": "b44aaa6d",
   "metadata": {
    "execution": {
     "iopub.execute_input": "2023-02-12T16:53:43.815928Z",
     "iopub.status.busy": "2023-02-12T16:53:43.814719Z",
     "iopub.status.idle": "2023-02-12T16:53:43.989406Z",
     "shell.execute_reply": "2023-02-12T16:53:43.988366Z"
    },
    "papermill": {
     "duration": 0.213333,
     "end_time": "2023-02-12T16:53:43.992412",
     "exception": false,
     "start_time": "2023-02-12T16:53:43.779079",
     "status": "completed"
    },
    "tags": []
   },
   "outputs": [
    {
     "data": {
      "image/png": "[encoded data removed]",
      "text/plain": [
       "<Figure size 432x288 with 1 Axes>"
      ]
     },
     "metadata": {
      "needs_background": "light"
     },
     "output_type": "display_data"
    }
   ],
   "source": [
    "# Lets plot the distribution plot to see in depth\n",
    "# Relate churn rate and decrease in recharge amout\n",
    "clean_df.pivot_table(values='churn_probability', index='decrease_rech_amt_aug', columns='decrease_rech_num_aug', aggfunc='mean').plot.bar()\n",
    "plt.ylabel('churn rate')\n",
    "plt.show()"
   ]
  },
  {
   "cell_type": "markdown",
   "id": "54e5dbe0",
   "metadata": {
    "papermill": {
     "duration": 0.033752,
     "end_time": "2023-02-12T16:53:44.059788",
     "exception": false,
     "start_time": "2023-02-12T16:53:44.026036",
     "status": "completed"
    },
    "tags": []
   },
   "source": [
    "In Aug, we see for churning customer, there is decrease in average recharge amount and number of recharge. "
   ]
  },
  {
   "cell_type": "markdown",
   "id": "bac6005e",
   "metadata": {
    "papermill": {
     "duration": 0.03308,
     "end_time": "2023-02-12T16:53:44.126822",
     "exception": false,
     "start_time": "2023-02-12T16:53:44.093742",
     "status": "completed"
    },
    "tags": []
   },
   "source": [
    "Explore more about average recharge amount and number of recharge"
   ]
  },
  {
   "cell_type": "code",
   "execution_count": 52,
   "id": "a35660a5",
   "metadata": {
    "execution": {
     "iopub.execute_input": "2023-02-12T16:53:44.199593Z",
     "iopub.status.busy": "2023-02-12T16:53:44.198721Z",
     "iopub.status.idle": "2023-02-12T16:53:44.212032Z",
     "shell.execute_reply": "2023-02-12T16:53:44.210660Z"
    },
    "papermill": {
     "duration": 0.052644,
     "end_time": "2023-02-12T16:53:44.214805",
     "exception": false,
     "start_time": "2023-02-12T16:53:44.162161",
     "status": "completed"
    },
    "tags": []
   },
   "outputs": [
    {
     "data": {
      "text/plain": [
       "count    25777.000000\n",
       "mean       481.469391\n",
       "std        284.430930\n",
       "min          0.000000\n",
       "25%        290.500000\n",
       "50%        412.000000\n",
       "75%        602.000000\n",
       "max       2838.000000\n",
       "Name: avg_rech_amt_aug, dtype: float64"
      ]
     },
     "execution_count": 52,
     "metadata": {},
     "output_type": "execute_result"
    }
   ],
   "source": [
    "clean_df['avg_rech_amt_aug'].describe()"
   ]
  },
  {
   "cell_type": "code",
   "execution_count": 53,
   "id": "5ab2d9bf",
   "metadata": {
    "execution": {
     "iopub.execute_input": "2023-02-12T16:53:44.284501Z",
     "iopub.status.busy": "2023-02-12T16:53:44.284023Z",
     "iopub.status.idle": "2023-02-12T16:53:44.600034Z",
     "shell.execute_reply": "2023-02-12T16:53:44.598701Z"
    },
    "papermill": {
     "duration": 0.354992,
     "end_time": "2023-02-12T16:53:44.603669",
     "exception": false,
     "start_time": "2023-02-12T16:53:44.248677",
     "status": "completed"
    },
    "tags": []
   },
   "outputs": [
    {
     "data": {
      "image/png": "[encoded data removed]",
      "text/plain": [
       "<Figure size 720x432 with 1 Axes>"
      ]
     },
     "metadata": {
      "needs_background": "light"
     },
     "output_type": "display_data"
    }
   ],
   "source": [
    "plt.figure(figsize=(10,6))\n",
    "ax = sns.scatterplot(data=clean_df,x='avg_rech_num_aug',y='avg_rech_amt_aug')"
   ]
  },
  {
   "cell_type": "markdown",
   "id": "aba614fa",
   "metadata": {
    "papermill": {
     "duration": 0.036626,
     "end_time": "2023-02-12T16:53:44.676916",
     "exception": false,
     "start_time": "2023-02-12T16:53:44.640290",
     "status": "completed"
    },
    "tags": []
   },
   "source": [
    "Recharge number and the recharge amount are mostly propotional. Which can be said that more number of recharge, more the amount of the recharge."
   ]
  },
  {
   "cell_type": "code",
   "execution_count": 54,
   "id": "d0caaa74",
   "metadata": {
    "execution": {
     "iopub.execute_input": "2023-02-12T16:53:44.750209Z",
     "iopub.status.busy": "2023-02-12T16:53:44.749727Z",
     "iopub.status.idle": "2023-02-12T16:53:44.756778Z",
     "shell.execute_reply": "2023-02-12T16:53:44.755703Z"
    },
    "papermill": {
     "duration": 0.046325,
     "end_time": "2023-02-12T16:53:44.759406",
     "exception": false,
     "start_time": "2023-02-12T16:53:44.713081",
     "status": "completed"
    },
    "tags": []
   },
   "outputs": [],
   "source": [
    "avg_rev_per_user_df=clean_df[['arpu_6','arpu_7','arpu_8','churn_probability']];"
   ]
  },
  {
   "cell_type": "code",
   "execution_count": 55,
   "id": "6551850d",
   "metadata": {
    "execution": {
     "iopub.execute_input": "2023-02-12T16:53:44.834135Z",
     "iopub.status.busy": "2023-02-12T16:53:44.833389Z",
     "iopub.status.idle": "2023-02-12T16:53:45.139962Z",
     "shell.execute_reply": "2023-02-12T16:53:45.138591Z"
    },
    "papermill": {
     "duration": 0.346953,
     "end_time": "2023-02-12T16:53:45.142848",
     "exception": false,
     "start_time": "2023-02-12T16:53:44.795895",
     "status": "completed"
    },
    "tags": []
   },
   "outputs": [
    {
     "data": {
      "text/plain": [
       "<AxesSubplot:>"
      ]
     },
     "execution_count": 55,
     "metadata": {},
     "output_type": "execute_result"
    },
    {
     "data": {
      "image/png": "[encoded data removed]",
      "text/plain": [
       "<Figure size 432x288 with 2 Axes>"
      ]
     },
     "metadata": {},
     "output_type": "display_data"
    }
   ],
   "source": [
    "# Now lets check for the correlations among them\n",
    "sns.set(style=\"white\")\n",
    "# Compute the correlation matrix\n",
    "corr = avg_rev_per_user_df.iloc[:,:-1].corr()\n",
    "# Generate a mask for the upper triangle\n",
    "mask = np.triu(np.ones_like(corr, dtype=np.bool))\n",
    "# Draw the heatmap with the mask and correct aspect ratio\n",
    "sns.heatmap(corr, mask=mask, center=0,annot=True)"
   ]
  },
  {
   "cell_type": "markdown",
   "id": "6b77f157",
   "metadata": {
    "papermill": {
     "duration": 0.035332,
     "end_time": "2023-02-12T16:53:45.216098",
     "exception": false,
     "start_time": "2023-02-12T16:53:45.180766",
     "status": "completed"
    },
    "tags": []
   },
   "source": [
    "Conclusion:\n",
    "\n",
    "There is weak correlation amomg all though interpretable. There is a huge overlap of values for June,July months"
   ]
  },
  {
   "cell_type": "code",
   "execution_count": 56,
   "id": "c0be4c7a",
   "metadata": {
    "execution": {
     "iopub.execute_input": "2023-02-12T16:53:45.293401Z",
     "iopub.status.busy": "2023-02-12T16:53:45.292415Z",
     "iopub.status.idle": "2023-02-12T16:53:45.312954Z",
     "shell.execute_reply": "2023-02-12T16:53:45.311648Z"
    },
    "papermill": {
     "duration": 0.062892,
     "end_time": "2023-02-12T16:53:45.316003",
     "exception": false,
     "start_time": "2023-02-12T16:53:45.253111",
     "status": "completed"
    },
    "tags": []
   },
   "outputs": [],
   "source": [
    "# we don't need some variable in further analysis, sice we have some derived variables\n",
    "clean_df = clean_df.drop(['total_mou_good','avg_mou_aug','diff_mou','avg_rech_num_aug','diff_rech_num','avg_rech_amt_aug',\n",
    "                 'diff_rech_amt','avg_rev_aug','diff_avg_rev_aug','avg_vbc_3g_aug','diff_vbc','avg_rech_amt_6_7'], axis=1)"
   ]
  },
  {
   "cell_type": "code",
   "execution_count": 57,
   "id": "e7b1ec18",
   "metadata": {
    "execution": {
     "iopub.execute_input": "2023-02-12T16:53:45.394383Z",
     "iopub.status.busy": "2023-02-12T16:53:45.393906Z",
     "iopub.status.idle": "2023-02-12T16:53:45.401873Z",
     "shell.execute_reply": "2023-02-12T16:53:45.400824Z"
    },
    "papermill": {
     "duration": 0.051555,
     "end_time": "2023-02-12T16:53:45.404759",
     "exception": false,
     "start_time": "2023-02-12T16:53:45.353204",
     "status": "completed"
    },
    "tags": []
   },
   "outputs": [
    {
     "data": {
      "text/plain": [
       "['date_of_last_rech_6', 'date_of_last_rech_7', 'date_of_last_rech_8']"
      ]
     },
     "execution_count": 57,
     "metadata": {},
     "output_type": "execute_result"
    }
   ],
   "source": [
    "# we don't need date columns as well\n",
    "date_cols = [a for a in clean_df.columns if  'date' in a]\n",
    "date_cols"
   ]
  },
  {
   "cell_type": "code",
   "execution_count": 58,
   "id": "fd95b15f",
   "metadata": {
    "execution": {
     "iopub.execute_input": "2023-02-12T16:53:45.478877Z",
     "iopub.status.busy": "2023-02-12T16:53:45.477660Z",
     "iopub.status.idle": "2023-02-12T16:53:45.498195Z",
     "shell.execute_reply": "2023-02-12T16:53:45.496397Z"
    },
    "papermill": {
     "duration": 0.061096,
     "end_time": "2023-02-12T16:53:45.501495",
     "exception": false,
     "start_time": "2023-02-12T16:53:45.440399",
     "status": "completed"
    },
    "tags": []
   },
   "outputs": [],
   "source": [
    "clean_df = clean_df.drop(date_cols, axis=1)"
   ]
  },
  {
   "cell_type": "markdown",
   "id": "c927ac32",
   "metadata": {
    "papermill": {
     "duration": 0.036699,
     "end_time": "2023-02-12T16:53:45.575183",
     "exception": false,
     "start_time": "2023-02-12T16:53:45.538484",
     "status": "completed"
    },
    "tags": []
   },
   "source": [
    "#### Let's analyse outgoing calls for June, july and aug"
   ]
  },
  {
   "cell_type": "code",
   "execution_count": 59,
   "id": "a588dca1",
   "metadata": {
    "execution": {
     "iopub.execute_input": "2023-02-12T16:53:45.651081Z",
     "iopub.status.busy": "2023-02-12T16:53:45.650324Z",
     "iopub.status.idle": "2023-02-12T16:53:46.046462Z",
     "shell.execute_reply": "2023-02-12T16:53:46.045033Z"
    },
    "papermill": {
     "duration": 0.437991,
     "end_time": "2023-02-12T16:53:46.049694",
     "exception": false,
     "start_time": "2023-02-12T16:53:45.611703",
     "status": "completed"
    },
    "tags": []
   },
   "outputs": [
    {
     "data": {
      "image/png": "[encoded data removed]",
      "text/plain": [
       "<Figure size 432x288 with 1 Axes>"
      ]
     },
     "metadata": {},
     "output_type": "display_data"
    }
   ],
   "source": [
    "# Spread of values for churned and non churned customers in Aug\n",
    "sns.boxplot(x='churn_probability',y='total_og_mou_8', data=clean_df)\n",
    "plt.show()"
   ]
  },
  {
   "cell_type": "markdown",
   "id": "70f13844",
   "metadata": {
    "papermill": {
     "duration": 0.035949,
     "end_time": "2023-02-12T16:53:46.123525",
     "exception": false,
     "start_time": "2023-02-12T16:53:46.087576",
     "status": "completed"
    },
    "tags": []
   },
   "source": [
    "The churned customers have made very less calls compared to the non churned customers in the Aug"
   ]
  },
  {
   "cell_type": "code",
   "execution_count": 60,
   "id": "6669f2c4",
   "metadata": {
    "execution": {
     "iopub.execute_input": "2023-02-12T16:53:46.200683Z",
     "iopub.status.busy": "2023-02-12T16:53:46.200148Z",
     "iopub.status.idle": "2023-02-12T16:53:46.420700Z",
     "shell.execute_reply": "2023-02-12T16:53:46.419359Z"
    },
    "papermill": {
     "duration": 0.262651,
     "end_time": "2023-02-12T16:53:46.423871",
     "exception": false,
     "start_time": "2023-02-12T16:53:46.161220",
     "status": "completed"
    },
    "tags": []
   },
   "outputs": [
    {
     "data": {
      "image/png": "[encoded data removed]",
      "text/plain": [
       "<Figure size 432x288 with 1 Axes>"
      ]
     },
     "metadata": {},
     "output_type": "display_data"
    }
   ],
   "source": [
    "# Spread of values for churned and non churned customers in july\n",
    "sns.boxplot(x='churn_probability',y='total_og_mou_7', data=clean_df)\n",
    "plt.show()"
   ]
  },
  {
   "cell_type": "markdown",
   "id": "76e627b0",
   "metadata": {
    "papermill": {
     "duration": 0.036416,
     "end_time": "2023-02-12T16:53:46.498713",
     "exception": false,
     "start_time": "2023-02-12T16:53:46.462297",
     "status": "completed"
    },
    "tags": []
   },
   "source": [
    "Outgoing calls are significatly in july more than aug "
   ]
  },
  {
   "cell_type": "markdown",
   "id": "b42418e0",
   "metadata": {
    "papermill": {
     "duration": 0.035939,
     "end_time": "2023-02-12T16:53:46.570828",
     "exception": false,
     "start_time": "2023-02-12T16:53:46.534889",
     "status": "completed"
    },
    "tags": []
   },
   "source": [
    "### Model building and Test-Train Split"
   ]
  },
  {
   "cell_type": "code",
   "execution_count": 61,
   "id": "50e7d546",
   "metadata": {
    "execution": {
     "iopub.execute_input": "2023-02-12T16:53:46.645229Z",
     "iopub.status.busy": "2023-02-12T16:53:46.644754Z",
     "iopub.status.idle": "2023-02-12T16:53:46.775986Z",
     "shell.execute_reply": "2023-02-12T16:53:46.774694Z"
    },
    "papermill": {
     "duration": 0.172237,
     "end_time": "2023-02-12T16:53:46.779137",
     "exception": false,
     "start_time": "2023-02-12T16:53:46.606900",
     "status": "completed"
    },
    "tags": []
   },
   "outputs": [],
   "source": [
    "y=clean_df['churn_probability'] # Target variable\n",
    "x=clean_df.drop(columns=['id','churn_probability'])\n",
    "\n",
    "scaler = preprocessing.StandardScaler().fit(x)\n",
    "X = scaler.transform(x)\n",
    "\n",
    "X_train, X_test, y_train, y_test = train_test_split(X,y,train_size=0.8, test_size=0.2, random_state=100)"
   ]
  },
  {
   "cell_type": "code",
   "execution_count": 62,
   "id": "5b91302f",
   "metadata": {
    "execution": {
     "iopub.execute_input": "2023-02-12T16:53:46.855742Z",
     "iopub.status.busy": "2023-02-12T16:53:46.855249Z",
     "iopub.status.idle": "2023-02-12T16:53:47.011903Z",
     "shell.execute_reply": "2023-02-12T16:53:47.010701Z"
    },
    "papermill": {
     "duration": 0.198393,
     "end_time": "2023-02-12T16:53:47.015153",
     "exception": false,
     "start_time": "2023-02-12T16:53:46.816760",
     "status": "completed"
    },
    "tags": []
   },
   "outputs": [],
   "source": [
    "# Fixing data imbalance\n",
    "sm = SMOTE(random_state=27)\n",
    "X_train, y_train = sm.fit_resample(X_train, y_train)"
   ]
  },
  {
   "cell_type": "code",
   "execution_count": 63,
   "id": "7ed746bb",
   "metadata": {
    "execution": {
     "iopub.execute_input": "2023-02-12T16:53:47.091908Z",
     "iopub.status.busy": "2023-02-12T16:53:47.091433Z",
     "iopub.status.idle": "2023-02-12T16:53:47.101398Z",
     "shell.execute_reply": "2023-02-12T16:53:47.099997Z"
    },
    "papermill": {
     "duration": 0.052078,
     "end_time": "2023-02-12T16:53:47.104009",
     "exception": false,
     "start_time": "2023-02-12T16:53:47.051931",
     "status": "completed"
    },
    "tags": []
   },
   "outputs": [],
   "source": [
    "def draw_confusion_matrix(cm, classes,title='Confusion matrix',cmap=plt.cm.Blues):\n",
    "    plt.imshow(cm, interpolation='nearest', cmap=cmap)\n",
    "    plt.title(title)\n",
    "    plt.colorbar()\n",
    "    tick_marks = np.arange(len(classes))\n",
    "    plt.xticks(tick_marks, classes, rotation=45)\n",
    "    plt.yticks(tick_marks, classes)\n",
    "\n",
    "    fmt = 'd'\n",
    "    thresh = cm.max() / 2.\n",
    "    for i, j in itertools.product(range(cm.shape[0]), range(cm.shape[1])):\n",
    "        plt.text(j, i, format(cm[i, j], fmt),\n",
    "                 horizontalalignment=\"center\",\n",
    "                 color=\"white\" if cm[i, j] > thresh else \"black\")\n",
    "\n",
    "    plt.tight_layout()\n",
    "    plt.ylabel('True label')\n",
    "    plt.xlabel('Predicted label')"
   ]
  },
  {
   "cell_type": "markdown",
   "id": "0523a4cd",
   "metadata": {
    "papermill": {
     "duration": 0.038017,
     "end_time": "2023-02-12T16:53:47.178273",
     "exception": false,
     "start_time": "2023-02-12T16:53:47.140256",
     "status": "completed"
    },
    "tags": []
   },
   "source": [
    "#### PCA"
   ]
  },
  {
   "cell_type": "code",
   "execution_count": 64,
   "id": "821610d7",
   "metadata": {
    "execution": {
     "iopub.execute_input": "2023-02-12T16:53:47.254034Z",
     "iopub.status.busy": "2023-02-12T16:53:47.252795Z",
     "iopub.status.idle": "2023-02-12T16:53:47.715570Z",
     "shell.execute_reply": "2023-02-12T16:53:47.714167Z"
    },
    "papermill": {
     "duration": 0.505281,
     "end_time": "2023-02-12T16:53:47.719962",
     "exception": false,
     "start_time": "2023-02-12T16:53:47.214681",
     "status": "completed"
    },
    "tags": []
   },
   "outputs": [
    {
     "data": {
      "text/plain": [
       "PCA(random_state=42)"
      ]
     },
     "execution_count": 64,
     "metadata": {},
     "output_type": "execute_result"
    }
   ],
   "source": [
    "pca = PCA(random_state=42)\n",
    "# Fit train set on PCA\n",
    "pca.fit(X_train)"
   ]
  },
  {
   "cell_type": "code",
   "execution_count": 65,
   "id": "f45b08a1",
   "metadata": {
    "execution": {
     "iopub.execute_input": "2023-02-12T16:53:47.923690Z",
     "iopub.status.busy": "2023-02-12T16:53:47.923160Z",
     "iopub.status.idle": "2023-02-12T16:53:47.931949Z",
     "shell.execute_reply": "2023-02-12T16:53:47.930610Z"
    },
    "papermill": {
     "duration": 0.050915,
     "end_time": "2023-02-12T16:53:47.934324",
     "exception": false,
     "start_time": "2023-02-12T16:53:47.883409",
     "status": "completed"
    },
    "tags": []
   },
   "outputs": [
    {
     "data": {
      "text/plain": [
       "array([[ 2.64932150e-02,  1.34869649e-01,  1.99077977e-01, ...,\n",
       "        -1.05558966e-01,  3.73160157e-02, -1.06626791e-01],\n",
       "       [ 2.07356552e-01,  1.28636100e-01,  1.80691249e-02, ...,\n",
       "         6.83659232e-02, -3.28248982e-02,  6.53971031e-02],\n",
       "       [ 1.03561713e-01,  1.40700995e-01,  1.17248999e-01, ...,\n",
       "        -4.52966290e-02, -8.32886927e-03, -3.62516680e-02],\n",
       "       ...,\n",
       "       [-6.47411302e-08,  4.91460042e-07,  7.11831884e-07, ...,\n",
       "        -2.48555256e-07,  2.19657563e-07,  2.85445765e-08],\n",
       "       [-7.90844490e-08,  3.63144876e-07,  1.01912207e-07, ...,\n",
       "         6.11509022e-08, -2.77901257e-08,  1.85616073e-08],\n",
       "       [ 1.07106636e-07,  3.45393250e-07,  5.31379131e-07, ...,\n",
       "        -2.76694746e-08,  1.80861127e-09,  1.82414559e-08]])"
      ]
     },
     "execution_count": 65,
     "metadata": {},
     "output_type": "execute_result"
    }
   ],
   "source": [
    "# Principal components\n",
    "pca.components_"
   ]
  },
  {
   "cell_type": "code",
   "execution_count": 66,
   "id": "cb8f0f7f",
   "metadata": {
    "execution": {
     "iopub.execute_input": "2023-02-12T16:53:48.013815Z",
     "iopub.status.busy": "2023-02-12T16:53:48.012891Z",
     "iopub.status.idle": "2023-02-12T16:53:48.020924Z",
     "shell.execute_reply": "2023-02-12T16:53:48.019721Z"
    },
    "papermill": {
     "duration": 0.050176,
     "end_time": "2023-02-12T16:53:48.023366",
     "exception": false,
     "start_time": "2023-02-12T16:53:47.973190",
     "status": "completed"
    },
    "tags": []
   },
   "outputs": [
    {
     "name": "stdout",
     "output_type": "stream",
     "text": [
      "[0.13510129 0.22924139 0.30568753 0.36114889 0.40388326 0.44067409\n",
      " 0.47440415 0.50185676 0.52446229 0.54240118 0.55945964 0.57621488\n",
      " 0.59215349 0.60757146 0.62183071 0.63492928 0.64784787 0.65958591\n",
      " 0.6708225  0.68151305 0.69197532 0.70219094 0.7118444  0.72125035\n",
      " 0.73029922 0.73868622 0.74683035 0.75487035 0.76275995 0.7705351\n",
      " 0.77802383 0.78531924 0.79236534 0.79888363 0.80528362 0.81142083\n",
      " 0.81744652 0.8233822  0.82918346 0.83488142 0.84044545 0.84566042\n",
      " 0.85083617 0.85584926 0.86062663 0.86527393 0.8697329  0.8741336\n",
      " 0.8784743  0.88272726 0.88682375 0.89090808 0.8949413  0.89885875\n",
      " 0.90275051 0.90639396 0.90996329 0.91351126 0.91695315 0.92038137\n",
      " 0.92371679 0.92699048 0.93016881 0.93317248 0.93606119 0.93890377\n",
      " 0.94169893 0.9444432  0.94715582 0.94981968 0.9524016  0.95480851\n",
      " 0.95720917 0.95953648 0.96180913 0.96388177 0.96593676 0.96797554\n",
      " 0.96999605 0.97196963 0.97378409 0.97558774 0.97737627 0.97911551\n",
      " 0.9807936  0.98244984 0.98402778 0.98553658 0.98696548 0.98835221\n",
      " 0.98962414 0.99088503 0.99199639 0.99306793 0.99412427 0.99515518\n",
      " 0.99613226 0.99681243 0.99747377 0.99812241 0.99867587 0.99916687\n",
      " 0.9994993  0.99974982 0.99990986 0.99996457 0.99998636 0.99999939\n",
      " 0.99999977 0.99999991 1.         1.         1.         1.\n",
      " 1.         1.         1.         1.         1.         1.\n",
      " 1.         1.         1.         1.         1.         1.\n",
      " 1.         1.         1.        ]\n"
     ]
    }
   ],
   "source": [
    "# cumulative varinace of the PCs\n",
    "variance_cumu = np.cumsum(pca.explained_variance_ratio_)\n",
    "print(variance_cumu)"
   ]
  },
  {
   "cell_type": "code",
   "execution_count": 67,
   "id": "04ecf891",
   "metadata": {
    "execution": {
     "iopub.execute_input": "2023-02-12T16:53:48.102678Z",
     "iopub.status.busy": "2023-02-12T16:53:48.102147Z",
     "iopub.status.idle": "2023-02-12T16:53:48.380738Z",
     "shell.execute_reply": "2023-02-12T16:53:48.379783Z"
    },
    "papermill": {
     "duration": 0.322038,
     "end_time": "2023-02-12T16:53:48.383483",
     "exception": false,
     "start_time": "2023-02-12T16:53:48.061445",
     "status": "completed"
    },
    "tags": []
   },
   "outputs": [
    {
     "data": {
      "text/plain": [
       "Text(0, 0.5, 'Cumulative Variance')"
      ]
     },
     "execution_count": 67,
     "metadata": {},
     "output_type": "execute_result"
    },
    {
     "data": {
      "image/png": "[encoded data removed]",
      "text/plain": [
       "<Figure size 720x432 with 1 Axes>"
      ]
     },
     "metadata": {},
     "output_type": "display_data"
    }
   ],
   "source": [
    "# scree plot the number of the principal component versus its corresponding eigenvalue.\n",
    "fig = plt.figure(figsize = (10,6))\n",
    "plt.plot(variance_cumu)\n",
    "plt.xlabel('Number of Components')\n",
    "plt.ylabel('Cumulative Variance')"
   ]
  },
  {
   "cell_type": "markdown",
   "id": "8ec91be2",
   "metadata": {
    "papermill": {
     "duration": 0.037494,
     "end_time": "2023-02-12T16:53:48.458878",
     "exception": false,
     "start_time": "2023-02-12T16:53:48.421384",
     "status": "completed"
    },
    "tags": []
   },
   "source": [
    "60 components explain amost more than 90% variance of the data. So, we will perform PCA with 60 components"
   ]
  },
  {
   "cell_type": "code",
   "execution_count": 68,
   "id": "3dc5d59d",
   "metadata": {
    "execution": {
     "iopub.execute_input": "2023-02-12T16:53:48.537128Z",
     "iopub.status.busy": "2023-02-12T16:53:48.536188Z",
     "iopub.status.idle": "2023-02-12T16:53:48.541969Z",
     "shell.execute_reply": "2023-02-12T16:53:48.540926Z"
    },
    "papermill": {
     "duration": 0.048345,
     "end_time": "2023-02-12T16:53:48.545054",
     "exception": false,
     "start_time": "2023-02-12T16:53:48.496709",
     "status": "completed"
    },
    "tags": []
   },
   "outputs": [],
   "source": [
    "# Importing incremental PCA\n",
    "from sklearn.decomposition import IncrementalPCA"
   ]
  },
  {
   "cell_type": "code",
   "execution_count": 69,
   "id": "5284f471",
   "metadata": {
    "execution": {
     "iopub.execute_input": "2023-02-12T16:53:48.624851Z",
     "iopub.status.busy": "2023-02-12T16:53:48.624075Z",
     "iopub.status.idle": "2023-02-12T16:53:48.629423Z",
     "shell.execute_reply": "2023-02-12T16:53:48.628500Z"
    },
    "papermill": {
     "duration": 0.048269,
     "end_time": "2023-02-12T16:53:48.631771",
     "exception": false,
     "start_time": "2023-02-12T16:53:48.583502",
     "status": "completed"
    },
    "tags": []
   },
   "outputs": [],
   "source": [
    "# Instantiate PCA with 60 components\n",
    "pca_final = IncrementalPCA(n_components=60)"
   ]
  },
  {
   "cell_type": "code",
   "execution_count": 70,
   "id": "813be541",
   "metadata": {
    "execution": {
     "iopub.execute_input": "2023-02-12T16:53:48.711747Z",
     "iopub.status.busy": "2023-02-12T16:53:48.710995Z",
     "iopub.status.idle": "2023-02-12T16:53:49.978007Z",
     "shell.execute_reply": "2023-02-12T16:53:49.975454Z"
    },
    "papermill": {
     "duration": 1.312496,
     "end_time": "2023-02-12T16:53:49.983214",
     "exception": false,
     "start_time": "2023-02-12T16:53:48.670718",
     "status": "completed"
    },
    "tags": []
   },
   "outputs": [],
   "source": [
    "# Fit and transform the X_train\n",
    "X_pca_train_set = pca_final.fit_transform(X_train)"
   ]
  },
  {
   "cell_type": "code",
   "execution_count": 71,
   "id": "f9e1d65f",
   "metadata": {
    "execution": {
     "iopub.execute_input": "2023-02-12T16:53:50.126653Z",
     "iopub.status.busy": "2023-02-12T16:53:50.126177Z",
     "iopub.status.idle": "2023-02-12T16:53:50.139650Z",
     "shell.execute_reply": "2023-02-12T16:53:50.137828Z"
    },
    "papermill": {
     "duration": 0.063156,
     "end_time": "2023-02-12T16:53:50.145590",
     "exception": false,
     "start_time": "2023-02-12T16:53:50.082434",
     "status": "completed"
    },
    "tags": []
   },
   "outputs": [],
   "source": [
    "X_pca_test_set = pca_final.transform(X_test)"
   ]
  },
  {
   "cell_type": "markdown",
   "id": "184875f0",
   "metadata": {
    "papermill": {
     "duration": 0.047275,
     "end_time": "2023-02-12T16:53:50.292191",
     "exception": false,
     "start_time": "2023-02-12T16:53:50.244916",
     "status": "completed"
    },
    "tags": []
   },
   "source": [
    "#### Decision Tree"
   ]
  },
  {
   "cell_type": "code",
   "execution_count": 72,
   "id": "1695debf",
   "metadata": {
    "execution": {
     "iopub.execute_input": "2023-02-12T16:53:50.370862Z",
     "iopub.status.busy": "2023-02-12T16:53:50.370353Z",
     "iopub.status.idle": "2023-02-12T16:55:59.301710Z",
     "shell.execute_reply": "2023-02-12T16:55:59.300330Z"
    },
    "papermill": {
     "duration": 129.013877,
     "end_time": "2023-02-12T16:55:59.344200",
     "exception": false,
     "start_time": "2023-02-12T16:53:50.330323",
     "status": "completed"
    },
    "tags": []
   },
   "outputs": [
    {
     "name": "stdout",
     "output_type": "stream",
     "text": [
      "Best sensitivity:- 0.9867777548347579\n",
      "DecisionTreeClassifier(max_depth=10, min_samples_split=200)\n"
     ]
    }
   ],
   "source": [
    "depth=[5, 10, 20]\n",
    "sample_split=[50, 100, 200] \n",
    "param_grid = {'max_depth':depth,'min_samples_split':sample_split} \n",
    "dectree=DecisionTreeClassifier(ccp_alpha=0.0, class_weight=None,\n",
    "                                              criterion='gini', max_depth=None,\n",
    "                                              max_features=None,\n",
    "                                              max_leaf_nodes=None,\n",
    "                                              min_samples_leaf=1,\n",
    "                                              min_samples_split=2,\n",
    "                                              random_state=None,\n",
    "                                              splitter='best')\n",
    "#Using GridSearchCV #\n",
    "gs_cv = GridSearchCV(estimator=dectree, param_grid=param_grid, scoring = 'roc_auc', cv=5) \n",
    "gs_cv.fit(X_pca_train_set,y_train) \n",
    "print(\"Best sensitivity:-\", gs_cv.best_score_)\n",
    "print(gs_cv.best_estimator_)"
   ]
  },
  {
   "cell_type": "code",
   "execution_count": 73,
   "id": "d4eb476c",
   "metadata": {
    "execution": {
     "iopub.execute_input": "2023-02-12T16:55:59.426808Z",
     "iopub.status.busy": "2023-02-12T16:55:59.426045Z",
     "iopub.status.idle": "2023-02-12T16:55:59.717462Z",
     "shell.execute_reply": "2023-02-12T16:55:59.715917Z"
    },
    "papermill": {
     "duration": 0.336455,
     "end_time": "2023-02-12T16:55:59.720348",
     "exception": false,
     "start_time": "2023-02-12T16:55:59.383893",
     "status": "completed"
    },
    "tags": []
   },
   "outputs": [
    {
     "data": {
      "image/png": "[encoded data removed]",
      "text/plain": [
       "<Figure size 432x288 with 1 Axes>"
      ]
     },
     "metadata": {},
     "output_type": "display_data"
    }
   ],
   "source": [
    "# Auc-error plots\n",
    "y_train_proba=gs_cv.predict_proba(X_pca_train_set)\n",
    "y_train_proba=y_train_proba[:,1]\n",
    "y_test_proba=gs_cv.predict_proba(X_pca_test_set)\n",
    "y_test_proba=y_test_proba[:,1]\n",
    "train_fpr, train_tpr, thresholds = roc_curve(y_train, y_train_proba)\n",
    "test_fpr, test_tpr, thresholds = roc_curve(y_test, y_test_proba)\n",
    "\n",
    "plt.title(\"Error plots\")\n",
    "plt.plot(train_fpr, train_tpr, label=\"train AUC =\"+str(auc(train_fpr, train_tpr)))\n",
    "plt.plot(test_fpr, test_tpr, label=\"test AUC =\"+str(auc(test_fpr, test_tpr)))\n",
    "plt.legend()\n",
    "plt.xlabel(\"alpha: hyperparameter\")\n",
    "plt.ylabel(\"AUC\")\n",
    "plt.show()"
   ]
  },
  {
   "cell_type": "code",
   "execution_count": 74,
   "id": "0f3c2ac0",
   "metadata": {
    "execution": {
     "iopub.execute_input": "2023-02-12T16:55:59.801400Z",
     "iopub.status.busy": "2023-02-12T16:55:59.800290Z",
     "iopub.status.idle": "2023-02-12T16:56:00.393544Z",
     "shell.execute_reply": "2023-02-12T16:56:00.392438Z"
    },
    "papermill": {
     "duration": 0.636605,
     "end_time": "2023-02-12T16:56:00.396182",
     "exception": false,
     "start_time": "2023-02-12T16:55:59.759577",
     "status": "completed"
    },
    "tags": []
   },
   "outputs": [
    {
     "data": {
      "image/png": "[encoded data removed]",
      "text/plain": [
       "<Figure size 432x288 with 2 Axes>"
      ]
     },
     "metadata": {},
     "output_type": "display_data"
    },
    {
     "data": {
      "image/png": "[encoded data removed]",
      "text/plain": [
       "<Figure size 432x288 with 2 Axes>"
      ]
     },
     "metadata": {},
     "output_type": "display_data"
    }
   ],
   "source": [
    "# Confusion Matrix\n",
    "y_pred_on_test = gs_cv.predict(X_pca_test_set)\n",
    "y_pred_on_train=gs_cv.predict(X_pca_train_set)\n",
    "draw_confusion_matrix(confusion_matrix(y_train, y_pred_on_train), [\"negative\", \"positive\"])\n",
    "plt.show()\n",
    "draw_confusion_matrix(confusion_matrix(y_test, y_pred_on_test), [\"negative\", \"positive\"])\n",
    "plt.show()"
   ]
  },
  {
   "cell_type": "markdown",
   "id": "045d1cdf",
   "metadata": {
    "papermill": {
     "duration": 0.039868,
     "end_time": "2023-02-12T16:56:00.476219",
     "exception": false,
     "start_time": "2023-02-12T16:56:00.436351",
     "status": "completed"
    },
    "tags": []
   },
   "source": [
    "#### Logistic Regression"
   ]
  },
  {
   "cell_type": "code",
   "execution_count": 75,
   "id": "7819c477",
   "metadata": {
    "execution": {
     "iopub.execute_input": "2023-02-12T16:56:00.558959Z",
     "iopub.status.busy": "2023-02-12T16:56:00.558109Z",
     "iopub.status.idle": "2023-02-12T16:56:27.369686Z",
     "shell.execute_reply": "2023-02-12T16:56:27.363920Z"
    },
    "papermill": {
     "duration": 26.858348,
     "end_time": "2023-02-12T16:56:27.374943",
     "exception": false,
     "start_time": "2023-02-12T16:56:00.516595",
     "status": "completed"
    },
    "tags": []
   },
   "outputs": [
    {
     "name": "stdout",
     "output_type": "stream",
     "text": [
      "LogisticRegression(C=1, class_weight='balanced')\n",
      "0.9958346153846154\n"
     ]
    }
   ],
   "source": [
    "# Hyperparameter tuning\n",
    "from sklearn.linear_model import LogisticRegression\n",
    "\n",
    "\n",
    "c_val=[10**-4, 10**-3, 10**-2, 10**-1, 10**0, 10**1, 10**2, 10**3, 10**4]\n",
    "#solvers = ['newton-cg', 'lbfgs', 'liblinear']\n",
    "tuned_parameters = {'C': c_val}\n",
    "\n",
    "model = GridSearchCV(LogisticRegression(penalty='l2',class_weight='balanced'), tuned_parameters, scoring = 'roc_auc', cv=5)\n",
    "model.fit(X_pca_train_set, y_train)\n",
    "\n",
    "print(model.best_estimator_)\n",
    "print(model.score(X_pca_test_set, y_test))"
   ]
  },
  {
   "cell_type": "code",
   "execution_count": 76,
   "id": "bb8cfaed",
   "metadata": {
    "execution": {
     "iopub.execute_input": "2023-02-12T16:56:27.520463Z",
     "iopub.status.busy": "2023-02-12T16:56:27.520003Z",
     "iopub.status.idle": "2023-02-12T16:56:27.852008Z",
     "shell.execute_reply": "2023-02-12T16:56:27.850588Z"
    },
    "papermill": {
     "duration": 0.377702,
     "end_time": "2023-02-12T16:56:27.855181",
     "exception": false,
     "start_time": "2023-02-12T16:56:27.477479",
     "status": "completed"
    },
    "tags": []
   },
   "outputs": [
    {
     "data": {
      "image/png": "[encoded data removed]",
      "text/plain": [
       "<Figure size 432x288 with 1 Axes>"
      ]
     },
     "metadata": {},
     "output_type": "display_data"
    }
   ],
   "source": [
    "# Auc-error plots\n",
    "y_train_proba=model.predict_proba(X_pca_train_set)\n",
    "y_train_proba=y_train_proba[:,1]\n",
    "y_test_proba=model.predict_proba(X_pca_test_set)\n",
    "y_test_proba=y_test_proba[:,1]\n",
    "train_fpr, train_tpr, thresholds = roc_curve(y_train, y_train_proba)\n",
    "test_fpr, test_tpr, thresholds = roc_curve(y_test, y_test_proba)\n",
    "\n",
    "plt.plot(train_fpr, train_tpr, label=\"train AUC =\"+str(auc(train_fpr, train_tpr)))\n",
    "plt.plot(test_fpr, test_tpr, label=\"test AUC =\"+str(auc(test_fpr, test_tpr)))\n",
    "plt.legend()\n",
    "plt.xlabel(\"alpha: hyperparameter\")\n",
    "plt.ylabel(\"AUC\")\n",
    "plt.title(\"ERROR PLOTS\")\n",
    "plt.show()"
   ]
  },
  {
   "cell_type": "code",
   "execution_count": 77,
   "id": "2dd67595",
   "metadata": {
    "execution": {
     "iopub.execute_input": "2023-02-12T16:56:27.939818Z",
     "iopub.status.busy": "2023-02-12T16:56:27.938606Z",
     "iopub.status.idle": "2023-02-12T16:56:28.600504Z",
     "shell.execute_reply": "2023-02-12T16:56:28.597622Z"
    },
    "papermill": {
     "duration": 0.707921,
     "end_time": "2023-02-12T16:56:28.604418",
     "exception": false,
     "start_time": "2023-02-12T16:56:27.896497",
     "status": "completed"
    },
    "tags": []
   },
   "outputs": [
    {
     "data": {
      "image/png": "[encoded data removed]",
      "text/plain": [
       "<Figure size 432x288 with 2 Axes>"
      ]
     },
     "metadata": {},
     "output_type": "display_data"
    },
    {
     "data": {
      "image/png": "[encoded data removed]",
      "text/plain": [
       "<Figure size 432x288 with 2 Axes>"
      ]
     },
     "metadata": {},
     "output_type": "display_data"
    }
   ],
   "source": [
    "# Confusion Matrix\n",
    "y_pred_test = model.predict(X_pca_test_set)\n",
    "y_pred_train=model.predict(X_pca_train_set)\n",
    "draw_confusion_matrix(confusion_matrix(y_train, y_pred_train), [\"negative\", \"positive\"])\n",
    "plt.show()\n",
    "draw_confusion_matrix(confusion_matrix(y_test, y_pred_test), [\"negative\", \"positive\"])\n",
    "plt.show()"
   ]
  },
  {
   "cell_type": "markdown",
   "id": "a8ddc3e5",
   "metadata": {
    "papermill": {
     "duration": 0.043573,
     "end_time": "2023-02-12T16:56:28.699692",
     "exception": false,
     "start_time": "2023-02-12T16:56:28.656119",
     "status": "completed"
    },
    "tags": []
   },
   "source": [
    "#### Random Forests"
   ]
  },
  {
   "cell_type": "code",
   "execution_count": 78,
   "id": "57860b81",
   "metadata": {
    "execution": {
     "iopub.execute_input": "2023-02-12T16:56:28.791688Z",
     "iopub.status.busy": "2023-02-12T16:56:28.790738Z",
     "iopub.status.idle": "2023-02-12T17:14:00.060199Z",
     "shell.execute_reply": "2023-02-12T17:14:00.058483Z"
    },
    "papermill": {
     "duration": 1051.361791,
     "end_time": "2023-02-12T17:14:00.105596",
     "exception": false,
     "start_time": "2023-02-12T16:56:28.743805",
     "status": "completed"
    },
    "tags": []
   },
   "outputs": [
    {
     "name": "stdout",
     "output_type": "stream",
     "text": [
      "Fitting 3 folds for each of 24 candidates, totalling 72 fits\n"
     ]
    },
    {
     "data": {
      "text/plain": [
       "GridSearchCV(cv=3, estimator=RandomForestClassifier(), n_jobs=-1,\n",
       "             param_grid={'max_depth': range(5, 10, 5), 'max_features': [10, 20],\n",
       "                         'min_samples_leaf': range(50, 150, 50),\n",
       "                         'min_samples_split': range(50, 150, 50),\n",
       "                         'n_estimators': [100, 200, 300]},\n",
       "             return_train_score=True, verbose=1)"
      ]
     },
     "execution_count": 78,
     "metadata": {},
     "output_type": "execute_result"
    }
   ],
   "source": [
    "# Hyperparameter tuning\n",
    "param_grid = {\n",
    "    'max_depth': range(5,10,5),\n",
    "    'min_samples_leaf': range(50, 150, 50),\n",
    "    'min_samples_split': range(50, 150, 50),\n",
    "    'n_estimators': [100,200,300], \n",
    "    'max_features': [10, 20]\n",
    "}\n",
    "# Create a based model\n",
    "rf = RandomForestClassifier()\n",
    "# Instantiate the grid search model\n",
    "grid_search = GridSearchCV(estimator = rf, \n",
    "                           param_grid = param_grid, \n",
    "                           cv = 3,\n",
    "                           n_jobs = -1,\n",
    "                           verbose = 1, \n",
    "                           return_train_score=True)\n",
    "\n",
    "# Fit the model\n",
    "grid_search.fit(X_pca_train_set, y_train)"
   ]
  },
  {
   "cell_type": "code",
   "execution_count": 79,
   "id": "b1af7f63",
   "metadata": {
    "execution": {
     "iopub.execute_input": "2023-02-12T17:14:00.192612Z",
     "iopub.status.busy": "2023-02-12T17:14:00.192121Z",
     "iopub.status.idle": "2023-02-12T17:14:00.199481Z",
     "shell.execute_reply": "2023-02-12T17:14:00.198053Z"
    },
    "papermill": {
     "duration": 0.055152,
     "end_time": "2023-02-12T17:14:00.202526",
     "exception": false,
     "start_time": "2023-02-12T17:14:00.147374",
     "status": "completed"
    },
    "tags": []
   },
   "outputs": [
    {
     "name": "stdout",
     "output_type": "stream",
     "text": [
      "We can see accuracy of 0.9551085473537676 using {'max_depth': 5, 'max_features': 20, 'min_samples_leaf': 50, 'min_samples_split': 50, 'n_estimators': 100}\n"
     ]
    }
   ],
   "source": [
    "# Optimal accuracy score and hyperparameters\n",
    "print('We can see accuracy of',grid_search.best_score_,'using',grid_search.best_params_)"
   ]
  },
  {
   "cell_type": "code",
   "execution_count": 80,
   "id": "64ef74d4",
   "metadata": {
    "execution": {
     "iopub.execute_input": "2023-02-12T17:14:00.288124Z",
     "iopub.status.busy": "2023-02-12T17:14:00.287665Z",
     "iopub.status.idle": "2023-02-12T17:14:00.294655Z",
     "shell.execute_reply": "2023-02-12T17:14:00.293080Z"
    },
    "papermill": {
     "duration": 0.053351,
     "end_time": "2023-02-12T17:14:00.297370",
     "exception": false,
     "start_time": "2023-02-12T17:14:00.244019",
     "status": "completed"
    },
    "tags": []
   },
   "outputs": [],
   "source": [
    "# model with the best hyperparameters\n",
    "\n",
    "rfc_model = RandomForestClassifier(bootstrap=True,\n",
    "                             max_depth=5,\n",
    "                             min_samples_leaf=50, \n",
    "                             min_samples_split=100,\n",
    "                             max_features=20,\n",
    "                             n_estimators=300)"
   ]
  },
  {
   "cell_type": "code",
   "execution_count": 81,
   "id": "8789a045",
   "metadata": {
    "execution": {
     "iopub.execute_input": "2023-02-12T17:14:00.384611Z",
     "iopub.status.busy": "2023-02-12T17:14:00.384161Z",
     "iopub.status.idle": "2023-02-12T17:16:03.362291Z",
     "shell.execute_reply": "2023-02-12T17:16:03.360812Z"
    },
    "papermill": {
     "duration": 123.065109,
     "end_time": "2023-02-12T17:16:03.405125",
     "exception": false,
     "start_time": "2023-02-12T17:14:00.340016",
     "status": "completed"
    },
    "tags": []
   },
   "outputs": [
    {
     "data": {
      "text/plain": [
       "RandomForestClassifier(max_depth=5, max_features=20, min_samples_leaf=50,\n",
       "                       min_samples_split=100, n_estimators=300)"
      ]
     },
     "execution_count": 81,
     "metadata": {},
     "output_type": "execute_result"
    }
   ],
   "source": [
    "# Fit the model\n",
    "rfc_model.fit(X_pca_train_set, y_train)"
   ]
  },
  {
   "cell_type": "markdown",
   "id": "f3893c7f",
   "metadata": {
    "papermill": {
     "duration": 0.041961,
     "end_time": "2023-02-12T17:16:03.488312",
     "exception": false,
     "start_time": "2023-02-12T17:16:03.446351",
     "status": "completed"
    },
    "tags": []
   },
   "source": [
    "##### Predictions on the train set"
   ]
  },
  {
   "cell_type": "code",
   "execution_count": 82,
   "id": "54f7f7f7",
   "metadata": {
    "execution": {
     "iopub.execute_input": "2023-02-12T17:16:03.573064Z",
     "iopub.status.busy": "2023-02-12T17:16:03.572596Z",
     "iopub.status.idle": "2023-02-12T17:16:04.619857Z",
     "shell.execute_reply": "2023-02-12T17:16:04.618505Z"
    },
    "papermill": {
     "duration": 1.093477,
     "end_time": "2023-02-12T17:16:04.622998",
     "exception": false,
     "start_time": "2023-02-12T17:16:03.529521",
     "status": "completed"
    },
    "tags": []
   },
   "outputs": [],
   "source": [
    "# Predictions on the train set\n",
    "y_train_pred = rfc_model.predict(X_pca_train_set)"
   ]
  },
  {
   "cell_type": "code",
   "execution_count": 83,
   "id": "411cd091",
   "metadata": {
    "execution": {
     "iopub.execute_input": "2023-02-12T17:16:04.709397Z",
     "iopub.status.busy": "2023-02-12T17:16:04.708815Z",
     "iopub.status.idle": "2023-02-12T17:16:04.723474Z",
     "shell.execute_reply": "2023-02-12T17:16:04.722545Z"
    },
    "papermill": {
     "duration": 0.060986,
     "end_time": "2023-02-12T17:16:04.726299",
     "exception": false,
     "start_time": "2023-02-12T17:16:04.665313",
     "status": "completed"
    },
    "tags": []
   },
   "outputs": [
    {
     "name": "stdout",
     "output_type": "stream",
     "text": [
      "[[18694  1243]\n",
      " [  444 19493]]\n"
     ]
    }
   ],
   "source": [
    "# Confusion matrix\n",
    "confusion = metrics.confusion_matrix(y_train, y_train_pred)\n",
    "print(confusion)"
   ]
  },
  {
   "cell_type": "code",
   "execution_count": 84,
   "id": "a13a64a0",
   "metadata": {
    "execution": {
     "iopub.execute_input": "2023-02-12T17:16:04.811936Z",
     "iopub.status.busy": "2023-02-12T17:16:04.811199Z",
     "iopub.status.idle": "2023-02-12T17:16:06.167242Z",
     "shell.execute_reply": "2023-02-12T17:16:06.165736Z"
    },
    "papermill": {
     "duration": 1.402365,
     "end_time": "2023-02-12T17:16:06.170291",
     "exception": false,
     "start_time": "2023-02-12T17:16:04.767926",
     "status": "completed"
    },
    "tags": []
   },
   "outputs": [
    {
     "data": {
      "image/png": "[encoded data removed]",
      "text/plain": [
       "<Figure size 432x288 with 2 Axes>"
      ]
     },
     "metadata": {},
     "output_type": "display_data"
    }
   ],
   "source": [
    "# Confusion Matrix\n",
    "y_pred_on_train=rfc_model.predict(X_pca_train_set)\n",
    "draw_confusion_matrix(confusion_matrix(y_train, y_pred_on_train), [\"negative\", \"positive\"])\n",
    "plt.show()"
   ]
  },
  {
   "cell_type": "code",
   "execution_count": 85,
   "id": "158d1173",
   "metadata": {
    "execution": {
     "iopub.execute_input": "2023-02-12T17:16:06.258385Z",
     "iopub.status.busy": "2023-02-12T17:16:06.257909Z",
     "iopub.status.idle": "2023-02-12T17:16:06.264309Z",
     "shell.execute_reply": "2023-02-12T17:16:06.263040Z"
    },
    "papermill": {
     "duration": 0.053408,
     "end_time": "2023-02-12T17:16:06.266693",
     "exception": false,
     "start_time": "2023-02-12T17:16:06.213285",
     "status": "completed"
    },
    "tags": []
   },
   "outputs": [],
   "source": [
    "TP = confusion[1,1] # true positive \n",
    "TN = confusion[0,0] # true negatives\n",
    "FP = confusion[0,1] # false positives\n",
    "FN = confusion[1,0] # false negatives"
   ]
  },
  {
   "cell_type": "code",
   "execution_count": 86,
   "id": "dc2cdbe3",
   "metadata": {
    "execution": {
     "iopub.execute_input": "2023-02-12T17:16:06.356867Z",
     "iopub.status.busy": "2023-02-12T17:16:06.356347Z",
     "iopub.status.idle": "2023-02-12T17:16:06.369010Z",
     "shell.execute_reply": "2023-02-12T17:16:06.367349Z"
    },
    "papermill": {
     "duration": 0.060977,
     "end_time": "2023-02-12T17:16:06.371992",
     "exception": false,
     "start_time": "2023-02-12T17:16:06.311015",
     "status": "completed"
    },
    "tags": []
   },
   "outputs": [
    {
     "name": "stdout",
     "output_type": "stream",
     "text": [
      "Accuracy:- 0.9576917289461805\n",
      "Sensitivity:- 0.977729849024427\n",
      "Specificity:- 0.937653608867934\n"
     ]
    }
   ],
   "source": [
    "# Accuracy\n",
    "accuracy_train=metrics.accuracy_score(y_train, y_train_pred)\n",
    "sensitivity_train = TP / float(TP+FN)\n",
    "specificity_train = TN / float(TN+FP)\n",
    "print(\"Accuracy:-\",accuracy_train)\n",
    "# Sensitivity\n",
    "print(\"Sensitivity:-\",sensitivity_train)\n",
    "# Specificity\n",
    "print(\"Specificity:-\", specificity_train)"
   ]
  },
  {
   "cell_type": "markdown",
   "id": "33a44251",
   "metadata": {
    "papermill": {
     "duration": 0.043208,
     "end_time": "2023-02-12T17:16:06.460365",
     "exception": false,
     "start_time": "2023-02-12T17:16:06.417157",
     "status": "completed"
    },
    "tags": []
   },
   "source": [
    "##### Test set prediction"
   ]
  },
  {
   "cell_type": "code",
   "execution_count": 87,
   "id": "0a75d675",
   "metadata": {
    "execution": {
     "iopub.execute_input": "2023-02-12T17:16:06.549495Z",
     "iopub.status.busy": "2023-02-12T17:16:06.549057Z",
     "iopub.status.idle": "2023-02-12T17:16:06.731668Z",
     "shell.execute_reply": "2023-02-12T17:16:06.730461Z"
    },
    "papermill": {
     "duration": 0.230747,
     "end_time": "2023-02-12T17:16:06.734900",
     "exception": false,
     "start_time": "2023-02-12T17:16:06.504153",
     "status": "completed"
    },
    "tags": []
   },
   "outputs": [],
   "source": [
    "y_pred_on_test = rfc_model.predict(X_pca_test_set)\n"
   ]
  },
  {
   "cell_type": "code",
   "execution_count": 88,
   "id": "d318459f",
   "metadata": {
    "execution": {
     "iopub.execute_input": "2023-02-12T17:16:06.823812Z",
     "iopub.status.busy": "2023-02-12T17:16:06.823003Z",
     "iopub.status.idle": "2023-02-12T17:16:07.090970Z",
     "shell.execute_reply": "2023-02-12T17:16:07.089599Z"
    },
    "papermill": {
     "duration": 0.315325,
     "end_time": "2023-02-12T17:16:07.093934",
     "exception": false,
     "start_time": "2023-02-12T17:16:06.778609",
     "status": "completed"
    },
    "tags": []
   },
   "outputs": [
    {
     "data": {
      "image/png": "[encoded data removed]",
      "text/plain": [
       "<Figure size 432x288 with 2 Axes>"
      ]
     },
     "metadata": {},
     "output_type": "display_data"
    }
   ],
   "source": [
    "\n",
    "draw_confusion_matrix(confusion_matrix(y_test, y_pred_on_test), [\"negative\", \"positive\"])\n",
    "plt.show()"
   ]
  },
  {
   "cell_type": "code",
   "execution_count": 89,
   "id": "b61f2913",
   "metadata": {
    "execution": {
     "iopub.execute_input": "2023-02-12T17:16:07.183327Z",
     "iopub.status.busy": "2023-02-12T17:16:07.182032Z",
     "iopub.status.idle": "2023-02-12T17:16:07.188554Z",
     "shell.execute_reply": "2023-02-12T17:16:07.187527Z"
    },
    "papermill": {
     "duration": 0.053837,
     "end_time": "2023-02-12T17:16:07.191085",
     "exception": false,
     "start_time": "2023-02-12T17:16:07.137248",
     "status": "completed"
    },
    "tags": []
   },
   "outputs": [],
   "source": [
    "TP = confusion[1,1] # true positive \n",
    "TN = confusion[0,0] # true negatives\n",
    "FP = confusion[0,1] # false positives\n",
    "FN = confusion[1,0] # false negatives"
   ]
  },
  {
   "cell_type": "code",
   "execution_count": 90,
   "id": "af39600f",
   "metadata": {
    "execution": {
     "iopub.execute_input": "2023-02-12T17:16:07.279202Z",
     "iopub.status.busy": "2023-02-12T17:16:07.278311Z",
     "iopub.status.idle": "2023-02-12T17:16:07.287255Z",
     "shell.execute_reply": "2023-02-12T17:16:07.286235Z"
    },
    "papermill": {
     "duration": 0.055897,
     "end_time": "2023-02-12T17:16:07.289553",
     "exception": false,
     "start_time": "2023-02-12T17:16:07.233656",
     "status": "completed"
    },
    "tags": []
   },
   "outputs": [
    {
     "name": "stdout",
     "output_type": "stream",
     "text": [
      "Accuracy:- 0.9435608999224204\n",
      "Sensitivity:- 0.977729849024427\n",
      "Specificity:- 0.937653608867934\n"
     ]
    }
   ],
   "source": [
    "accuracy_test=metrics.accuracy_score(y_test, y_pred_on_test)\n",
    "sensitivity_test = TP / float(TP+FN)\n",
    "specificity_test = TN / float(TN+FP)\n",
    "print(\"Accuracy:-\",accuracy_test)\n",
    "print(\"Sensitivity:-\",sensitivity_test)\n",
    "print(\"Specificity:-\", specificity_test)"
   ]
  },
  {
   "cell_type": "code",
   "execution_count": 91,
   "id": "4275f6c1",
   "metadata": {
    "execution": {
     "iopub.execute_input": "2023-02-12T17:16:07.378213Z",
     "iopub.status.busy": "2023-02-12T17:16:07.377395Z",
     "iopub.status.idle": "2023-02-12T17:16:07.387597Z",
     "shell.execute_reply": "2023-02-12T17:16:07.386110Z"
    },
    "papermill": {
     "duration": 0.057973,
     "end_time": "2023-02-12T17:16:07.390761",
     "exception": false,
     "start_time": "2023-02-12T17:16:07.332788",
     "status": "completed"
    },
    "tags": []
   },
   "outputs": [
    {
     "name": "stdout",
     "output_type": "stream",
     "text": [
      "+-------------+-----------+----------+\n",
      "|             | Train-set | Test-set |\n",
      "+-------------+-----------+----------+\n",
      "|   Accuracy  |   0.958   |  0.944   |\n",
      "| Sensitivity |   0.978   |  0.978   |\n",
      "| Specificity |   0.938   |  0.938   |\n",
      "+-------------+-----------+----------+\n"
     ]
    }
   ],
   "source": [
    "from prettytable import PrettyTable \n",
    "x = PrettyTable() \n",
    "x.field_names=['','Train-set','Test-set'] \n",
    "x.add_row(['Accuracy',round(accuracy_train,3),round(accuracy_test,3)])\n",
    "x.add_row(['Sensitivity',round(sensitivity_train,3),round(sensitivity_test,3)])\n",
    "x.add_row(['Specificity',round(specificity_train,3),round(specificity_test,3)])\n",
    "print(x)"
   ]
  },
  {
   "cell_type": "markdown",
   "id": "aa7b9eee",
   "metadata": {
    "papermill": {
     "duration": 0.042922,
     "end_time": "2023-02-12T17:16:07.477379",
     "exception": false,
     "start_time": "2023-02-12T17:16:07.434457",
     "status": "completed"
    },
    "tags": []
   },
   "source": [
    "There is no much differences of accuracy, sensitivty and specificity in train and test set. accuracy is little less in test set than train set."
   ]
  },
  {
   "cell_type": "markdown",
   "id": "8992b5da",
   "metadata": {
    "papermill": {
     "duration": 0.043779,
     "end_time": "2023-02-12T17:16:07.564220",
     "exception": false,
     "start_time": "2023-02-12T17:16:07.520441",
     "status": "completed"
    },
    "tags": []
   },
   "source": [
    "#### Xgboost"
   ]
  },
  {
   "cell_type": "code",
   "execution_count": 92,
   "id": "3be91088",
   "metadata": {
    "execution": {
     "iopub.execute_input": "2023-02-12T17:16:07.652971Z",
     "iopub.status.busy": "2023-02-12T17:16:07.652459Z",
     "iopub.status.idle": "2023-02-12T17:16:07.783510Z",
     "shell.execute_reply": "2023-02-12T17:16:07.782025Z"
    },
    "papermill": {
     "duration": 0.179182,
     "end_time": "2023-02-12T17:16:07.786674",
     "exception": false,
     "start_time": "2023-02-12T17:16:07.607492",
     "status": "completed"
    },
    "tags": []
   },
   "outputs": [],
   "source": [
    "from xgboost import XGBClassifier"
   ]
  },
  {
   "cell_type": "code",
   "execution_count": 93,
   "id": "0fa0d085",
   "metadata": {
    "execution": {
     "iopub.execute_input": "2023-02-12T17:16:07.876866Z",
     "iopub.status.busy": "2023-02-12T17:16:07.875903Z",
     "iopub.status.idle": "2023-02-12T17:33:55.031394Z",
     "shell.execute_reply": "2023-02-12T17:33:55.030325Z"
    },
    "papermill": {
     "duration": 1067.254446,
     "end_time": "2023-02-12T17:33:55.084104",
     "exception": false,
     "start_time": "2023-02-12T17:16:07.829658",
     "status": "completed"
    },
    "tags": []
   },
   "outputs": [
    {
     "name": "stdout",
     "output_type": "stream",
     "text": [
      "XGBClassifier(base_score=0.5, booster='gbtree', callbacks=None,\n",
      "              colsample_bylevel=1, colsample_bynode=1, colsample_bytree=1,\n",
      "              early_stopping_rounds=None, enable_categorical=False,\n",
      "              eval_metric=None, gamma=0, gpu_id=-1, grow_policy='depthwise',\n",
      "              importance_type=None, interaction_constraints='',\n",
      "              learning_rate=0.300000012, max_bin=256, max_cat_to_onehot=4,\n",
      "              max_delta_step=0, max_depth=6, max_leaves=0, min_child_weight=1,\n",
      "              missing=nan, monotone_constraints='()', n_estimators=500,\n",
      "              n_jobs=0, num_parallel_tree=1, predictor='auto', random_state=0,\n",
      "              reg_alpha=0, reg_lambda=1, ...)\n",
      "0.7353760445682451\n"
     ]
    }
   ],
   "source": [
    "# Hyperparameter tuning\n",
    "depth = [5,20,50,100,150,200]\n",
    "base_learners = [100, 200, 300, 400, 500]\n",
    "param_grid = {'n_estimators':base_learners}\n",
    "grid_search_cv = GridSearchCV(XGBClassifier(), param_grid, scoring = 'f1',cv=5)\n",
    "grid_search_cv.fit(X_pca_train_set, y_train)\n",
    "print(grid_search_cv.best_estimator_)\n",
    "print(grid_search_cv.score(X_pca_test_set, y_test))"
   ]
  },
  {
   "cell_type": "code",
   "execution_count": 94,
   "id": "fbbceeba",
   "metadata": {
    "execution": {
     "iopub.execute_input": "2023-02-12T17:33:55.177615Z",
     "iopub.status.busy": "2023-02-12T17:33:55.177155Z",
     "iopub.status.idle": "2023-02-12T17:33:55.684926Z",
     "shell.execute_reply": "2023-02-12T17:33:55.683608Z"
    },
    "papermill": {
     "duration": 0.557844,
     "end_time": "2023-02-12T17:33:55.687912",
     "exception": false,
     "start_time": "2023-02-12T17:33:55.130068",
     "status": "completed"
    },
    "tags": []
   },
   "outputs": [
    {
     "data": {
      "image/png": "[encoded data removed]",
      "text/plain": [
       "<Figure size 432x288 with 1 Axes>"
      ]
     },
     "metadata": {},
     "output_type": "display_data"
    }
   ],
   "source": [
    "# Auc-Error plots\n",
    "y_train_proba=grid_search_cv.predict_proba(X_pca_train_set)\n",
    "y_train_proba=y_train_proba[:,1]\n",
    "y_test_proba=grid_search_cv.predict_proba(X_pca_test_set)\n",
    "y_test_proba=y_test_proba[:,1]\n",
    "train_fpr, train_tpr, thresholds = roc_curve(y_train, y_train_proba)\n",
    "test_fpr, test_tpr, thresholds = roc_curve(y_test, y_test_proba)\n",
    "\n",
    "plt.plot(train_fpr, train_tpr, label=\"train AUC =\"+str(auc(train_fpr, train_tpr)))\n",
    "plt.plot(test_fpr, test_tpr, label=\"test AUC =\"+str(auc(test_fpr, test_tpr)))\n",
    "plt.legend()\n",
    "plt.xlabel(\"alpha: hyperparameter\")\n",
    "plt.ylabel(\"AUC\")\n",
    "plt.title(\"ERROR PLOTS\")\n",
    "plt.show()"
   ]
  },
  {
   "cell_type": "code",
   "execution_count": 95,
   "id": "456c80a3",
   "metadata": {
    "execution": {
     "iopub.execute_input": "2023-02-12T17:33:55.782263Z",
     "iopub.status.busy": "2023-02-12T17:33:55.780971Z",
     "iopub.status.idle": "2023-02-12T17:33:56.560583Z",
     "shell.execute_reply": "2023-02-12T17:33:56.559517Z"
    },
    "papermill": {
     "duration": 0.829909,
     "end_time": "2023-02-12T17:33:56.563315",
     "exception": false,
     "start_time": "2023-02-12T17:33:55.733406",
     "status": "completed"
    },
    "tags": []
   },
   "outputs": [
    {
     "data": {
      "image/png": "[encoded data removed]",
      "text/plain": [
       "<Figure size 432x288 with 2 Axes>"
      ]
     },
     "metadata": {},
     "output_type": "display_data"
    },
    {
     "data": {
      "image/png": "[encoded data removed]",
      "text/plain": [
       "<Figure size 432x288 with 2 Axes>"
      ]
     },
     "metadata": {},
     "output_type": "display_data"
    }
   ],
   "source": [
    "# Confusion Matrix\n",
    "y_pred_test = grid_search_cv.predict(X_pca_test_set)\n",
    "y_pred_train=grid_search_cv.predict(X_pca_train_set)\n",
    "draw_confusion_matrix(confusion_matrix(y_train, y_pred_train), [\"negative\", \"positive\"])\n",
    "plt.show()\n",
    "draw_confusion_matrix(confusion_matrix(y_test, y_pred_test), [\"negative\", \"positive\"])\n",
    "plt.show()"
   ]
  },
  {
   "cell_type": "code",
   "execution_count": 96,
   "id": "5b563e60",
   "metadata": {
    "execution": {
     "iopub.execute_input": "2023-02-12T17:33:56.658068Z",
     "iopub.status.busy": "2023-02-12T17:33:56.657328Z",
     "iopub.status.idle": "2023-02-12T17:33:56.666777Z",
     "shell.execute_reply": "2023-02-12T17:33:56.665064Z"
    },
    "papermill": {
     "duration": 0.059526,
     "end_time": "2023-02-12T17:33:56.669458",
     "exception": false,
     "start_time": "2023-02-12T17:33:56.609932",
     "status": "completed"
    },
    "tags": []
   },
   "outputs": [
    {
     "name": "stdout",
     "output_type": "stream",
     "text": [
      "+------------------------------+-------+\n",
      "|            Model             |  Auc  |\n",
      "+------------------------------+-------+\n",
      "|    Decision Tree With PCA    | 0.964 |\n",
      "| Logistic Regression With PCA |  0.89 |\n",
      "|   Random forests With PCA    | 0.961 |\n",
      "|       Xgboost With PCA       | 0.994 |\n",
      "+------------------------------+-------+\n"
     ]
    }
   ],
   "source": [
    "from prettytable import PrettyTable \n",
    "x = PrettyTable() \n",
    "x.field_names=['Model','Auc'] \n",
    "x.add_row(['Decision Tree With PCA',0.964])\n",
    "x.add_row(['Logistic Regression With PCA',0.89])\n",
    "x.add_row(['Random forests With PCA',0.961])\n",
    "x.add_row(['Xgboost With PCA',0.994]) \n",
    "print(x)"
   ]
  },
  {
   "cell_type": "code",
   "execution_count": 97,
   "id": "744eba22",
   "metadata": {
    "execution": {
     "iopub.execute_input": "2023-02-12T17:33:56.762212Z",
     "iopub.status.busy": "2023-02-12T17:33:56.761168Z",
     "iopub.status.idle": "2023-02-12T17:33:56.798595Z",
     "shell.execute_reply": "2023-02-12T17:33:56.797241Z"
    },
    "papermill": {
     "duration": 0.087091,
     "end_time": "2023-02-12T17:33:56.801748",
     "exception": false,
     "start_time": "2023-02-12T17:33:56.714657",
     "status": "completed"
    },
    "tags": []
   },
   "outputs": [],
   "source": [
    "final_df= clean_df[['id','churn_probability']]\n",
    "final_df.to_csv(\"/kaggle/working/Submission.csv\",index=False)"
   ]
  },
  {
   "cell_type": "markdown",
   "id": "3f0dcc36",
   "metadata": {
    "papermill": {
     "duration": 0.046407,
     "end_time": "2023-02-12T17:33:56.894104",
     "exception": false,
     "start_time": "2023-02-12T17:33:56.847697",
     "status": "completed"
    },
    "tags": []
   },
   "source": [
    "XgBoost did better though There is no very big difference."
   ]
  }
 ],
 "metadata": {
  "kernelspec": {
   "display_name": "Python 3",
   "language": "python",
   "name": "python3"
  },
  "language_info": {
   "codemirror_mode": {
    "name": "ipython",
    "version": 3
   },
   "file_extension": ".py",
   "mimetype": "text/x-python",
   "name": "python",
   "nbconvert_exporter": "python",
   "pygments_lexer": "ipython3",
   "version": "3.7.12"
  },
  "papermill": {
   "default_parameters": {},
   "duration": 2440.047041,
   "end_time": "2023-02-12T17:33:59.573383",
   "environment_variables": {},
   "exception": null,
   "input_path": "__notebook__.ipynb",
   "output_path": "__notebook__.ipynb",
   "parameters": {},
   "start_time": "2023-02-12T16:53:19.526342",
   "version": "2.3.4"
  }
 },
 "nbformat": 4,
 "nbformat_minor": 5
}
